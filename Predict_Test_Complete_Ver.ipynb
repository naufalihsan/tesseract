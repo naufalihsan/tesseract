{
  "nbformat": 4,
  "nbformat_minor": 0,
  "metadata": {
    "colab": {
      "name": "Predict Text DOKU",
      "provenance": [],
      "collapsed_sections": [
        "euKNAS9-jpgI",
        "5bNRiT74ji6S",
        "PTpenWS-iOpX",
        "JNnMqD9kjXEq",
        "kIs9i3JwjI-k",
        "9vrWZTeqipnX",
        "gRhTY_DRikCM"
      ],
      "authorship_tag": "ABX9TyPkwicBpGlWiyXMLNfrpXYS",
      "include_colab_link": true
    },
    "kernelspec": {
      "name": "python3",
      "display_name": "Python 3"
    }
  },
  "cells": [
    {
      "cell_type": "markdown",
      "metadata": {
        "id": "view-in-github",
        "colab_type": "text"
      },
      "source": [
        "<a href=\"https://colab.research.google.com/github/naufalihsan/tesseract/blob/master/Predict_Test_Complete_Ver.ipynb\" target=\"_parent\"><img src=\"https://colab.research.google.com/assets/colab-badge.svg\" alt=\"Open In Colab\"/></a>"
      ]
    },
    {
      "cell_type": "markdown",
      "metadata": {
        "id": "euKNAS9-jpgI",
        "colab_type": "text"
      },
      "source": [
        "## Import Library"
      ]
    },
    {
      "cell_type": "code",
      "metadata": {
        "id": "gLHpxLzyh6S5",
        "colab_type": "code",
        "colab": {}
      },
      "source": [
        "import pandas as pd\n",
        "import numpy as np"
      ],
      "execution_count": 0,
      "outputs": []
    },
    {
      "cell_type": "code",
      "metadata": {
        "id": "-2rbaFV2kYTR",
        "colab_type": "code",
        "colab": {}
      },
      "source": [
        "from string import punctuation\n",
        "from joblib import load"
      ],
      "execution_count": 0,
      "outputs": []
    },
    {
      "cell_type": "code",
      "metadata": {
        "id": "dEM96dROjw2T",
        "colab_type": "code",
        "colab": {}
      },
      "source": [
        "from google.colab import files"
      ],
      "execution_count": 0,
      "outputs": []
    },
    {
      "cell_type": "code",
      "metadata": {
        "id": "_h3IcRm7jxXw",
        "colab_type": "code",
        "colab": {}
      },
      "source": [
        "from sklearn.feature_extraction.text import TfidfTransformer\n",
        "from sklearn.ensemble import GradientBoostingClassifier\n",
        "from sklearn.metrics import classification_report\n",
        "from sklearn.model_selection import GridSearchCV, train_test_split, cross_val_score\n",
        "from sklearn.pipeline import Pipeline\n",
        "from sklearn.preprocessing import LabelEncoder"
      ],
      "execution_count": 0,
      "outputs": []
    },
    {
      "cell_type": "code",
      "metadata": {
        "id": "uTxOJss8kWPB",
        "colab_type": "code",
        "colab": {}
      },
      "source": [
        "from keras.preprocessing.text import Tokenizer\n",
        "from keras.preprocessing import sequence\n",
        "from keras.models import Sequential\n",
        "from keras.layers import Flatten\n",
        "from keras.layers import Embedding, LSTM, Dense, Dropout, Conv1D, MaxPool1D, SpatialDropout1D\n",
        "from keras.preprocessing import sequence\n",
        "from keras.callbacks import ReduceLROnPlateau, EarlyStopping\n",
        "from keras.constraints import max_norm"
      ],
      "execution_count": 0,
      "outputs": []
    },
    {
      "cell_type": "code",
      "metadata": {
        "id": "TTfDHAVxkgzE",
        "colab_type": "code",
        "colab": {}
      },
      "source": [
        "!pip install talos"
      ],
      "execution_count": 0,
      "outputs": []
    },
    {
      "cell_type": "code",
      "metadata": {
        "id": "nbB5cCD6khge",
        "colab_type": "code",
        "colab": {}
      },
      "source": [
        "import talos"
      ],
      "execution_count": 0,
      "outputs": []
    },
    {
      "cell_type": "markdown",
      "metadata": {
        "id": "5bNRiT74ji6S",
        "colab_type": "text"
      },
      "source": [
        "## Load Data"
      ]
    },
    {
      "cell_type": "code",
      "metadata": {
        "id": "SS_RuWeOiFhz",
        "colab_type": "code",
        "outputId": "018bbc35-65ed-4574-e3c7-34bd76416654",
        "colab": {
          "resources": {
            "http://localhost:8080/nbextensions/google.colab/files.js": {
              "data": "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",
              "ok": true,
              "headers": [
                [
                  "content-type",
                  "application/javascript"
                ]
              ],
              "status": 200,
              "status_text": ""
            }
          },
          "base_uri": "https://localhost:8080/",
          "height": 74
        }
      },
      "source": [
        "uploaded = files.upload()"
      ],
      "execution_count": 9,
      "outputs": [
        {
          "output_type": "display_data",
          "data": {
            "text/html": [
              "\n",
              "     <input type=\"file\" id=\"files-de6e1313-fe87-4ede-94f8-3b4aee1aa596\" name=\"files[]\" multiple disabled />\n",
              "     <output id=\"result-de6e1313-fe87-4ede-94f8-3b4aee1aa596\">\n",
              "      Upload widget is only available when the cell has been executed in the\n",
              "      current browser session. Please rerun this cell to enable.\n",
              "      </output>\n",
              "      <script src=\"/nbextensions/google.colab/files.js\"></script> "
            ],
            "text/plain": [
              "<IPython.core.display.HTML object>"
            ]
          },
          "metadata": {
            "tags": []
          }
        },
        {
          "output_type": "stream",
          "text": [
            "Saving dw_customer_5000.csv to dw_customer_5000.csv\n"
          ],
          "name": "stdout"
        }
      ]
    },
    {
      "cell_type": "code",
      "metadata": {
        "id": "7zrgL3DniTEC",
        "colab_type": "code",
        "colab": {}
      },
      "source": [
        "df = pd.read_csv('dw_customer_5000.csv', delimiter='|')"
      ],
      "execution_count": 0,
      "outputs": []
    },
    {
      "cell_type": "markdown",
      "metadata": {
        "id": "PTpenWS-iOpX",
        "colab_type": "text"
      },
      "source": [
        "## Cleaning Data"
      ]
    },
    {
      "cell_type": "code",
      "metadata": {
        "id": "SJCVb0Flidpv",
        "colab_type": "code",
        "colab": {}
      },
      "source": [
        "df = df.dropna()\n",
        "df = df.drop(columns=['ic_number'])"
      ],
      "execution_count": 0,
      "outputs": []
    },
    {
      "cell_type": "code",
      "metadata": {
        "id": "fy5HFpGRiicz",
        "colab_type": "code",
        "outputId": "9e2faea2-4240-443f-f5df-a9823467be2c",
        "colab": {
          "base_uri": "https://localhost:8080/",
          "height": 221
        }
      },
      "source": [
        "df.info()"
      ],
      "execution_count": 12,
      "outputs": [
        {
          "output_type": "stream",
          "text": [
            "<class 'pandas.core.frame.DataFrame'>\n",
            "Int64Index: 4987 entries, 0 to 4999\n",
            "Data columns (total 5 columns):\n",
            " #   Column          Non-Null Count  Dtype \n",
            "---  ------          --------------  ----- \n",
            " 0   customer_name   4987 non-null   object\n",
            " 1   address         4987 non-null   object\n",
            " 2   place_of_birth  4987 non-null   object\n",
            " 3   birth_date      4987 non-null   object\n",
            " 4   gender          4987 non-null   object\n",
            "dtypes: object(5)\n",
            "memory usage: 233.8+ KB\n"
          ],
          "name": "stdout"
        }
      ]
    },
    {
      "cell_type": "code",
      "metadata": {
        "id": "daAAKUVWizly",
        "colab_type": "code",
        "outputId": "877f88b5-8e15-4a85-9b56-238265652e90",
        "colab": {
          "base_uri": "https://localhost:8080/",
          "height": 204
        }
      },
      "source": [
        "df.head()"
      ],
      "execution_count": 13,
      "outputs": [
        {
          "output_type": "execute_result",
          "data": {
            "text/html": [
              "<div>\n",
              "<style scoped>\n",
              "    .dataframe tbody tr th:only-of-type {\n",
              "        vertical-align: middle;\n",
              "    }\n",
              "\n",
              "    .dataframe tbody tr th {\n",
              "        vertical-align: top;\n",
              "    }\n",
              "\n",
              "    .dataframe thead th {\n",
              "        text-align: right;\n",
              "    }\n",
              "</style>\n",
              "<table border=\"1\" class=\"dataframe\">\n",
              "  <thead>\n",
              "    <tr style=\"text-align: right;\">\n",
              "      <th></th>\n",
              "      <th>customer_name</th>\n",
              "      <th>address</th>\n",
              "      <th>place_of_birth</th>\n",
              "      <th>birth_date</th>\n",
              "      <th>gender</th>\n",
              "    </tr>\n",
              "  </thead>\n",
              "  <tbody>\n",
              "    <tr>\n",
              "      <th>0</th>\n",
              "      <td>Nur Sholihin</td>\n",
              "      <td>Desa Mencon Rt 05 Rw 02 kecamatan Pucakwangi k...</td>\n",
              "      <td>pati</td>\n",
              "      <td>2001-06-20 00:00:00</td>\n",
              "      <td>M</td>\n",
              "    </tr>\n",
              "    <tr>\n",
              "      <th>1</th>\n",
              "      <td>operius waruwu</td>\n",
              "      <td>JL.JATI GG KELUARGA KOMPLEK ZIPUR</td>\n",
              "      <td>SIHAREO III</td>\n",
              "      <td>1991-08-02 00:00:00</td>\n",
              "      <td>M</td>\n",
              "    </tr>\n",
              "    <tr>\n",
              "      <th>2</th>\n",
              "      <td>Fika Ahsan Nugroho</td>\n",
              "      <td>Dsn.Blaring , 004/002 , Ds.Panggungsari , Dure...</td>\n",
              "      <td>Tulungagung</td>\n",
              "      <td>1997-10-29 00:00:00</td>\n",
              "      <td>M</td>\n",
              "    </tr>\n",
              "    <tr>\n",
              "      <th>3</th>\n",
              "      <td>ikhsan fuzan nasrullah</td>\n",
              "      <td>Jln Moch Ramdhan no 28 kec Ciparay</td>\n",
              "      <td>Bandung</td>\n",
              "      <td>1994-07-25 00:00:00</td>\n",
              "      <td>M</td>\n",
              "    </tr>\n",
              "    <tr>\n",
              "      <th>4</th>\n",
              "      <td>sarbini</td>\n",
              "      <td>desa pulau ku,u</td>\n",
              "      <td>tabalong</td>\n",
              "      <td>1992-12-30 00:00:00</td>\n",
              "      <td>M</td>\n",
              "    </tr>\n",
              "  </tbody>\n",
              "</table>\n",
              "</div>"
            ],
            "text/plain": [
              "            customer_name  ... gender\n",
              "0            Nur Sholihin  ...      M\n",
              "1          operius waruwu  ...      M\n",
              "2      Fika Ahsan Nugroho  ...      M\n",
              "3  ikhsan fuzan nasrullah  ...      M\n",
              "4                 sarbini  ...      M\n",
              "\n",
              "[5 rows x 5 columns]"
            ]
          },
          "metadata": {
            "tags": []
          },
          "execution_count": 13
        }
      ]
    },
    {
      "cell_type": "code",
      "metadata": {
        "id": "AZcIuI8RjBUn",
        "colab_type": "code",
        "colab": {}
      },
      "source": [
        "name = df.customer_name"
      ],
      "execution_count": 0,
      "outputs": []
    },
    {
      "cell_type": "code",
      "metadata": {
        "id": "nralUf1hjRdI",
        "colab_type": "code",
        "colab": {}
      },
      "source": [
        "def clean_name(name):\n",
        "  return name.lower()"
      ],
      "execution_count": 0,
      "outputs": []
    },
    {
      "cell_type": "code",
      "metadata": {
        "id": "cL0FpqrIjomv",
        "colab_type": "code",
        "colab": {}
      },
      "source": [
        "name = name.apply(clean_name)"
      ],
      "execution_count": 0,
      "outputs": []
    },
    {
      "cell_type": "code",
      "metadata": {
        "id": "mI0wDYaEjs2j",
        "colab_type": "code",
        "colab": {}
      },
      "source": [
        "nf = { 'entity': name, 'category': 'nama' } \n",
        "df1 = pd.DataFrame(nf) "
      ],
      "execution_count": 0,
      "outputs": []
    },
    {
      "cell_type": "code",
      "metadata": {
        "id": "p9bj4s42AN3t",
        "colab_type": "code",
        "colab": {}
      },
      "source": [
        "rnf = pd.DataFrame({ 'entity': ['annisa febriyanti','vivin putri'], 'category': ['nama','nama'] } ) \n",
        "df1 = df1.append(rnf,ignore_index=True)"
      ],
      "execution_count": 0,
      "outputs": []
    },
    {
      "cell_type": "code",
      "metadata": {
        "id": "BV10QJbuj9uy",
        "colab_type": "code",
        "colab": {}
      },
      "source": [
        "address = df.address"
      ],
      "execution_count": 0,
      "outputs": []
    },
    {
      "cell_type": "code",
      "metadata": {
        "id": "pnXS7qUfkHQb",
        "colab_type": "code",
        "colab": {}
      },
      "source": [
        "import re\n",
        "\n",
        "def clean_address(addr):\n",
        "  return re.sub('[^A-Za-z]+', ' ', addr).lower()"
      ],
      "execution_count": 0,
      "outputs": []
    },
    {
      "cell_type": "code",
      "metadata": {
        "id": "tH_wYn8Nkplt",
        "colab_type": "code",
        "colab": {}
      },
      "source": [
        "address = address.apply(clean_address)"
      ],
      "execution_count": 0,
      "outputs": []
    },
    {
      "cell_type": "code",
      "metadata": {
        "id": "hehKQICOlCDC",
        "colab_type": "code",
        "colab": {}
      },
      "source": [
        "af = { 'entity': address, 'category': 'alamat' } \n",
        "df2 = pd.DataFrame(af) "
      ],
      "execution_count": 0,
      "outputs": []
    },
    {
      "cell_type": "code",
      "metadata": {
        "id": "m8zshkr2lLHB",
        "colab_type": "code",
        "colab": {}
      },
      "source": [
        "birthday = df.place_of_birth + ' ' + df.birth_date"
      ],
      "execution_count": 0,
      "outputs": []
    },
    {
      "cell_type": "code",
      "metadata": {
        "id": "zrC_Toutlqxi",
        "colab_type": "code",
        "colab": {}
      },
      "source": [
        "def clean_birthday(birth):\n",
        "  ttl = birth.strip().split(\" \")\n",
        "  ttl[0] = ttl[0].lower()\n",
        "  ttl[-2] = rearrange_birthday(ttl[-2])\n",
        "  return ' '.join(ttl[:-1])\n",
        "\n",
        "def rearrange_birthday(date):\n",
        "  dates = date.split(\"-\")\n",
        "  return f'{dates[2]} {dates[1]} {dates[0]}'"
      ],
      "execution_count": 0,
      "outputs": []
    },
    {
      "cell_type": "code",
      "metadata": {
        "id": "kC53ahYAlrxa",
        "colab_type": "code",
        "colab": {}
      },
      "source": [
        "birthday = birthday.apply(clean_birthday)"
      ],
      "execution_count": 0,
      "outputs": []
    },
    {
      "cell_type": "code",
      "metadata": {
        "id": "1fN7VS7jnZ1T",
        "colab_type": "code",
        "colab": {}
      },
      "source": [
        "bf = { 'entity': birthday, 'category': 'ttl' } \n",
        "df3 = pd.DataFrame(bf) "
      ],
      "execution_count": 0,
      "outputs": []
    },
    {
      "cell_type": "code",
      "metadata": {
        "id": "2NMZF1GVnf7V",
        "colab_type": "code",
        "colab": {}
      },
      "source": [
        "# icf = { 'entity': df.ic_number, 'category': 'nik' }\n",
        "# df4 = pd.DataFrame(icf)"
      ],
      "execution_count": 0,
      "outputs": []
    },
    {
      "cell_type": "code",
      "metadata": {
        "id": "4Wm5rxGtoEuO",
        "colab_type": "code",
        "colab": {}
      },
      "source": [
        "gender = df.gender"
      ],
      "execution_count": 0,
      "outputs": []
    },
    {
      "cell_type": "code",
      "metadata": {
        "id": "EFTiwEinoQxM",
        "colab_type": "code",
        "colab": {}
      },
      "source": [
        "import random\n",
        "\n",
        "def clean_gender(gender):\n",
        "  m_list = ['pria','laki laki']\n",
        "  f_list = ['wanita','perempuan']\n",
        "  if gender == 'M':\n",
        "    return random.choice(m_list)\n",
        "  return random.choice(f_list)"
      ],
      "execution_count": 0,
      "outputs": []
    },
    {
      "cell_type": "code",
      "metadata": {
        "id": "G5upuwjUoz4_",
        "colab_type": "code",
        "colab": {}
      },
      "source": [
        "gender = gender.apply(clean_gender)"
      ],
      "execution_count": 0,
      "outputs": []
    },
    {
      "cell_type": "code",
      "metadata": {
        "id": "ESM-5ECAo5xQ",
        "colab_type": "code",
        "colab": {}
      },
      "source": [
        "gf = { 'entity': gender, 'category': 'gender' } \n",
        "df5 = pd.DataFrame(gf)"
      ],
      "execution_count": 0,
      "outputs": []
    },
    {
      "cell_type": "code",
      "metadata": {
        "id": "8kUDuzc9pBY7",
        "colab_type": "code",
        "outputId": "66b139ef-542d-42e0-900d-be76bf378b61",
        "colab": {
          "base_uri": "https://localhost:8080/",
          "height": 765
        }
      },
      "source": [
        "display(df1.tail())\n",
        "display(df2.head())\n",
        "display(df3.head())\n",
        "# display(df4.head())\n",
        "display(df5.head())"
      ],
      "execution_count": 32,
      "outputs": [
        {
          "output_type": "display_data",
          "data": {
            "text/html": [
              "<div>\n",
              "<style scoped>\n",
              "    .dataframe tbody tr th:only-of-type {\n",
              "        vertical-align: middle;\n",
              "    }\n",
              "\n",
              "    .dataframe tbody tr th {\n",
              "        vertical-align: top;\n",
              "    }\n",
              "\n",
              "    .dataframe thead th {\n",
              "        text-align: right;\n",
              "    }\n",
              "</style>\n",
              "<table border=\"1\" class=\"dataframe\">\n",
              "  <thead>\n",
              "    <tr style=\"text-align: right;\">\n",
              "      <th></th>\n",
              "      <th>entity</th>\n",
              "      <th>category</th>\n",
              "    </tr>\n",
              "  </thead>\n",
              "  <tbody>\n",
              "    <tr>\n",
              "      <th>4984</th>\n",
              "      <td>agus susanto</td>\n",
              "      <td>nama</td>\n",
              "    </tr>\n",
              "    <tr>\n",
              "      <th>4985</th>\n",
              "      <td>rb bambang bandoro</td>\n",
              "      <td>nama</td>\n",
              "    </tr>\n",
              "    <tr>\n",
              "      <th>4986</th>\n",
              "      <td>i ketut seridata</td>\n",
              "      <td>nama</td>\n",
              "    </tr>\n",
              "    <tr>\n",
              "      <th>4987</th>\n",
              "      <td>annisa febriyanti</td>\n",
              "      <td>nama</td>\n",
              "    </tr>\n",
              "    <tr>\n",
              "      <th>4988</th>\n",
              "      <td>vivin putri</td>\n",
              "      <td>nama</td>\n",
              "    </tr>\n",
              "  </tbody>\n",
              "</table>\n",
              "</div>"
            ],
            "text/plain": [
              "                  entity category\n",
              "4984        agus susanto     nama\n",
              "4985  rb bambang bandoro     nama\n",
              "4986    i ketut seridata     nama\n",
              "4987   annisa febriyanti     nama\n",
              "4988         vivin putri     nama"
            ]
          },
          "metadata": {
            "tags": []
          }
        },
        {
          "output_type": "display_data",
          "data": {
            "text/html": [
              "<div>\n",
              "<style scoped>\n",
              "    .dataframe tbody tr th:only-of-type {\n",
              "        vertical-align: middle;\n",
              "    }\n",
              "\n",
              "    .dataframe tbody tr th {\n",
              "        vertical-align: top;\n",
              "    }\n",
              "\n",
              "    .dataframe thead th {\n",
              "        text-align: right;\n",
              "    }\n",
              "</style>\n",
              "<table border=\"1\" class=\"dataframe\">\n",
              "  <thead>\n",
              "    <tr style=\"text-align: right;\">\n",
              "      <th></th>\n",
              "      <th>entity</th>\n",
              "      <th>category</th>\n",
              "    </tr>\n",
              "  </thead>\n",
              "  <tbody>\n",
              "    <tr>\n",
              "      <th>0</th>\n",
              "      <td>desa mencon rt rw kecamatan pucakwangi kabupat...</td>\n",
              "      <td>alamat</td>\n",
              "    </tr>\n",
              "    <tr>\n",
              "      <th>1</th>\n",
              "      <td>jl jati gg keluarga komplek zipur</td>\n",
              "      <td>alamat</td>\n",
              "    </tr>\n",
              "    <tr>\n",
              "      <th>2</th>\n",
              "      <td>dsn blaring ds panggungsari durenan trenggalek</td>\n",
              "      <td>alamat</td>\n",
              "    </tr>\n",
              "    <tr>\n",
              "      <th>3</th>\n",
              "      <td>jln moch ramdhan no kec ciparay</td>\n",
              "      <td>alamat</td>\n",
              "    </tr>\n",
              "    <tr>\n",
              "      <th>4</th>\n",
              "      <td>desa pulau ku u</td>\n",
              "      <td>alamat</td>\n",
              "    </tr>\n",
              "  </tbody>\n",
              "</table>\n",
              "</div>"
            ],
            "text/plain": [
              "                                              entity category\n",
              "0  desa mencon rt rw kecamatan pucakwangi kabupat...   alamat\n",
              "1                  jl jati gg keluarga komplek zipur   alamat\n",
              "2     dsn blaring ds panggungsari durenan trenggalek   alamat\n",
              "3                    jln moch ramdhan no kec ciparay   alamat\n",
              "4                                    desa pulau ku u   alamat"
            ]
          },
          "metadata": {
            "tags": []
          }
        },
        {
          "output_type": "display_data",
          "data": {
            "text/html": [
              "<div>\n",
              "<style scoped>\n",
              "    .dataframe tbody tr th:only-of-type {\n",
              "        vertical-align: middle;\n",
              "    }\n",
              "\n",
              "    .dataframe tbody tr th {\n",
              "        vertical-align: top;\n",
              "    }\n",
              "\n",
              "    .dataframe thead th {\n",
              "        text-align: right;\n",
              "    }\n",
              "</style>\n",
              "<table border=\"1\" class=\"dataframe\">\n",
              "  <thead>\n",
              "    <tr style=\"text-align: right;\">\n",
              "      <th></th>\n",
              "      <th>entity</th>\n",
              "      <th>category</th>\n",
              "    </tr>\n",
              "  </thead>\n",
              "  <tbody>\n",
              "    <tr>\n",
              "      <th>0</th>\n",
              "      <td>pati 20 06 2001</td>\n",
              "      <td>ttl</td>\n",
              "    </tr>\n",
              "    <tr>\n",
              "      <th>1</th>\n",
              "      <td>sihareo III 02 08 1991</td>\n",
              "      <td>ttl</td>\n",
              "    </tr>\n",
              "    <tr>\n",
              "      <th>2</th>\n",
              "      <td>tulungagung 29 10 1997</td>\n",
              "      <td>ttl</td>\n",
              "    </tr>\n",
              "    <tr>\n",
              "      <th>3</th>\n",
              "      <td>bandung 25 07 1994</td>\n",
              "      <td>ttl</td>\n",
              "    </tr>\n",
              "    <tr>\n",
              "      <th>4</th>\n",
              "      <td>tabalong 30 12 1992</td>\n",
              "      <td>ttl</td>\n",
              "    </tr>\n",
              "  </tbody>\n",
              "</table>\n",
              "</div>"
            ],
            "text/plain": [
              "                   entity category\n",
              "0         pati 20 06 2001      ttl\n",
              "1  sihareo III 02 08 1991      ttl\n",
              "2  tulungagung 29 10 1997      ttl\n",
              "3      bandung 25 07 1994      ttl\n",
              "4     tabalong 30 12 1992      ttl"
            ]
          },
          "metadata": {
            "tags": []
          }
        },
        {
          "output_type": "display_data",
          "data": {
            "text/html": [
              "<div>\n",
              "<style scoped>\n",
              "    .dataframe tbody tr th:only-of-type {\n",
              "        vertical-align: middle;\n",
              "    }\n",
              "\n",
              "    .dataframe tbody tr th {\n",
              "        vertical-align: top;\n",
              "    }\n",
              "\n",
              "    .dataframe thead th {\n",
              "        text-align: right;\n",
              "    }\n",
              "</style>\n",
              "<table border=\"1\" class=\"dataframe\">\n",
              "  <thead>\n",
              "    <tr style=\"text-align: right;\">\n",
              "      <th></th>\n",
              "      <th>entity</th>\n",
              "      <th>category</th>\n",
              "    </tr>\n",
              "  </thead>\n",
              "  <tbody>\n",
              "    <tr>\n",
              "      <th>0</th>\n",
              "      <td>laki laki</td>\n",
              "      <td>gender</td>\n",
              "    </tr>\n",
              "    <tr>\n",
              "      <th>1</th>\n",
              "      <td>pria</td>\n",
              "      <td>gender</td>\n",
              "    </tr>\n",
              "    <tr>\n",
              "      <th>2</th>\n",
              "      <td>pria</td>\n",
              "      <td>gender</td>\n",
              "    </tr>\n",
              "    <tr>\n",
              "      <th>3</th>\n",
              "      <td>laki laki</td>\n",
              "      <td>gender</td>\n",
              "    </tr>\n",
              "    <tr>\n",
              "      <th>4</th>\n",
              "      <td>laki laki</td>\n",
              "      <td>gender</td>\n",
              "    </tr>\n",
              "  </tbody>\n",
              "</table>\n",
              "</div>"
            ],
            "text/plain": [
              "      entity category\n",
              "0  laki laki   gender\n",
              "1       pria   gender\n",
              "2       pria   gender\n",
              "3  laki laki   gender\n",
              "4  laki laki   gender"
            ]
          },
          "metadata": {
            "tags": []
          }
        }
      ]
    },
    {
      "cell_type": "code",
      "metadata": {
        "id": "CLKAlUIWpGiW",
        "colab_type": "code",
        "colab": {}
      },
      "source": [
        "# .append(df4, ignore_index=True)\n",
        "df1 = df1.append(df2, ignore_index=True).append(df3, ignore_index=True).append(df5, ignore_index=True)"
      ],
      "execution_count": 0,
      "outputs": []
    },
    {
      "cell_type": "code",
      "metadata": {
        "id": "4NVum0BY-Y6d",
        "colab_type": "code",
        "outputId": "24f64291-5b6d-4ab4-d0d4-180099d02ab0",
        "colab": {
          "base_uri": "https://localhost:8080/",
          "height": 170
        }
      },
      "source": [
        "df1.info()"
      ],
      "execution_count": 34,
      "outputs": [
        {
          "output_type": "stream",
          "text": [
            "<class 'pandas.core.frame.DataFrame'>\n",
            "RangeIndex: 19950 entries, 0 to 19949\n",
            "Data columns (total 2 columns):\n",
            " #   Column    Non-Null Count  Dtype \n",
            "---  ------    --------------  ----- \n",
            " 0   entity    19950 non-null  object\n",
            " 1   category  19950 non-null  object\n",
            "dtypes: object(2)\n",
            "memory usage: 311.8+ KB\n"
          ],
          "name": "stdout"
        }
      ]
    },
    {
      "cell_type": "markdown",
      "metadata": {
        "id": "JNnMqD9kjXEq",
        "colab_type": "text"
      },
      "source": [
        "## Train Data"
      ]
    },
    {
      "cell_type": "code",
      "metadata": {
        "id": "OcoGi5yess13",
        "colab_type": "code",
        "colab": {}
      },
      "source": [
        "encoder = LabelEncoder()\n",
        "target = encoder.fit_transform(df1.category)"
      ],
      "execution_count": 0,
      "outputs": []
    },
    {
      "cell_type": "code",
      "metadata": {
        "id": "fVPYEOuqr97V",
        "colab_type": "code",
        "colab": {}
      },
      "source": [
        "X = df1.entity\n",
        "y = target"
      ],
      "execution_count": 0,
      "outputs": []
    },
    {
      "cell_type": "code",
      "metadata": {
        "id": "0bvsDNTIrkP0",
        "colab_type": "code",
        "colab": {}
      },
      "source": [
        "X_train, X_test, y_train, y_test = train_test_split(X, y, test_size = 0.3, random_state = 21)"
      ],
      "execution_count": 0,
      "outputs": []
    },
    {
      "cell_type": "markdown",
      "metadata": {
        "id": "kIs9i3JwjI-k",
        "colab_type": "text"
      },
      "source": [
        "### Model Multinomial Naive Bayes (Single)"
      ]
    },
    {
      "cell_type": "code",
      "metadata": {
        "id": "OwfDnME0qCNl",
        "colab_type": "code",
        "outputId": "352e7468-c107-468e-cacd-41cb59dee647",
        "colab": {
          "base_uri": "https://localhost:8080/",
          "height": 51
        }
      },
      "source": [
        "from sklearn.feature_extraction.text import CountVectorizer\n",
        "\n",
        "count_vect = CountVectorizer()\n",
        "X_train_dtm = count_vect.fit_transform(X_train)\n",
        "X_train_dtm"
      ],
      "execution_count": 0,
      "outputs": [
        {
          "output_type": "execute_result",
          "data": {
            "text/plain": [
              "<13965x9278 sparse matrix of type '<class 'numpy.int64'>'\n",
              "\twith 46934 stored elements in Compressed Sparse Row format>"
            ]
          },
          "metadata": {
            "tags": []
          },
          "execution_count": 70
        }
      ]
    },
    {
      "cell_type": "code",
      "metadata": {
        "id": "HMisQcS8sbGJ",
        "colab_type": "code",
        "colab": {}
      },
      "source": [
        "X_test_dtm = count_vect.transform(X_test)"
      ],
      "execution_count": 0,
      "outputs": []
    },
    {
      "cell_type": "code",
      "metadata": {
        "id": "F2K2RFktHyQU",
        "colab_type": "code",
        "outputId": "0d5a4aee-e52f-4042-a026-c3c1f5e15124",
        "colab": {
          "base_uri": "https://localhost:8080/",
          "height": 51
        }
      },
      "source": [
        "X_test_dtm"
      ],
      "execution_count": 0,
      "outputs": [
        {
          "output_type": "execute_result",
          "data": {
            "text/plain": [
              "<5985x9278 sparse matrix of type '<class 'numpy.int64'>'\n",
              "\twith 17483 stored elements in Compressed Sparse Row format>"
            ]
          },
          "metadata": {
            "tags": []
          },
          "execution_count": 72
        }
      ]
    },
    {
      "cell_type": "code",
      "metadata": {
        "id": "6WNp6lQ7rqKr",
        "colab_type": "code",
        "outputId": "01de773e-f492-4c25-ec64-0abb10e60361",
        "colab": {
          "base_uri": "https://localhost:8080/",
          "height": 34
        }
      },
      "source": [
        "code = dict(zip(encoder.transform(encoder.classes_), encoder.classes_))\n",
        "code"
      ],
      "execution_count": 0,
      "outputs": [
        {
          "output_type": "execute_result",
          "data": {
            "text/plain": [
              "{0: 'alamat', 1: 'gender', 2: 'nama', 3: 'ttl'}"
            ]
          },
          "metadata": {
            "tags": []
          },
          "execution_count": 73
        }
      ]
    },
    {
      "cell_type": "code",
      "metadata": {
        "id": "7mo4lCJIskkp",
        "colab_type": "code",
        "colab": {}
      },
      "source": [
        "def evaluation_test(predicts):\n",
        "  for types, category in zip(predict_words, predicts):\n",
        "    print(f'{types} => {code[category]}')"
      ],
      "execution_count": 0,
      "outputs": []
    },
    {
      "cell_type": "code",
      "metadata": {
        "id": "D_ymKFPOtsPW",
        "colab_type": "code",
        "colab": {}
      },
      "source": [
        "predict_words = ['naufal ihsan pratama','jl juraganan rt 01 no 25','laki laki','vivin febriyanti strk']\n",
        "# preds = count_vect.transform(predict_words)"
      ],
      "execution_count": 0,
      "outputs": []
    },
    {
      "cell_type": "code",
      "metadata": {
        "id": "m0PkenxRr7MB",
        "colab_type": "code",
        "outputId": "a5740985-b00c-411f-a2c1-30c3b5a6ac72",
        "colab": {
          "base_uri": "https://localhost:8080/",
          "height": 34
        }
      },
      "source": [
        "from sklearn.naive_bayes import MultinomialNB\n",
        "\n",
        "mnb = MultinomialNB()\n",
        "mnb.fit(X_train_dtm, y_train)"
      ],
      "execution_count": 0,
      "outputs": [
        {
          "output_type": "execute_result",
          "data": {
            "text/plain": [
              "MultinomialNB(alpha=1.0, class_prior=None, fit_prior=True)"
            ]
          },
          "metadata": {
            "tags": []
          },
          "execution_count": 76
        }
      ]
    },
    {
      "cell_type": "code",
      "metadata": {
        "id": "COOddxTfsvUM",
        "colab_type": "code",
        "outputId": "37cc1fe1-9d59-4db6-e944-04c7dc2270f8",
        "colab": {
          "base_uri": "https://localhost:8080/",
          "height": 85
        }
      },
      "source": [
        "mnb_preds = mnb.predict(preds)\n",
        "evaluation_test(mnb_preds)"
      ],
      "execution_count": 0,
      "outputs": [
        {
          "output_type": "stream",
          "text": [
            "naufal ihsan pratama => nama\n",
            "jl juraganan rt 01 no 25 => alamat\n",
            "laki laki => gender\n",
            "vivin febriyanti strk => nama\n"
          ],
          "name": "stdout"
        }
      ]
    },
    {
      "cell_type": "code",
      "metadata": {
        "id": "zgQt0CCXwHtL",
        "colab_type": "code",
        "outputId": "a7e86d50-0358-499b-f4e0-ee1f8f18510e",
        "colab": {
          "base_uri": "https://localhost:8080/",
          "height": 34
        }
      },
      "source": [
        "print(f'MultinomialNB Score => {mnb.score(X_test_dtm, y_test)}')"
      ],
      "execution_count": 0,
      "outputs": [
        {
          "output_type": "stream",
          "text": [
            "MultinomialNB Score => 0.9333333333333333\n"
          ],
          "name": "stdout"
        }
      ]
    },
    {
      "cell_type": "code",
      "metadata": {
        "id": "1xdnJHQKt4Ak",
        "colab_type": "code",
        "outputId": "a35ecd94-8e0c-4854-dae3-b26e45331ae3",
        "colab": {
          "base_uri": "https://localhost:8080/",
          "height": 489
        }
      },
      "source": [
        "from sklearn.metrics import plot_confusion_matrix\n",
        "import matplotlib as plt\n",
        "\n",
        "mnb_disp = plot_confusion_matrix(mnb, X_test_dtm, y_test,\n",
        "                                 display_labels= encoder.classes_,\n",
        "                                 cmap=plt.cm.viridis,normalize='pred')\n",
        "mnb_disp.figure_.set_size_inches(8,8)\n",
        "mnb_disp.ax_.set_title('Confusion Matrix MultinomialNB')"
      ],
      "execution_count": 0,
      "outputs": [
        {
          "output_type": "execute_result",
          "data": {
            "text/plain": [
              "Text(0.5, 1.0, 'Confusion Matrix MultinomialNB')"
            ]
          },
          "metadata": {
            "tags": []
          },
          "execution_count": 79
        },
        {
          "output_type": "display_data",
          "data": {
            "image/png": "[encoded data removed]",
            "text/plain": [
              "<Figure size 576x576 with 2 Axes>"
            ]
          },
          "metadata": {
            "tags": [],
            "needs_background": "light"
          }
        }
      ]
    },
    {
      "cell_type": "code",
      "metadata": {
        "id": "xn7sDvMG4336",
        "colab_type": "code",
        "outputId": "b3e9f6cb-7459-4809-d55f-dd1755fd7192",
        "colab": {
          "base_uri": "https://localhost:8080/",
          "height": 204
        }
      },
      "source": [
        "from sklearn.metrics import accuracy_score, classification_report\n",
        "\n",
        "y_pred_class = mnb.predict(X_test_dtm)\n",
        "# print(f'accuracy => {accuracy_score(y_test, y_pred_class)}')\n",
        "\n",
        "target_names = ['alamat','gender', 'nama','ttl']\n",
        "print(classification_report(y_test, y_pred_class, target_names=target_names))"
      ],
      "execution_count": 0,
      "outputs": [
        {
          "output_type": "stream",
          "text": [
            "              precision    recall  f1-score   support\n",
            "\n",
            "      alamat       0.99      0.95      0.97      1520\n",
            "      gender       0.98      1.00      0.99      1486\n",
            "        nama       1.00      0.79      0.88      1497\n",
            "         ttl       0.81      1.00      0.89      1482\n",
            "\n",
            "    accuracy                           0.93      5985\n",
            "   macro avg       0.94      0.93      0.93      5985\n",
            "weighted avg       0.94      0.93      0.93      5985\n",
            "\n"
          ],
          "name": "stdout"
        }
      ]
    },
    {
      "cell_type": "code",
      "metadata": {
        "id": "OelVa1oz43z9",
        "colab_type": "code",
        "outputId": "69769186-ec07-45c8-ece6-0bfba1586889",
        "colab": {
          "base_uri": "https://localhost:8080/",
          "height": 221
        }
      },
      "source": [
        "X_test[y_pred_class > y_test]"
      ],
      "execution_count": 0,
      "outputs": [
        {
          "output_type": "execute_result",
          "data": {
            "text/plain": [
              "8557            menganti rawalo banyumas\n",
              "1904                              ridani\n",
              "1402                             subandi\n",
              "4067                    jovitha andarini\n",
              "1434                        aang sobirin\n",
              "                      ...               \n",
              "1589                        stevani nory\n",
              "4210    rachel ravensca marisca loupatty\n",
              "2483                     salman alfarisi\n",
              "9211                           simokerto\n",
              "4159                            matganti\n",
              "Name: entity, Length: 367, dtype: object"
            ]
          },
          "metadata": {
            "tags": []
          },
          "execution_count": 81
        }
      ]
    },
    {
      "cell_type": "code",
      "metadata": {
        "id": "mQQr1aQZ43xJ",
        "colab_type": "code",
        "outputId": "39022074-8ac6-417b-d0b5-d0656a60d5db",
        "colab": {
          "base_uri": "https://localhost:8080/",
          "height": 578
        }
      },
      "source": [
        "X_test[y_pred_class < y_test]"
      ],
      "execution_count": 0,
      "outputs": [
        {
          "output_type": "execute_result",
          "data": {
            "text/plain": [
              "2630                   hasanudin\n",
              "1690               mayang savira\n",
              "3441              indah dekawati\n",
              "3258        indah lestariningsih\n",
              "3087                  abdi karya\n",
              "3203        yunita indah pramasa\n",
              "4746                  ing dihana\n",
              "234              i gede widiarta\n",
              "3872              vina budiyanti\n",
              "230           affan deska sayuti\n",
              "335        opsidian izzuda buana\n",
              "2037                peggy melati\n",
              "797                  oki nuryana\n",
              "2649                 mayang sari\n",
              "609                    ulin nuha\n",
              "938                 ulfa jayanti\n",
              "670       sintong taripar sihite\n",
              "2624          dessy pramita sari\n",
              "586            rosky kumala sari\n",
              "2323    jieliwosy silas salawati\n",
              "2746             siprianus jumat\n",
              "4494                 saka apreja\n",
              "1722               oki lazzwardi\n",
              "3195               indah lestari\n",
              "3162                tamara digma\n",
              "2170              rahmianti sari\n",
              "4564             sindu mutusolah\n",
              "4943      teddi kaharuddin saleh\n",
              "111              hediati mustika\n",
              "4144              musthofa kamal\n",
              "2530       paskalis jonson manik\n",
              "3038                      sayuti\n",
              "Name: entity, dtype: object"
            ]
          },
          "metadata": {
            "tags": []
          },
          "execution_count": 82
        }
      ]
    },
    {
      "cell_type": "code",
      "metadata": {
        "id": "HZNnVxRk43u3",
        "colab_type": "code",
        "outputId": "2696729f-2613-4c3c-c1c1-86a07ae73c2e",
        "colab": {
          "base_uri": "https://localhost:8080/",
          "height": 51
        }
      },
      "source": [
        "#calculate predicted probabilities for X_test_dtm (poorly calibrated)\n",
        "y_pred_prob = mnb.predict_proba(X_test_dtm)[:, 1]\n",
        "y_pred_prob"
      ],
      "execution_count": 0,
      "outputs": [
        {
          "output_type": "execute_result",
          "data": {
            "text/plain": [
              "array([2.85540877e-02, 6.44234889e-13, 1.23512521e-06, ...,\n",
              "       2.86127534e-14, 9.99999848e-01, 2.01293154e-02])"
            ]
          },
          "metadata": {
            "tags": []
          },
          "execution_count": 83
        }
      ]
    },
    {
      "cell_type": "code",
      "metadata": {
        "id": "N6DJX5le4uUX",
        "colab_type": "code",
        "outputId": "bc0b1aef-934e-470b-9cf8-22ceb8f6b094",
        "colab": {
          "base_uri": "https://localhost:8080/",
          "height": 340
        }
      },
      "source": [
        "sorted_prob = mnb.feature_log_prob_[1, :].argsort()\n",
        "feature_list = count_vect.get_feature_names()\n",
        "\n",
        "for index in sorted_prob[-20:-1]:\n",
        "  print(feature_list[index])"
      ],
      "execution_count": 0,
      "outputs": [
        {
          "output_type": "stream",
          "text": [
            "husein\n",
            "husada\n",
            "ht\n",
            "hubertus\n",
            "huda\n",
            "hudaya\n",
            "hudayana\n",
            "hukama\n",
            "husain\n",
            "zulmi\n",
            "hulu\n",
            "humaedi\n",
            "huntoro\n",
            "huntulohulawa\n",
            "hurip\n",
            "hulo\n",
            "wanita\n",
            "perempuan\n",
            "pria\n"
          ],
          "name": "stdout"
        }
      ]
    },
    {
      "cell_type": "markdown",
      "metadata": {
        "id": "DwzZVz5WiYCe",
        "colab_type": "text"
      },
      "source": [
        "## Hyperparameter Tuning"
      ]
    },
    {
      "cell_type": "markdown",
      "metadata": {
        "id": "9vrWZTeqipnX",
        "colab_type": "text"
      },
      "source": [
        "### Model Multinomial Naive Bayes"
      ]
    },
    {
      "cell_type": "code",
      "metadata": {
        "id": "D929OcEN7NTd",
        "colab_type": "code",
        "colab": {}
      },
      "source": [
        "text_clf = Pipeline([('vect', CountVectorizer()),\n",
        "                     ('tfidf', TfidfTransformer()),\n",
        "                     ('clf', MultinomialNB())])\n",
        "\n",
        "tuned_parameters = {\n",
        "    'vect__ngram_range': [(1, 1), (1, 2), (2, 2)],\n",
        "    'tfidf__use_idf': (True, False),\n",
        "    'clf__alpha': [1e-5, 1e-4, 1e-2, 1e-1, 1]\n",
        "}\n",
        "\n",
        "score = 'f1_micro'"
      ],
      "execution_count": 0,
      "outputs": []
    },
    {
      "cell_type": "code",
      "metadata": {
        "id": "RigFgo8s7NRV",
        "colab_type": "code",
        "outputId": "35dfe25d-6822-49d0-a565-83aec1c7211e",
        "colab": {
          "base_uri": "https://localhost:8080/",
          "height": 544
        }
      },
      "source": [
        "mnb_cv = GridSearchCV(text_clf, tuned_parameters, cv=5, scoring=score, n_jobs=-1)\n",
        "mnb_cv.fit(X_train, y_train)"
      ],
      "execution_count": 0,
      "outputs": [
        {
          "output_type": "execute_result",
          "data": {
            "text/plain": [
              "GridSearchCV(cv=5, error_score=nan,\n",
              "             estimator=Pipeline(memory=None,\n",
              "                                steps=[('vect',\n",
              "                                        CountVectorizer(analyzer='word',\n",
              "                                                        binary=False,\n",
              "                                                        decode_error='strict',\n",
              "                                                        dtype=<class 'numpy.int64'>,\n",
              "                                                        encoding='utf-8',\n",
              "                                                        input='content',\n",
              "                                                        lowercase=True,\n",
              "                                                        max_df=1.0,\n",
              "                                                        max_features=None,\n",
              "                                                        min_df=1,\n",
              "                                                        ngram_range=(1, 1),\n",
              "                                                        preprocessor=None,\n",
              "                                                        stop_words=None,\n",
              "                                                        strip_accents=None,\n",
              "                                                        token_pattern='(?u)...\n",
              "                                                         sublinear_tf=False,\n",
              "                                                         use_idf=True)),\n",
              "                                       ('clf',\n",
              "                                        MultinomialNB(alpha=1.0,\n",
              "                                                      class_prior=None,\n",
              "                                                      fit_prior=True))],\n",
              "                                verbose=False),\n",
              "             iid='deprecated', n_jobs=-1,\n",
              "             param_grid={'clf__alpha': [1e-05, 0.0001, 0.01, 0.1, 1],\n",
              "                         'tfidf__use_idf': (True, False),\n",
              "                         'vect__ngram_range': [(1, 1), (1, 2), (2, 2)]},\n",
              "             pre_dispatch='2*n_jobs', refit=True, return_train_score=False,\n",
              "             scoring='f1_micro', verbose=0)"
            ]
          },
          "metadata": {
            "tags": []
          },
          "execution_count": 86
        }
      ]
    },
    {
      "cell_type": "code",
      "metadata": {
        "id": "r_BbUQ2VERB4",
        "colab_type": "code",
        "outputId": "64842709-b422-4f8c-eadf-5a2f1a27cd1e",
        "colab": {
          "base_uri": "https://localhost:8080/",
          "height": 979
        }
      },
      "source": [
        "params = mnb_cv.cv_results_['params']\n",
        "split_cv_0 = mnb_cv.cv_results_['split0_test_score']\n",
        "split_cv_1 = mnb_cv.cv_results_['split1_test_score']\n",
        "split_cv_2 = mnb_cv.cv_results_['split2_test_score']\n",
        "split_cv_3 = mnb_cv.cv_results_['split3_test_score']\n",
        "split_cv_4 = mnb_cv.cv_results_['split4_test_score']\n",
        "mean_score = mnb_cv.cv_results_['mean_test_score']\n",
        "rank = mnb_cv.cv_results_['rank_test_score']\n",
        "\n",
        "clf__alpha = list()\n",
        "tfidf__use_idf = list()\n",
        "vect__ngram_range = list()\n",
        "\n",
        "for i in range(len(params)):\n",
        "  clf__alpha.append(params[i]['clf__alpha'])\n",
        "  tfidf__use_idf.append(params[i]['tfidf__use_idf'])\n",
        "  vect__ngram_range.append(params[i]['vect__ngram_range'])\n",
        "\n",
        "mnb_result = pd.DataFrame({\n",
        "              'rank': rank,\n",
        "              'clf__alpha':clf__alpha,\n",
        "              'tfidf__use_idf':tfidf__use_idf,\n",
        "              'vect__ngram_range':vect__ngram_range,\n",
        "              'split_cv_0': split_cv_0,\n",
        "              'split_cv_1': split_cv_1,\n",
        "              'split_cv_2': split_cv_2,\n",
        "              'split_cv_3': split_cv_3,\n",
        "              'split_cv_4': split_cv_4,\n",
        "              'mean_score': mean_score })\n",
        "\n",
        "mnb_result.sort_values(by=['rank'])"
      ],
      "execution_count": 0,
      "outputs": [
        {
          "output_type": "execute_result",
          "data": {
            "text/html": [
              "<div>\n",
              "<style scoped>\n",
              "    .dataframe tbody tr th:only-of-type {\n",
              "        vertical-align: middle;\n",
              "    }\n",
              "\n",
              "    .dataframe tbody tr th {\n",
              "        vertical-align: top;\n",
              "    }\n",
              "\n",
              "    .dataframe thead th {\n",
              "        text-align: right;\n",
              "    }\n",
              "</style>\n",
              "<table border=\"1\" class=\"dataframe\">\n",
              "  <thead>\n",
              "    <tr style=\"text-align: right;\">\n",
              "      <th></th>\n",
              "      <th>rank</th>\n",
              "      <th>clf__alpha</th>\n",
              "      <th>tfidf__use_idf</th>\n",
              "      <th>vect__ngram_range</th>\n",
              "      <th>split_cv_0</th>\n",
              "      <th>split_cv_1</th>\n",
              "      <th>split_cv_2</th>\n",
              "      <th>split_cv_3</th>\n",
              "      <th>split_cv_4</th>\n",
              "      <th>mean_score</th>\n",
              "    </tr>\n",
              "  </thead>\n",
              "  <tbody>\n",
              "    <tr>\n",
              "      <th>22</th>\n",
              "      <td>1</td>\n",
              "      <td>0.10000</td>\n",
              "      <td>False</td>\n",
              "      <td>(1, 2)</td>\n",
              "      <td>0.924454</td>\n",
              "      <td>0.915145</td>\n",
              "      <td>0.925886</td>\n",
              "      <td>0.926960</td>\n",
              "      <td>0.920874</td>\n",
              "      <td>0.922664</td>\n",
              "    </tr>\n",
              "    <tr>\n",
              "      <th>21</th>\n",
              "      <td>2</td>\n",
              "      <td>0.10000</td>\n",
              "      <td>False</td>\n",
              "      <td>(1, 1)</td>\n",
              "      <td>0.924096</td>\n",
              "      <td>0.914429</td>\n",
              "      <td>0.925170</td>\n",
              "      <td>0.925528</td>\n",
              "      <td>0.921232</td>\n",
              "      <td>0.922091</td>\n",
              "    </tr>\n",
              "    <tr>\n",
              "      <th>25</th>\n",
              "      <td>3</td>\n",
              "      <td>1.00000</td>\n",
              "      <td>True</td>\n",
              "      <td>(1, 2)</td>\n",
              "      <td>0.923738</td>\n",
              "      <td>0.913713</td>\n",
              "      <td>0.924096</td>\n",
              "      <td>0.923738</td>\n",
              "      <td>0.920516</td>\n",
              "      <td>0.921160</td>\n",
              "    </tr>\n",
              "    <tr>\n",
              "      <th>28</th>\n",
              "      <td>3</td>\n",
              "      <td>1.00000</td>\n",
              "      <td>False</td>\n",
              "      <td>(1, 2)</td>\n",
              "      <td>0.924096</td>\n",
              "      <td>0.914071</td>\n",
              "      <td>0.924454</td>\n",
              "      <td>0.922664</td>\n",
              "      <td>0.920516</td>\n",
              "      <td>0.921160</td>\n",
              "    </tr>\n",
              "    <tr>\n",
              "      <th>16</th>\n",
              "      <td>5</td>\n",
              "      <td>0.01000</td>\n",
              "      <td>False</td>\n",
              "      <td>(1, 2)</td>\n",
              "      <td>0.923738</td>\n",
              "      <td>0.912281</td>\n",
              "      <td>0.924096</td>\n",
              "      <td>0.926244</td>\n",
              "      <td>0.919441</td>\n",
              "      <td>0.921160</td>\n",
              "    </tr>\n",
              "    <tr>\n",
              "      <th>27</th>\n",
              "      <td>6</td>\n",
              "      <td>1.00000</td>\n",
              "      <td>False</td>\n",
              "      <td>(1, 1)</td>\n",
              "      <td>0.921590</td>\n",
              "      <td>0.914071</td>\n",
              "      <td>0.924096</td>\n",
              "      <td>0.923738</td>\n",
              "      <td>0.919799</td>\n",
              "      <td>0.920659</td>\n",
              "    </tr>\n",
              "    <tr>\n",
              "      <th>24</th>\n",
              "      <td>7</td>\n",
              "      <td>1.00000</td>\n",
              "      <td>True</td>\n",
              "      <td>(1, 1)</td>\n",
              "      <td>0.922664</td>\n",
              "      <td>0.912639</td>\n",
              "      <td>0.924096</td>\n",
              "      <td>0.923738</td>\n",
              "      <td>0.919799</td>\n",
              "      <td>0.920587</td>\n",
              "    </tr>\n",
              "    <tr>\n",
              "      <th>15</th>\n",
              "      <td>7</td>\n",
              "      <td>0.01000</td>\n",
              "      <td>False</td>\n",
              "      <td>(1, 1)</td>\n",
              "      <td>0.923380</td>\n",
              "      <td>0.911923</td>\n",
              "      <td>0.924096</td>\n",
              "      <td>0.924454</td>\n",
              "      <td>0.919083</td>\n",
              "      <td>0.920587</td>\n",
              "    </tr>\n",
              "    <tr>\n",
              "      <th>19</th>\n",
              "      <td>9</td>\n",
              "      <td>0.10000</td>\n",
              "      <td>True</td>\n",
              "      <td>(1, 2)</td>\n",
              "      <td>0.923022</td>\n",
              "      <td>0.912281</td>\n",
              "      <td>0.923022</td>\n",
              "      <td>0.924812</td>\n",
              "      <td>0.919441</td>\n",
              "      <td>0.920516</td>\n",
              "    </tr>\n",
              "    <tr>\n",
              "      <th>10</th>\n",
              "      <td>10</td>\n",
              "      <td>0.00010</td>\n",
              "      <td>False</td>\n",
              "      <td>(1, 2)</td>\n",
              "      <td>0.922664</td>\n",
              "      <td>0.911207</td>\n",
              "      <td>0.923380</td>\n",
              "      <td>0.925528</td>\n",
              "      <td>0.919441</td>\n",
              "      <td>0.920444</td>\n",
              "    </tr>\n",
              "    <tr>\n",
              "      <th>4</th>\n",
              "      <td>11</td>\n",
              "      <td>0.00001</td>\n",
              "      <td>False</td>\n",
              "      <td>(1, 2)</td>\n",
              "      <td>0.922306</td>\n",
              "      <td>0.911207</td>\n",
              "      <td>0.923380</td>\n",
              "      <td>0.925528</td>\n",
              "      <td>0.919441</td>\n",
              "      <td>0.920372</td>\n",
              "    </tr>\n",
              "    <tr>\n",
              "      <th>18</th>\n",
              "      <td>12</td>\n",
              "      <td>0.10000</td>\n",
              "      <td>True</td>\n",
              "      <td>(1, 1)</td>\n",
              "      <td>0.923022</td>\n",
              "      <td>0.912639</td>\n",
              "      <td>0.923738</td>\n",
              "      <td>0.923380</td>\n",
              "      <td>0.918725</td>\n",
              "      <td>0.920301</td>\n",
              "    </tr>\n",
              "    <tr>\n",
              "      <th>9</th>\n",
              "      <td>13</td>\n",
              "      <td>0.00010</td>\n",
              "      <td>False</td>\n",
              "      <td>(1, 1)</td>\n",
              "      <td>0.922664</td>\n",
              "      <td>0.910491</td>\n",
              "      <td>0.924096</td>\n",
              "      <td>0.924096</td>\n",
              "      <td>0.918725</td>\n",
              "      <td>0.920014</td>\n",
              "    </tr>\n",
              "    <tr>\n",
              "      <th>3</th>\n",
              "      <td>14</td>\n",
              "      <td>0.00001</td>\n",
              "      <td>False</td>\n",
              "      <td>(1, 1)</td>\n",
              "      <td>0.922306</td>\n",
              "      <td>0.910491</td>\n",
              "      <td>0.924096</td>\n",
              "      <td>0.924096</td>\n",
              "      <td>0.918725</td>\n",
              "      <td>0.919943</td>\n",
              "    </tr>\n",
              "    <tr>\n",
              "      <th>13</th>\n",
              "      <td>15</td>\n",
              "      <td>0.01000</td>\n",
              "      <td>True</td>\n",
              "      <td>(1, 2)</td>\n",
              "      <td>0.921948</td>\n",
              "      <td>0.910491</td>\n",
              "      <td>0.922306</td>\n",
              "      <td>0.924096</td>\n",
              "      <td>0.917651</td>\n",
              "      <td>0.919298</td>\n",
              "    </tr>\n",
              "    <tr>\n",
              "      <th>12</th>\n",
              "      <td>16</td>\n",
              "      <td>0.01000</td>\n",
              "      <td>True</td>\n",
              "      <td>(1, 1)</td>\n",
              "      <td>0.921590</td>\n",
              "      <td>0.909774</td>\n",
              "      <td>0.923022</td>\n",
              "      <td>0.922664</td>\n",
              "      <td>0.917651</td>\n",
              "      <td>0.918940</td>\n",
              "    </tr>\n",
              "    <tr>\n",
              "      <th>7</th>\n",
              "      <td>17</td>\n",
              "      <td>0.00010</td>\n",
              "      <td>True</td>\n",
              "      <td>(1, 2)</td>\n",
              "      <td>0.920874</td>\n",
              "      <td>0.909416</td>\n",
              "      <td>0.922306</td>\n",
              "      <td>0.924096</td>\n",
              "      <td>0.916935</td>\n",
              "      <td>0.918725</td>\n",
              "    </tr>\n",
              "    <tr>\n",
              "      <th>6</th>\n",
              "      <td>18</td>\n",
              "      <td>0.00010</td>\n",
              "      <td>True</td>\n",
              "      <td>(1, 1)</td>\n",
              "      <td>0.920158</td>\n",
              "      <td>0.909416</td>\n",
              "      <td>0.923022</td>\n",
              "      <td>0.922664</td>\n",
              "      <td>0.917293</td>\n",
              "      <td>0.918511</td>\n",
              "    </tr>\n",
              "    <tr>\n",
              "      <th>1</th>\n",
              "      <td>19</td>\n",
              "      <td>0.00001</td>\n",
              "      <td>True</td>\n",
              "      <td>(1, 2)</td>\n",
              "      <td>0.920874</td>\n",
              "      <td>0.908342</td>\n",
              "      <td>0.921948</td>\n",
              "      <td>0.923738</td>\n",
              "      <td>0.916577</td>\n",
              "      <td>0.918296</td>\n",
              "    </tr>\n",
              "    <tr>\n",
              "      <th>0</th>\n",
              "      <td>20</td>\n",
              "      <td>0.00001</td>\n",
              "      <td>True</td>\n",
              "      <td>(1, 1)</td>\n",
              "      <td>0.920158</td>\n",
              "      <td>0.908700</td>\n",
              "      <td>0.923022</td>\n",
              "      <td>0.921948</td>\n",
              "      <td>0.916935</td>\n",
              "      <td>0.918153</td>\n",
              "    </tr>\n",
              "    <tr>\n",
              "      <th>23</th>\n",
              "      <td>21</td>\n",
              "      <td>0.10000</td>\n",
              "      <td>False</td>\n",
              "      <td>(2, 2)</td>\n",
              "      <td>0.549588</td>\n",
              "      <td>0.536699</td>\n",
              "      <td>0.540637</td>\n",
              "      <td>0.545650</td>\n",
              "      <td>0.545650</td>\n",
              "      <td>0.543645</td>\n",
              "    </tr>\n",
              "    <tr>\n",
              "      <th>11</th>\n",
              "      <td>22</td>\n",
              "      <td>0.00010</td>\n",
              "      <td>False</td>\n",
              "      <td>(2, 2)</td>\n",
              "      <td>0.549230</td>\n",
              "      <td>0.536699</td>\n",
              "      <td>0.540637</td>\n",
              "      <td>0.545650</td>\n",
              "      <td>0.544934</td>\n",
              "      <td>0.543430</td>\n",
              "    </tr>\n",
              "    <tr>\n",
              "      <th>17</th>\n",
              "      <td>22</td>\n",
              "      <td>0.01000</td>\n",
              "      <td>False</td>\n",
              "      <td>(2, 2)</td>\n",
              "      <td>0.549230</td>\n",
              "      <td>0.536699</td>\n",
              "      <td>0.540637</td>\n",
              "      <td>0.545650</td>\n",
              "      <td>0.544934</td>\n",
              "      <td>0.543430</td>\n",
              "    </tr>\n",
              "    <tr>\n",
              "      <th>5</th>\n",
              "      <td>22</td>\n",
              "      <td>0.00001</td>\n",
              "      <td>False</td>\n",
              "      <td>(2, 2)</td>\n",
              "      <td>0.549230</td>\n",
              "      <td>0.536699</td>\n",
              "      <td>0.540637</td>\n",
              "      <td>0.545650</td>\n",
              "      <td>0.544934</td>\n",
              "      <td>0.543430</td>\n",
              "    </tr>\n",
              "    <tr>\n",
              "      <th>20</th>\n",
              "      <td>25</td>\n",
              "      <td>0.10000</td>\n",
              "      <td>True</td>\n",
              "      <td>(2, 2)</td>\n",
              "      <td>0.548872</td>\n",
              "      <td>0.536699</td>\n",
              "      <td>0.540637</td>\n",
              "      <td>0.546008</td>\n",
              "      <td>0.544576</td>\n",
              "      <td>0.543358</td>\n",
              "    </tr>\n",
              "    <tr>\n",
              "      <th>14</th>\n",
              "      <td>26</td>\n",
              "      <td>0.01000</td>\n",
              "      <td>True</td>\n",
              "      <td>(2, 2)</td>\n",
              "      <td>0.548514</td>\n",
              "      <td>0.535983</td>\n",
              "      <td>0.540637</td>\n",
              "      <td>0.545650</td>\n",
              "      <td>0.544576</td>\n",
              "      <td>0.543072</td>\n",
              "    </tr>\n",
              "    <tr>\n",
              "      <th>26</th>\n",
              "      <td>27</td>\n",
              "      <td>1.00000</td>\n",
              "      <td>True</td>\n",
              "      <td>(2, 2)</td>\n",
              "      <td>0.549230</td>\n",
              "      <td>0.535267</td>\n",
              "      <td>0.539563</td>\n",
              "      <td>0.545650</td>\n",
              "      <td>0.543860</td>\n",
              "      <td>0.542714</td>\n",
              "    </tr>\n",
              "    <tr>\n",
              "      <th>2</th>\n",
              "      <td>28</td>\n",
              "      <td>0.00001</td>\n",
              "      <td>True</td>\n",
              "      <td>(2, 2)</td>\n",
              "      <td>0.548156</td>\n",
              "      <td>0.535983</td>\n",
              "      <td>0.539921</td>\n",
              "      <td>0.545292</td>\n",
              "      <td>0.543860</td>\n",
              "      <td>0.542642</td>\n",
              "    </tr>\n",
              "    <tr>\n",
              "      <th>8</th>\n",
              "      <td>28</td>\n",
              "      <td>0.00010</td>\n",
              "      <td>True</td>\n",
              "      <td>(2, 2)</td>\n",
              "      <td>0.548156</td>\n",
              "      <td>0.535983</td>\n",
              "      <td>0.539921</td>\n",
              "      <td>0.545292</td>\n",
              "      <td>0.543860</td>\n",
              "      <td>0.542642</td>\n",
              "    </tr>\n",
              "    <tr>\n",
              "      <th>29</th>\n",
              "      <td>30</td>\n",
              "      <td>1.00000</td>\n",
              "      <td>False</td>\n",
              "      <td>(2, 2)</td>\n",
              "      <td>0.549230</td>\n",
              "      <td>0.535267</td>\n",
              "      <td>0.538847</td>\n",
              "      <td>0.543860</td>\n",
              "      <td>0.544218</td>\n",
              "      <td>0.542284</td>\n",
              "    </tr>\n",
              "  </tbody>\n",
              "</table>\n",
              "</div>"
            ],
            "text/plain": [
              "    rank  clf__alpha  tfidf__use_idf  ... split_cv_3  split_cv_4  mean_score\n",
              "22     1     0.10000           False  ...   0.926960    0.920874    0.922664\n",
              "21     2     0.10000           False  ...   0.925528    0.921232    0.922091\n",
              "25     3     1.00000            True  ...   0.923738    0.920516    0.921160\n",
              "28     3     1.00000           False  ...   0.922664    0.920516    0.921160\n",
              "16     5     0.01000           False  ...   0.926244    0.919441    0.921160\n",
              "27     6     1.00000           False  ...   0.923738    0.919799    0.920659\n",
              "24     7     1.00000            True  ...   0.923738    0.919799    0.920587\n",
              "15     7     0.01000           False  ...   0.924454    0.919083    0.920587\n",
              "19     9     0.10000            True  ...   0.924812    0.919441    0.920516\n",
              "10    10     0.00010           False  ...   0.925528    0.919441    0.920444\n",
              "4     11     0.00001           False  ...   0.925528    0.919441    0.920372\n",
              "18    12     0.10000            True  ...   0.923380    0.918725    0.920301\n",
              "9     13     0.00010           False  ...   0.924096    0.918725    0.920014\n",
              "3     14     0.00001           False  ...   0.924096    0.918725    0.919943\n",
              "13    15     0.01000            True  ...   0.924096    0.917651    0.919298\n",
              "12    16     0.01000            True  ...   0.922664    0.917651    0.918940\n",
              "7     17     0.00010            True  ...   0.924096    0.916935    0.918725\n",
              "6     18     0.00010            True  ...   0.922664    0.917293    0.918511\n",
              "1     19     0.00001            True  ...   0.923738    0.916577    0.918296\n",
              "0     20     0.00001            True  ...   0.921948    0.916935    0.918153\n",
              "23    21     0.10000           False  ...   0.545650    0.545650    0.543645\n",
              "11    22     0.00010           False  ...   0.545650    0.544934    0.543430\n",
              "17    22     0.01000           False  ...   0.545650    0.544934    0.543430\n",
              "5     22     0.00001           False  ...   0.545650    0.544934    0.543430\n",
              "20    25     0.10000            True  ...   0.546008    0.544576    0.543358\n",
              "14    26     0.01000            True  ...   0.545650    0.544576    0.543072\n",
              "26    27     1.00000            True  ...   0.545650    0.543860    0.542714\n",
              "2     28     0.00001            True  ...   0.545292    0.543860    0.542642\n",
              "8     28     0.00010            True  ...   0.545292    0.543860    0.542642\n",
              "29    30     1.00000           False  ...   0.543860    0.544218    0.542284\n",
              "\n",
              "[30 rows x 10 columns]"
            ]
          },
          "metadata": {
            "tags": []
          },
          "execution_count": 89
        }
      ]
    },
    {
      "cell_type": "code",
      "metadata": {
        "id": "6OHWHOKd7NOV",
        "colab_type": "code",
        "outputId": "103dcd6c-ac60-4216-8d12-c50d55792af3",
        "colab": {
          "base_uri": "https://localhost:8080/",
          "height": 306
        }
      },
      "source": [
        "print(\"Detailed classification report:\")\n",
        "print()\n",
        "print(\"The model is trained on the full development set.\")\n",
        "print(\"The scores are computed on the full evaluation set.\")\n",
        "print()\n",
        "y_true, y_pred = y_test, mnb_cv.predict(X_test)\n",
        "print(classification_report(y_true, y_pred))\n",
        "print()"
      ],
      "execution_count": 0,
      "outputs": [
        {
          "output_type": "stream",
          "text": [
            "Detailed classification report:\n",
            "\n",
            "The model is trained on the full development set.\n",
            "The scores are computed on the full evaluation set.\n",
            "\n",
            "              precision    recall  f1-score   support\n",
            "\n",
            "           0       0.98      0.95      0.97      1520\n",
            "           1       1.00      1.00      1.00      1486\n",
            "           2       1.00      0.79      0.88      1497\n",
            "           3       0.81      1.00      0.89      1482\n",
            "\n",
            "    accuracy                           0.94      5985\n",
            "   macro avg       0.95      0.94      0.94      5985\n",
            "weighted avg       0.95      0.94      0.94      5985\n",
            "\n",
            "\n"
          ],
          "name": "stdout"
        }
      ]
    },
    {
      "cell_type": "code",
      "metadata": {
        "id": "h4T1cKZJKlV6",
        "colab_type": "code",
        "outputId": "34486352-ec44-4c4f-c21a-41dd66c917c6",
        "colab": {
          "base_uri": "https://localhost:8080/",
          "height": 442
        }
      },
      "source": [
        "print(\"Best Estimator: \\n{}\\n\".format(mnb_cv.best_estimator_))\n",
        "print(\"Best Parameters: \\n{}\\n\".format(mnb_cv.best_params_))\n",
        "print(\"Best Test Score: \\n{}\\n\".format(mnb_cv.best_score_))"
      ],
      "execution_count": 0,
      "outputs": [
        {
          "output_type": "stream",
          "text": [
            "Best Estimator: \n",
            "Pipeline(memory=None,\n",
            "         steps=[('vect',\n",
            "                 CountVectorizer(analyzer='word', binary=False,\n",
            "                                 decode_error='strict',\n",
            "                                 dtype=<class 'numpy.int64'>, encoding='utf-8',\n",
            "                                 input='content', lowercase=True, max_df=1.0,\n",
            "                                 max_features=None, min_df=1,\n",
            "                                 ngram_range=(1, 2), preprocessor=None,\n",
            "                                 stop_words=None, strip_accents=None,\n",
            "                                 token_pattern='(?u)\\\\b\\\\w\\\\w+\\\\b',\n",
            "                                 tokenizer=None, vocabulary=None)),\n",
            "                ('tfidf',\n",
            "                 TfidfTransformer(norm='l2', smooth_idf=True,\n",
            "                                  sublinear_tf=False, use_idf=False)),\n",
            "                ('clf',\n",
            "                 MultinomialNB(alpha=0.1, class_prior=None, fit_prior=True))],\n",
            "         verbose=False)\n",
            "\n",
            "Best Parameters: \n",
            "{'clf__alpha': 0.1, 'tfidf__use_idf': False, 'vect__ngram_range': (1, 2)}\n",
            "\n",
            "Best Test Score: \n",
            "0.9226638023630505\n",
            "\n"
          ],
          "name": "stdout"
        }
      ]
    },
    {
      "cell_type": "code",
      "metadata": {
        "id": "vrcE3Y2AXdVq",
        "colab_type": "code",
        "outputId": "2b029bca-a144-4eed-bd04-64f5c2079d82",
        "colab": {
          "base_uri": "https://localhost:8080/",
          "height": 85
        }
      },
      "source": [
        "mnb_cv_preds = mnb_cv.predict(pd.Series(np.array(predict_words)))\n",
        "evaluation_test(mnb_cv_preds)"
      ],
      "execution_count": 0,
      "outputs": [
        {
          "output_type": "stream",
          "text": [
            "naufal ihsan pratama => nama\n",
            "jl juraganan rt 01 no 25 => alamat\n",
            "laki laki => gender\n",
            "vivin febriyanti strk => nama\n"
          ],
          "name": "stdout"
        }
      ]
    },
    {
      "cell_type": "code",
      "metadata": {
        "id": "MOgV8uN2vAdZ",
        "colab_type": "code",
        "outputId": "f47d5f98-e65d-4b2c-b506-6a7b024d6212",
        "colab": {
          "base_uri": "https://localhost:8080/",
          "height": 187
        }
      },
      "source": [
        "gbc = GradientBoostingClassifier()\n",
        "gbc.fit(X_train_dtm,y_train)"
      ],
      "execution_count": 0,
      "outputs": [
        {
          "output_type": "execute_result",
          "data": {
            "text/plain": [
              "GradientBoostingClassifier(ccp_alpha=0.0, criterion='friedman_mse', init=None,\n",
              "                           learning_rate=0.1, loss='deviance', max_depth=3,\n",
              "                           max_features=None, max_leaf_nodes=None,\n",
              "                           min_impurity_decrease=0.0, min_impurity_split=None,\n",
              "                           min_samples_leaf=1, min_samples_split=2,\n",
              "                           min_weight_fraction_leaf=0.0, n_estimators=100,\n",
              "                           n_iter_no_change=None, presort='deprecated',\n",
              "                           random_state=None, subsample=1.0, tol=0.0001,\n",
              "                           validation_fraction=0.1, verbose=0,\n",
              "                           warm_start=False)"
            ]
          },
          "metadata": {
            "tags": []
          },
          "execution_count": 93
        }
      ]
    },
    {
      "cell_type": "code",
      "metadata": {
        "id": "-rH_rtNcv9fA",
        "colab_type": "code",
        "outputId": "572652c6-637a-421a-ab0b-2f6d06939ea2",
        "colab": {
          "base_uri": "https://localhost:8080/",
          "height": 85
        }
      },
      "source": [
        "gbc_preds = gbc.predict(preds)\n",
        "evaluation_test(gbc_preds)"
      ],
      "execution_count": 0,
      "outputs": [
        {
          "output_type": "stream",
          "text": [
            "naufal ihsan pratama => nama\n",
            "jl juraganan rt 01 no 25 => alamat\n",
            "laki laki => gender\n",
            "vivin febriyanti strk => nama\n"
          ],
          "name": "stdout"
        }
      ]
    },
    {
      "cell_type": "code",
      "metadata": {
        "id": "9Sj9wUiywjWb",
        "colab_type": "code",
        "outputId": "7530047b-f92c-4dca-98bd-3e2c9dd11f0c",
        "colab": {
          "base_uri": "https://localhost:8080/",
          "height": 34
        }
      },
      "source": [
        "print(f'Gradient Boost Score => {gbc.score(X_test_dtm, y_test)}')"
      ],
      "execution_count": 0,
      "outputs": [
        {
          "output_type": "stream",
          "text": [
            "Gradient Boost Score => 0.9590643274853801\n"
          ],
          "name": "stdout"
        }
      ]
    },
    {
      "cell_type": "markdown",
      "metadata": {
        "id": "gRhTY_DRikCM",
        "colab_type": "text"
      },
      "source": [
        "### Model Gradient Boost Classifier"
      ]
    },
    {
      "cell_type": "code",
      "metadata": {
        "id": "WS5x6zlRYVsz",
        "colab_type": "code",
        "colab": {}
      },
      "source": [
        "text_clf_2 = Pipeline([('vect', CountVectorizer()),\n",
        "                     ('tfidf', TfidfTransformer()),\n",
        "                     ('clf', GradientBoostingClassifier())])\n",
        "\n",
        "tuned_parameters_2 = {\n",
        "    'tfidf__use_idf': (True, False),\n",
        "    'clf__n_estimators': [5, 50, 250],\n",
        "    'clf__max_depth': [1, 3, 5, 7],\n",
        "    'clf__learning_rate': [0.01, 0.1, 1, 10, 100]\n",
        "}\n",
        "\n",
        "score_2 = 'f1_micro'"
      ],
      "execution_count": 0,
      "outputs": []
    },
    {
      "cell_type": "code",
      "metadata": {
        "id": "oCR8_CC-a0Hk",
        "colab_type": "code",
        "outputId": "56d5f5d3-3f31-4078-981e-0ee63c16dbec",
        "colab": {
          "base_uri": "https://localhost:8080/",
          "height": 544
        }
      },
      "source": [
        "gbc_cv = GridSearchCV(text_clf_2, tuned_parameters_2, cv=5, scoring=score_2, n_jobs=-1)\n",
        "gbc_cv.fit(X_train, y_train)"
      ],
      "execution_count": 0,
      "outputs": [
        {
          "output_type": "execute_result",
          "data": {
            "text/plain": [
              "GridSearchCV(cv=5, error_score=nan,\n",
              "             estimator=Pipeline(memory=None,\n",
              "                                steps=[('vect',\n",
              "                                        CountVectorizer(analyzer='word',\n",
              "                                                        binary=False,\n",
              "                                                        decode_error='strict',\n",
              "                                                        dtype=<class 'numpy.int64'>,\n",
              "                                                        encoding='utf-8',\n",
              "                                                        input='content',\n",
              "                                                        lowercase=True,\n",
              "                                                        max_df=1.0,\n",
              "                                                        max_features=None,\n",
              "                                                        min_df=1,\n",
              "                                                        ngram_range=(1, 1),\n",
              "                                                        preprocessor=None,\n",
              "                                                        stop_words=None,\n",
              "                                                        strip_accents=None,\n",
              "                                                        token_pattern='(?u)...\n",
              "                                                                   subsample=1.0,\n",
              "                                                                   tol=0.0001,\n",
              "                                                                   validation_fraction=0.1,\n",
              "                                                                   verbose=0,\n",
              "                                                                   warm_start=False))],\n",
              "                                verbose=False),\n",
              "             iid='deprecated', n_jobs=-1,\n",
              "             param_grid={'clf__learning_rate': [0.01, 0.1, 1, 10, 100],\n",
              "                         'clf__max_depth': [1, 3, 5, 7],\n",
              "                         'clf__n_estimators': [5, 50, 250],\n",
              "                         'tfidf__use_idf': (True, False)},\n",
              "             pre_dispatch='2*n_jobs', refit=True, return_train_score=False,\n",
              "             scoring='f1_micro', verbose=0)"
            ]
          },
          "metadata": {
            "tags": []
          },
          "execution_count": 97
        }
      ]
    },
    {
      "cell_type": "code",
      "metadata": {
        "id": "khpKHXE13nRx",
        "colab_type": "code",
        "outputId": "7c414bfb-0a2d-49c5-b4b7-109af55299c3",
        "colab": {
          "base_uri": "https://localhost:8080/",
          "height": 85
        }
      },
      "source": [
        "gbc_cv_preds = gbc_cv.predict(pd.Series(np.array(predict_words)))\n",
        "evaluation_test(gbc_cv_preds)"
      ],
      "execution_count": 0,
      "outputs": [
        {
          "output_type": "stream",
          "text": [
            "naufal ihsan pratama => nama\n",
            "jl juraganan rt 01 no 25 => alamat\n",
            "laki laki => gender\n",
            "vivin febriyanti strk => nama\n"
          ],
          "name": "stdout"
        }
      ]
    },
    {
      "cell_type": "code",
      "metadata": {
        "id": "pTGNofyh37hl",
        "colab_type": "code",
        "outputId": "6da43cad-dff0-4781-fc23-6f867ff5c50a",
        "colab": {
          "base_uri": "https://localhost:8080/",
          "height": 419
        }
      },
      "source": [
        "gbc_params = gbc_cv.cv_results_['params']\n",
        "gbc_split_cv_0 = gbc_cv.cv_results_['split0_test_score']\n",
        "gbc_split_cv_1 = gbc_cv.cv_results_['split1_test_score']\n",
        "gbc_split_cv_2 = gbc_cv.cv_results_['split2_test_score']\n",
        "gbc_split_cv_3 = gbc_cv.cv_results_['split3_test_score']\n",
        "gbc_split_cv_4 = gbc_cv.cv_results_['split4_test_score']\n",
        "gbc_mean_score = gbc_cv.cv_results_['mean_test_score']\n",
        "gbc_rank = gbc_cv.cv_results_['rank_test_score']\n",
        "\n",
        "clf__learning_rate = list()\n",
        "clf__max_depth = list()\n",
        "clf__n_estimators = list()\n",
        "tfidf__use_idf = list()\n",
        "\n",
        "for i in range(len(gbc_params)):\n",
        "  clf__learning_rate.append(gbc_params[i]['clf__learning_rate'])\n",
        "  clf__max_depth.append(gbc_params[i]['clf__max_depth'])\n",
        "  clf__n_estimators.append(gbc_params[i]['clf__n_estimators'])\n",
        "  tfidf__use_idf.append(gbc_params[i]['tfidf__use_idf'])\n",
        "\n",
        "gbc_result = pd.DataFrame({\n",
        "              'rank': gbc_rank,\n",
        "              'clf__learning_rate':clf__learning_rate,\n",
        "              'clf__max_depth':clf__max_depth,\n",
        "              'clf__n_estimators':clf__n_estimators,\n",
        "              'tfidf__use_idf':tfidf__use_idf,\n",
        "              'split_cv_0': gbc_split_cv_0,\n",
        "              'split_cv_1': gbc_split_cv_1,\n",
        "              'split_cv_2': gbc_split_cv_2,\n",
        "              'split_cv_3': gbc_split_cv_3,\n",
        "              'split_cv_4': gbc_split_cv_4,\n",
        "              'mean_score': gbc_mean_score })\n",
        "\n",
        "gbc_result.sort_values(by=['rank'])"
      ],
      "execution_count": 0,
      "outputs": [
        {
          "output_type": "execute_result",
          "data": {
            "text/html": [
              "<div>\n",
              "<style scoped>\n",
              "    .dataframe tbody tr th:only-of-type {\n",
              "        vertical-align: middle;\n",
              "    }\n",
              "\n",
              "    .dataframe tbody tr th {\n",
              "        vertical-align: top;\n",
              "    }\n",
              "\n",
              "    .dataframe thead th {\n",
              "        text-align: right;\n",
              "    }\n",
              "</style>\n",
              "<table border=\"1\" class=\"dataframe\">\n",
              "  <thead>\n",
              "    <tr style=\"text-align: right;\">\n",
              "      <th></th>\n",
              "      <th>rank</th>\n",
              "      <th>clf__learning_rate</th>\n",
              "      <th>clf__max_depth</th>\n",
              "      <th>clf__n_estimators</th>\n",
              "      <th>tfidf__use_idf</th>\n",
              "      <th>split_cv_0</th>\n",
              "      <th>split_cv_1</th>\n",
              "      <th>split_cv_2</th>\n",
              "      <th>split_cv_3</th>\n",
              "      <th>split_cv_4</th>\n",
              "      <th>mean_score</th>\n",
              "    </tr>\n",
              "  </thead>\n",
              "  <tbody>\n",
              "    <tr>\n",
              "      <th>59</th>\n",
              "      <td>1</td>\n",
              "      <td>1.0</td>\n",
              "      <td>3</td>\n",
              "      <td>250</td>\n",
              "      <td>False</td>\n",
              "      <td>0.973863</td>\n",
              "      <td>0.968851</td>\n",
              "      <td>0.974221</td>\n",
              "      <td>0.973505</td>\n",
              "      <td>0.973505</td>\n",
              "      <td>0.972789</td>\n",
              "    </tr>\n",
              "    <tr>\n",
              "      <th>63</th>\n",
              "      <td>2</td>\n",
              "      <td>1.0</td>\n",
              "      <td>5</td>\n",
              "      <td>50</td>\n",
              "      <td>False</td>\n",
              "      <td>0.975653</td>\n",
              "      <td>0.968135</td>\n",
              "      <td>0.970999</td>\n",
              "      <td>0.973505</td>\n",
              "      <td>0.973505</td>\n",
              "      <td>0.972359</td>\n",
              "    </tr>\n",
              "    <tr>\n",
              "      <th>71</th>\n",
              "      <td>3</td>\n",
              "      <td>1.0</td>\n",
              "      <td>7</td>\n",
              "      <td>250</td>\n",
              "      <td>False</td>\n",
              "      <td>0.974579</td>\n",
              "      <td>0.968135</td>\n",
              "      <td>0.973147</td>\n",
              "      <td>0.970999</td>\n",
              "      <td>0.973505</td>\n",
              "      <td>0.972073</td>\n",
              "    </tr>\n",
              "    <tr>\n",
              "      <th>65</th>\n",
              "      <td>4</td>\n",
              "      <td>1.0</td>\n",
              "      <td>5</td>\n",
              "      <td>250</td>\n",
              "      <td>False</td>\n",
              "      <td>0.974221</td>\n",
              "      <td>0.968493</td>\n",
              "      <td>0.972431</td>\n",
              "      <td>0.972789</td>\n",
              "      <td>0.972073</td>\n",
              "      <td>0.972001</td>\n",
              "    </tr>\n",
              "    <tr>\n",
              "      <th>69</th>\n",
              "      <td>5</td>\n",
              "      <td>1.0</td>\n",
              "      <td>7</td>\n",
              "      <td>50</td>\n",
              "      <td>False</td>\n",
              "      <td>0.974937</td>\n",
              "      <td>0.968493</td>\n",
              "      <td>0.970999</td>\n",
              "      <td>0.971357</td>\n",
              "      <td>0.972789</td>\n",
              "      <td>0.971715</td>\n",
              "    </tr>\n",
              "    <tr>\n",
              "      <th>...</th>\n",
              "      <td>...</td>\n",
              "      <td>...</td>\n",
              "      <td>...</td>\n",
              "      <td>...</td>\n",
              "      <td>...</td>\n",
              "      <td>...</td>\n",
              "      <td>...</td>\n",
              "      <td>...</td>\n",
              "      <td>...</td>\n",
              "      <td>...</td>\n",
              "      <td>...</td>\n",
              "    </tr>\n",
              "    <tr>\n",
              "      <th>98</th>\n",
              "      <td>115</td>\n",
              "      <td>100.0</td>\n",
              "      <td>1</td>\n",
              "      <td>50</td>\n",
              "      <td>True</td>\n",
              "      <td>0.146796</td>\n",
              "      <td>0.153240</td>\n",
              "      <td>0.181525</td>\n",
              "      <td>0.145363</td>\n",
              "      <td>0.143215</td>\n",
              "      <td>0.154028</td>\n",
              "    </tr>\n",
              "    <tr>\n",
              "      <th>96</th>\n",
              "      <td>115</td>\n",
              "      <td>100.0</td>\n",
              "      <td>1</td>\n",
              "      <td>5</td>\n",
              "      <td>True</td>\n",
              "      <td>0.146796</td>\n",
              "      <td>0.153240</td>\n",
              "      <td>0.181525</td>\n",
              "      <td>0.145363</td>\n",
              "      <td>0.143215</td>\n",
              "      <td>0.154028</td>\n",
              "    </tr>\n",
              "    <tr>\n",
              "      <th>91</th>\n",
              "      <td>118</td>\n",
              "      <td>10.0</td>\n",
              "      <td>7</td>\n",
              "      <td>5</td>\n",
              "      <td>False</td>\n",
              "      <td>0.269961</td>\n",
              "      <td>0.136412</td>\n",
              "      <td>0.095596</td>\n",
              "      <td>0.105263</td>\n",
              "      <td>0.142499</td>\n",
              "      <td>0.149946</td>\n",
              "    </tr>\n",
              "    <tr>\n",
              "      <th>95</th>\n",
              "      <td>118</td>\n",
              "      <td>10.0</td>\n",
              "      <td>7</td>\n",
              "      <td>250</td>\n",
              "      <td>False</td>\n",
              "      <td>0.269961</td>\n",
              "      <td>0.136412</td>\n",
              "      <td>0.095596</td>\n",
              "      <td>0.105263</td>\n",
              "      <td>0.142499</td>\n",
              "      <td>0.149946</td>\n",
              "    </tr>\n",
              "    <tr>\n",
              "      <th>93</th>\n",
              "      <td>120</td>\n",
              "      <td>10.0</td>\n",
              "      <td>7</td>\n",
              "      <td>50</td>\n",
              "      <td>False</td>\n",
              "      <td>0.269961</td>\n",
              "      <td>0.136412</td>\n",
              "      <td>0.095596</td>\n",
              "      <td>0.105263</td>\n",
              "      <td>0.134980</td>\n",
              "      <td>0.148443</td>\n",
              "    </tr>\n",
              "  </tbody>\n",
              "</table>\n",
              "<p>120 rows × 11 columns</p>\n",
              "</div>"
            ],
            "text/plain": [
              "    rank  clf__learning_rate  ...  split_cv_4  mean_score\n",
              "59     1                 1.0  ...    0.973505    0.972789\n",
              "63     2                 1.0  ...    0.973505    0.972359\n",
              "71     3                 1.0  ...    0.973505    0.972073\n",
              "65     4                 1.0  ...    0.972073    0.972001\n",
              "69     5                 1.0  ...    0.972789    0.971715\n",
              "..   ...                 ...  ...         ...         ...\n",
              "98   115               100.0  ...    0.143215    0.154028\n",
              "96   115               100.0  ...    0.143215    0.154028\n",
              "91   118                10.0  ...    0.142499    0.149946\n",
              "95   118                10.0  ...    0.142499    0.149946\n",
              "93   120                10.0  ...    0.134980    0.148443\n",
              "\n",
              "[120 rows x 11 columns]"
            ]
          },
          "metadata": {
            "tags": []
          },
          "execution_count": 107
        }
      ]
    },
    {
      "cell_type": "code",
      "metadata": {
        "id": "NbM5PvMT31q2",
        "colab_type": "code",
        "outputId": "995f2961-b656-4d81-d6e1-cb931fc32e5b",
        "colab": {
          "base_uri": "https://localhost:8080/",
          "height": 306
        }
      },
      "source": [
        "print(\"Detailed classification report:\")\n",
        "print()\n",
        "print(\"The model is trained on the full train set.\")\n",
        "print(\"The scores are computed on the full test set.\")\n",
        "print()\n",
        "y_true, y_pred = y_test, gbc_cv.predict(X_test)\n",
        "print(classification_report(y_true, y_pred))\n",
        "print()"
      ],
      "execution_count": 0,
      "outputs": [
        {
          "output_type": "stream",
          "text": [
            "Detailed classification report:\n",
            "\n",
            "The model is trained on the full train set.\n",
            "The scores are computed on the full test set.\n",
            "\n",
            "              precision    recall  f1-score   support\n",
            "\n",
            "           0       0.99      0.90      0.95      1520\n",
            "           1       1.00      1.00      1.00      1486\n",
            "           2       0.91      1.00      0.95      1497\n",
            "           3       1.00      1.00      1.00      1482\n",
            "\n",
            "    accuracy                           0.97      5985\n",
            "   macro avg       0.98      0.97      0.97      5985\n",
            "weighted avg       0.98      0.97      0.97      5985\n",
            "\n",
            "\n"
          ],
          "name": "stdout"
        }
      ]
    },
    {
      "cell_type": "markdown",
      "metadata": {
        "id": "EdNAhkbOifU9",
        "colab_type": "text"
      },
      "source": [
        "### Model LSTM"
      ]
    },
    {
      "cell_type": "code",
      "metadata": {
        "id": "whqdvq6YqulH",
        "colab_type": "code",
        "colab": {}
      },
      "source": [
        "X = df1.entity\n",
        "y = pd.get_dummies(df1.category).values"
      ],
      "execution_count": 0,
      "outputs": []
    },
    {
      "cell_type": "code",
      "metadata": {
        "id": "9ynI9W5_jCHT",
        "colab_type": "code",
        "colab": {}
      },
      "source": [
        "X_train, X_test, y_train, y_test = train_test_split(X, y, test_size = 0.3, random_state = 21)"
      ],
      "execution_count": 0,
      "outputs": []
    },
    {
      "cell_type": "code",
      "metadata": {
        "id": "OAOAIWx4EALO",
        "colab_type": "code",
        "colab": {}
      },
      "source": [
        "vocab_size = 5000\n",
        "max_seq_word = 12\n",
        "embedding_size = 64"
      ],
      "execution_count": 0,
      "outputs": []
    },
    {
      "cell_type": "code",
      "metadata": {
        "id": "OmQ1LtITfnRp",
        "colab_type": "code",
        "colab": {}
      },
      "source": [
        "X_lstm_train, X_lstm_val, y_lstm_train, y_lstm_val = train_test_split(X_train, y_train, train_size = 0.9, random_state = 21)"
      ],
      "execution_count": 0,
      "outputs": []
    },
    {
      "cell_type": "code",
      "metadata": {
        "id": "ZXT085km9RIB",
        "colab_type": "code",
        "colab": {}
      },
      "source": [
        "tokenizer = Tokenizer(num_words = vocab_size, filters = punctuation, lower= True)\n",
        "tokenizer.fit_on_texts(X_lstm_train.values)"
      ],
      "execution_count": 0,
      "outputs": []
    },
    {
      "cell_type": "code",
      "metadata": {
        "id": "awH_GzBr9RFS",
        "colab_type": "code",
        "outputId": "c6756cb4-a488-4d79-99e4-8ab87e9dfea4",
        "colab": {
          "base_uri": "https://localhost:8080/",
          "height": 34
        }
      },
      "source": [
        "word_index = tokenizer.word_index\n",
        "print('Found %s unique tokens.' % len(word_index))"
      ],
      "execution_count": 42,
      "outputs": [
        {
          "output_type": "stream",
          "text": [
            "Found 8657 unique tokens.\n"
          ],
          "name": "stdout"
        }
      ]
    },
    {
      "cell_type": "code",
      "metadata": {
        "id": "ggifzgpcd5SR",
        "colab_type": "code",
        "outputId": "0308588e-7985-41b8-82bf-a12e07a62a6b",
        "colab": {
          "base_uri": "https://localhost:8080/",
          "height": 34
        }
      },
      "source": [
        "dict(list(word_index.items())[0:5])"
      ],
      "execution_count": 43,
      "outputs": [
        {
          "output_type": "execute_result",
          "data": {
            "text/plain": [
              "{'laki': 1, 'no': 4, 'pria': 2, 'rt': 3, 'rw': 5}"
            ]
          },
          "metadata": {
            "tags": []
          },
          "execution_count": 43
        }
      ]
    },
    {
      "cell_type": "code",
      "metadata": {
        "id": "rUTCfKW69RCi",
        "colab_type": "code",
        "colab": {}
      },
      "source": [
        "lstm_train_seq = tokenizer.texts_to_sequences(X_lstm_train.values)\n",
        "lstm_val_seq = tokenizer.texts_to_sequences(X_lstm_val.values)"
      ],
      "execution_count": 0,
      "outputs": []
    },
    {
      "cell_type": "code",
      "metadata": {
        "id": "l9v72mct9Q_z",
        "colab_type": "code",
        "colab": {}
      },
      "source": [
        "lstm_train_padded = sequence.pad_sequences(lstm_train_seq, maxlen= max_seq_word)\n",
        "lstm_val_padded = sequence.pad_sequences(lstm_val_seq, maxlen= max_seq_word)"
      ],
      "execution_count": 0,
      "outputs": []
    },
    {
      "cell_type": "code",
      "metadata": {
        "id": "ry7NPu0yhDUL",
        "colab_type": "code",
        "outputId": "46949929-d492-4470-e2c2-53ccde54538a",
        "colab": {
          "base_uri": "https://localhost:8080/",
          "height": 34
        }
      },
      "source": [
        "lstm_train_seq[0]"
      ],
      "execution_count": 46,
      "outputs": [
        {
          "output_type": "execute_result",
          "data": {
            "text/plain": [
              "[185, 2632]"
            ]
          },
          "metadata": {
            "tags": []
          },
          "execution_count": 46
        }
      ]
    },
    {
      "cell_type": "code",
      "metadata": {
        "id": "VbWhGsjlhLKK",
        "colab_type": "code",
        "outputId": "8905cde6-b3c8-4fc9-dff9-301694334b25",
        "colab": {
          "base_uri": "https://localhost:8080/",
          "height": 51
        }
      },
      "source": [
        "lstm_train_padded[0]"
      ],
      "execution_count": 47,
      "outputs": [
        {
          "output_type": "execute_result",
          "data": {
            "text/plain": [
              "array([   0,    0,    0,    0,    0,    0,    0,    0,    0,    0,  185,\n",
              "       2632], dtype=int32)"
            ]
          },
          "metadata": {
            "tags": []
          },
          "execution_count": 47
        }
      ]
    },
    {
      "cell_type": "code",
      "metadata": {
        "id": "998DIufybigu",
        "colab_type": "code",
        "outputId": "bdcac162-0831-4933-9450-bb1f88673861",
        "colab": {
          "base_uri": "https://localhost:8080/",
          "height": 68
        }
      },
      "source": [
        "reverse_word_index = dict([(value, key) for (key, value) in word_index.items()])\n",
        "def decode_entity(text):\n",
        "    return ' '.join([reverse_word_index.get(i, '?') for i in text])\n",
        "\n",
        "print(decode_entity(lstm_train_padded[2]))\n",
        "print('==== DECODE ====')\n",
        "print(X_lstm_train.values[2])"
      ],
      "execution_count": 50,
      "outputs": [
        {
          "output_type": "stream",
          "text": [
            "? ? ? ? ? ? ? ? jakarta 12 05 1988\n",
            "==== DECODE ====\n",
            "jakarta 12 05 1988\n"
          ],
          "name": "stdout"
        }
      ]
    },
    {
      "cell_type": "code",
      "metadata": {
        "id": "T4LsVg9NB27c",
        "colab_type": "code",
        "outputId": "e02fa8eb-5abb-4b93-f030-2354ea85a2e5",
        "colab": {
          "base_uri": "https://localhost:8080/",
          "height": 1000
        }
      },
      "source": [
        "def tuning_lstm(x_train, y_train, x_val, y_val, params):\n",
        "    \n",
        "    dropout = float(params['dropout'])\n",
        "    lstm_neuron = int(params['lstm_neuron'])\n",
        "    \n",
        "    model = Sequential()\n",
        "    model.add(Embedding(vocab_size, embedding_size))\n",
        "    model.add(SpatialDropout1D(dropout))\n",
        "    model.add(\n",
        "          LSTM (\n",
        "            lstm_neuron,\n",
        "            activation='tanh',\n",
        "            recurrent_activation='hard_sigmoid',\n",
        "            dropout=dropout\n",
        "      )\n",
        "    )\n",
        "    model.add(Dense(4, activation='softmax'))\n",
        "    \n",
        "    model.compile(\n",
        "        optimizer=params['optimizer'],\n",
        "        loss='categorical_crossentropy',\n",
        "        metrics=['accuracy']\n",
        "    )\n",
        "\n",
        "    out = model.fit(\n",
        "        x_train, y_train, epochs=params['epochs'], batch_size=params['batch_size'], \n",
        "        verbose=1,\n",
        "        validation_data=[x_val, y_val]\n",
        "    )\n",
        "    \n",
        "    return out, model\n",
        "\n",
        "tuned_parameters_3 = {\n",
        "    'epochs': [5],\n",
        "    'batch_size': [32, 64],\n",
        "    'lstm_neuron': [100, 200],\n",
        "    'optimizer': ['adam'],\n",
        "    'dropout': [0.2,0.3,0.4]\n",
        "}\n",
        "\n",
        "scan_results = talos.Scan(lstm_train_padded, y_lstm_train,\n",
        "                          x_val=lstm_val_padded, y_val=y_lstm_val,\n",
        "                          params=tuned_parameters_3,\n",
        "                          model=tuning_lstm,\n",
        "                          experiment_name='Tuning LSTM Model')"
      ],
      "execution_count": 55,
      "outputs": [
        {
          "output_type": "stream",
          "text": [
            "\n",
            "  0%|          | 0/12 [00:00<?, ?it/s]\u001b[A"
          ],
          "name": "stderr"
        },
        {
          "output_type": "stream",
          "text": [
            "Train on 12568 samples, validate on 1397 samples\n",
            "Epoch 1/5\n",
            "12568/12568 [==============================] - 9s 691us/step - loss: 0.3132 - accuracy: 0.8869 - val_loss: 0.0746 - val_accuracy: 0.9764\n",
            "Epoch 2/5\n",
            "12568/12568 [==============================] - 8s 647us/step - loss: 0.0421 - accuracy: 0.9862 - val_loss: 0.0563 - val_accuracy: 0.9814\n",
            "Epoch 3/5\n",
            "12568/12568 [==============================] - 8s 649us/step - loss: 0.0189 - accuracy: 0.9951 - val_loss: 0.0453 - val_accuracy: 0.9828\n",
            "Epoch 4/5\n",
            "12568/12568 [==============================] - 8s 646us/step - loss: 0.0144 - accuracy: 0.9959 - val_loss: 0.0490 - val_accuracy: 0.9835\n",
            "Epoch 5/5\n",
            "12568/12568 [==============================] - 8s 645us/step - loss: 0.0131 - accuracy: 0.9967 - val_loss: 0.0446 - val_accuracy: 0.9835\n"
          ],
          "name": "stdout"
        },
        {
          "output_type": "stream",
          "text": [
            "\n",
            "  8%|▊         | 1/12 [00:42<07:51, 42.89s/it]\u001b[A"
          ],
          "name": "stderr"
        },
        {
          "output_type": "stream",
          "text": [
            "Train on 12568 samples, validate on 1397 samples\n",
            "Epoch 1/5\n",
            "12568/12568 [==============================] - 19s 2ms/step - loss: 0.2766 - accuracy: 0.9093 - val_loss: 0.0679 - val_accuracy: 0.9757\n",
            "Epoch 2/5\n",
            "12568/12568 [==============================] - 19s 1ms/step - loss: 0.0420 - accuracy: 0.9855 - val_loss: 0.0475 - val_accuracy: 0.9814\n",
            "Epoch 3/5\n",
            "12568/12568 [==============================] - 18s 1ms/step - loss: 0.0175 - accuracy: 0.9955 - val_loss: 0.0552 - val_accuracy: 0.9828\n",
            "Epoch 4/5\n",
            "12568/12568 [==============================] - 18s 1ms/step - loss: 0.0140 - accuracy: 0.9966 - val_loss: 0.0529 - val_accuracy: 0.9828\n",
            "Epoch 5/5\n",
            "12568/12568 [==============================] - 18s 1ms/step - loss: 0.0117 - accuracy: 0.9969 - val_loss: 0.0524 - val_accuracy: 0.9835\n"
          ],
          "name": "stdout"
        },
        {
          "output_type": "stream",
          "text": [
            "\n",
            " 17%|█▋        | 2/12 [02:17<09:42, 58.28s/it]\u001b[A"
          ],
          "name": "stderr"
        },
        {
          "output_type": "stream",
          "text": [
            "Train on 12568 samples, validate on 1397 samples\n",
            "Epoch 1/5\n",
            "12568/12568 [==============================] - 9s 685us/step - loss: 0.3406 - accuracy: 0.8770 - val_loss: 0.0697 - val_accuracy: 0.9749\n",
            "Epoch 2/5\n",
            "12568/12568 [==============================] - 8s 656us/step - loss: 0.0495 - accuracy: 0.9835 - val_loss: 0.0511 - val_accuracy: 0.9807\n",
            "Epoch 3/5\n",
            "12568/12568 [==============================] - 8s 652us/step - loss: 0.0219 - accuracy: 0.9936 - val_loss: 0.0529 - val_accuracy: 0.9800\n",
            "Epoch 4/5\n",
            "12568/12568 [==============================] - 8s 646us/step - loss: 0.0158 - accuracy: 0.9959 - val_loss: 0.0469 - val_accuracy: 0.9807\n",
            "Epoch 5/5\n",
            "12568/12568 [==============================] - 8s 652us/step - loss: 0.0133 - accuracy: 0.9965 - val_loss: 0.0419 - val_accuracy: 0.9850\n"
          ],
          "name": "stdout"
        },
        {
          "output_type": "stream",
          "text": [
            "\n",
            " 25%|██▌       | 3/12 [03:00<08:03, 53.68s/it]\u001b[A"
          ],
          "name": "stderr"
        },
        {
          "output_type": "stream",
          "text": [
            "Train on 12568 samples, validate on 1397 samples\n",
            "Epoch 1/5\n",
            "12568/12568 [==============================] - 19s 2ms/step - loss: 0.3131 - accuracy: 0.8935 - val_loss: 0.0747 - val_accuracy: 0.9742\n",
            "Epoch 2/5\n",
            "12568/12568 [==============================] - 19s 2ms/step - loss: 0.0521 - accuracy: 0.9827 - val_loss: 0.0565 - val_accuracy: 0.9807\n",
            "Epoch 3/5\n",
            "12568/12568 [==============================] - 19s 1ms/step - loss: 0.0237 - accuracy: 0.9936 - val_loss: 0.0572 - val_accuracy: 0.9843\n",
            "Epoch 4/5\n",
            "12568/12568 [==============================] - 19s 2ms/step - loss: 0.0151 - accuracy: 0.9967 - val_loss: 0.0445 - val_accuracy: 0.9843\n",
            "Epoch 5/5\n",
            "12568/12568 [==============================] - 19s 1ms/step - loss: 0.0136 - accuracy: 0.9967 - val_loss: 0.0565 - val_accuracy: 0.9828\n"
          ],
          "name": "stdout"
        },
        {
          "output_type": "stream",
          "text": [
            "\n",
            " 33%|███▎      | 4/12 [04:36<08:51, 66.47s/it]\u001b[A"
          ],
          "name": "stderr"
        },
        {
          "output_type": "stream",
          "text": [
            "Train on 12568 samples, validate on 1397 samples\n",
            "Epoch 1/5\n",
            "12568/12568 [==============================] - 9s 699us/step - loss: 0.3419 - accuracy: 0.8797 - val_loss: 0.0671 - val_accuracy: 0.9778\n",
            "Epoch 2/5\n",
            "12568/12568 [==============================] - 8s 659us/step - loss: 0.0608 - accuracy: 0.9794 - val_loss: 0.0614 - val_accuracy: 0.9800\n",
            "Epoch 3/5\n",
            "12568/12568 [==============================] - 8s 664us/step - loss: 0.0298 - accuracy: 0.9902 - val_loss: 0.0429 - val_accuracy: 0.9828\n",
            "Epoch 4/5\n",
            "12568/12568 [==============================] - 8s 658us/step - loss: 0.0202 - accuracy: 0.9946 - val_loss: 0.0439 - val_accuracy: 0.9835\n",
            "Epoch 5/5\n",
            "12568/12568 [==============================] - 8s 657us/step - loss: 0.0157 - accuracy: 0.9960 - val_loss: 0.0429 - val_accuracy: 0.9850\n"
          ],
          "name": "stdout"
        },
        {
          "output_type": "stream",
          "text": [
            "\n",
            " 42%|████▏     | 5/12 [05:19<06:57, 59.60s/it]\u001b[A"
          ],
          "name": "stderr"
        },
        {
          "output_type": "stream",
          "text": [
            "Train on 12568 samples, validate on 1397 samples\n",
            "Epoch 1/5\n",
            "12568/12568 [==============================] - 19s 2ms/step - loss: 0.3362 - accuracy: 0.8784 - val_loss: 0.0747 - val_accuracy: 0.9742\n",
            "Epoch 2/5\n",
            "12568/12568 [==============================] - 19s 2ms/step - loss: 0.0585 - accuracy: 0.9800 - val_loss: 0.0482 - val_accuracy: 0.9814\n",
            "Epoch 3/5\n",
            "12568/12568 [==============================] - 19s 2ms/step - loss: 0.0298 - accuracy: 0.9910 - val_loss: 0.0497 - val_accuracy: 0.9828\n",
            "Epoch 4/5\n",
            "12568/12568 [==============================] - 19s 2ms/step - loss: 0.0221 - accuracy: 0.9942 - val_loss: 0.0411 - val_accuracy: 0.9843\n",
            "Epoch 5/5\n",
            "12568/12568 [==============================] - 19s 1ms/step - loss: 0.0144 - accuracy: 0.9963 - val_loss: 0.0492 - val_accuracy: 0.9843\n"
          ],
          "name": "stdout"
        },
        {
          "output_type": "stream",
          "text": [
            "\n",
            " 50%|█████     | 6/12 [06:56<07:04, 70.77s/it]\u001b[A"
          ],
          "name": "stderr"
        },
        {
          "output_type": "stream",
          "text": [
            "Train on 12568 samples, validate on 1397 samples\n",
            "Epoch 1/5\n",
            "12568/12568 [==============================] - 8s 616us/step - loss: 0.4624 - accuracy: 0.8468 - val_loss: 0.1118 - val_accuracy: 0.9642\n",
            "Epoch 2/5\n",
            "12568/12568 [==============================] - 7s 567us/step - loss: 0.0635 - accuracy: 0.9786 - val_loss: 0.0538 - val_accuracy: 0.9814\n",
            "Epoch 3/5\n",
            "12568/12568 [==============================] - 7s 569us/step - loss: 0.0302 - accuracy: 0.9901 - val_loss: 0.0458 - val_accuracy: 0.9828\n",
            "Epoch 4/5\n",
            "12568/12568 [==============================] - 7s 567us/step - loss: 0.0180 - accuracy: 0.9959 - val_loss: 0.0452 - val_accuracy: 0.9821\n",
            "Epoch 5/5\n",
            "12568/12568 [==============================] - 7s 567us/step - loss: 0.0139 - accuracy: 0.9967 - val_loss: 0.0432 - val_accuracy: 0.9828\n"
          ],
          "name": "stdout"
        },
        {
          "output_type": "stream",
          "text": [
            "\n",
            " 58%|█████▊    | 7/12 [07:34<05:04, 60.91s/it]\u001b[A"
          ],
          "name": "stderr"
        },
        {
          "output_type": "stream",
          "text": [
            "Train on 12568 samples, validate on 1397 samples\n",
            "Epoch 1/5\n",
            "12568/12568 [==============================] - 13s 1ms/step - loss: 0.4444 - accuracy: 0.8405 - val_loss: 0.0883 - val_accuracy: 0.9671\n",
            "Epoch 2/5\n",
            "12568/12568 [==============================] - 13s 1ms/step - loss: 0.0642 - accuracy: 0.9791 - val_loss: 0.0515 - val_accuracy: 0.9800\n",
            "Epoch 3/5\n",
            "12568/12568 [==============================] - 12s 989us/step - loss: 0.0279 - accuracy: 0.9908 - val_loss: 0.0447 - val_accuracy: 0.9835\n",
            "Epoch 4/5\n",
            "12568/12568 [==============================] - 13s 1ms/step - loss: 0.0175 - accuracy: 0.9952 - val_loss: 0.0615 - val_accuracy: 0.9821\n",
            "Epoch 5/5\n",
            "12568/12568 [==============================] - 13s 1ms/step - loss: 0.0143 - accuracy: 0.9967 - val_loss: 0.0432 - val_accuracy: 0.9828\n"
          ],
          "name": "stdout"
        },
        {
          "output_type": "stream",
          "text": [
            "\n",
            " 67%|██████▋   | 8/12 [08:39<04:08, 62.19s/it]\u001b[A"
          ],
          "name": "stderr"
        },
        {
          "output_type": "stream",
          "text": [
            "Train on 12568 samples, validate on 1397 samples\n",
            "Epoch 1/5\n",
            "12568/12568 [==============================] - 8s 607us/step - loss: 0.4878 - accuracy: 0.8425 - val_loss: 0.0908 - val_accuracy: 0.9692\n",
            "Epoch 2/5\n",
            "12568/12568 [==============================] - 7s 565us/step - loss: 0.0720 - accuracy: 0.9759 - val_loss: 0.0811 - val_accuracy: 0.9821\n",
            "Epoch 3/5\n",
            "12568/12568 [==============================] - 7s 566us/step - loss: 0.0360 - accuracy: 0.9892 - val_loss: 0.0644 - val_accuracy: 0.9792\n",
            "Epoch 4/5\n",
            "12568/12568 [==============================] - 7s 563us/step - loss: 0.0212 - accuracy: 0.9940 - val_loss: 0.0461 - val_accuracy: 0.9828\n",
            "Epoch 5/5\n",
            "12568/12568 [==============================] - 7s 562us/step - loss: 0.0158 - accuracy: 0.9959 - val_loss: 0.0432 - val_accuracy: 0.9828\n"
          ],
          "name": "stdout"
        },
        {
          "output_type": "stream",
          "text": [
            "\n",
            " 75%|███████▌  | 9/12 [09:17<02:44, 54.81s/it]\u001b[A"
          ],
          "name": "stderr"
        },
        {
          "output_type": "stream",
          "text": [
            "Train on 12568 samples, validate on 1397 samples\n",
            "Epoch 1/5\n",
            "12568/12568 [==============================] - 13s 1ms/step - loss: 0.4467 - accuracy: 0.8530 - val_loss: 0.0885 - val_accuracy: 0.9721\n",
            "Epoch 2/5\n",
            "12568/12568 [==============================] - 13s 996us/step - loss: 0.0678 - accuracy: 0.9780 - val_loss: 0.0650 - val_accuracy: 0.9778\n",
            "Epoch 3/5\n",
            "12568/12568 [==============================] - 13s 996us/step - loss: 0.0310 - accuracy: 0.9904 - val_loss: 0.0519 - val_accuracy: 0.9807\n",
            "Epoch 4/5\n",
            "12568/12568 [==============================] - 13s 999us/step - loss: 0.0191 - accuracy: 0.9950 - val_loss: 0.0467 - val_accuracy: 0.9835\n",
            "Epoch 5/5\n",
            "12568/12568 [==============================] - 13s 999us/step - loss: 0.0148 - accuracy: 0.9967 - val_loss: 0.0446 - val_accuracy: 0.9835\n"
          ],
          "name": "stdout"
        },
        {
          "output_type": "stream",
          "text": [
            "\n",
            " 83%|████████▎ | 10/12 [10:22<01:55, 57.85s/it]\u001b[A"
          ],
          "name": "stderr"
        },
        {
          "output_type": "stream",
          "text": [
            "Train on 12568 samples, validate on 1397 samples\n",
            "Epoch 1/5\n",
            "12568/12568 [==============================] - 8s 612us/step - loss: 0.5186 - accuracy: 0.8202 - val_loss: 0.1036 - val_accuracy: 0.9649\n",
            "Epoch 2/5\n",
            "12568/12568 [==============================] - 7s 564us/step - loss: 0.0864 - accuracy: 0.9730 - val_loss: 0.0632 - val_accuracy: 0.9778\n",
            "Epoch 3/5\n",
            "12568/12568 [==============================] - 7s 561us/step - loss: 0.0488 - accuracy: 0.9838 - val_loss: 0.0554 - val_accuracy: 0.9814\n",
            "Epoch 4/5\n",
            "12568/12568 [==============================] - 7s 560us/step - loss: 0.0268 - accuracy: 0.9922 - val_loss: 0.0476 - val_accuracy: 0.9828\n",
            "Epoch 5/5\n",
            "12568/12568 [==============================] - 7s 563us/step - loss: 0.0191 - accuracy: 0.9954 - val_loss: 0.0456 - val_accuracy: 0.9835\n"
          ],
          "name": "stdout"
        },
        {
          "output_type": "stream",
          "text": [
            "\n",
            " 92%|█████████▏| 11/12 [10:59<00:51, 51.76s/it]\u001b[A"
          ],
          "name": "stderr"
        },
        {
          "output_type": "stream",
          "text": [
            "Train on 12568 samples, validate on 1397 samples\n",
            "Epoch 1/5\n",
            "12568/12568 [==============================] - 13s 1ms/step - loss: 0.4686 - accuracy: 0.8365 - val_loss: 0.1672 - val_accuracy: 0.9420\n",
            "Epoch 2/5\n",
            "12568/12568 [==============================] - 13s 1ms/step - loss: 0.0838 - accuracy: 0.9710 - val_loss: 0.0558 - val_accuracy: 0.9800\n",
            "Epoch 3/5\n",
            "12568/12568 [==============================] - 13s 998us/step - loss: 0.0405 - accuracy: 0.9868 - val_loss: 0.0497 - val_accuracy: 0.9835\n",
            "Epoch 4/5\n",
            "12568/12568 [==============================] - 12s 989us/step - loss: 0.0245 - accuracy: 0.9932 - val_loss: 0.0556 - val_accuracy: 0.9814\n",
            "Epoch 5/5\n",
            "12568/12568 [==============================] - 13s 997us/step - loss: 0.0183 - accuracy: 0.9952 - val_loss: 0.0502 - val_accuracy: 0.9828\n"
          ],
          "name": "stdout"
        },
        {
          "output_type": "stream",
          "text": [
            "\n",
            "100%|██████████| 12/12 [12:04<00:00, 60.39s/it]\n"
          ],
          "name": "stderr"
        }
      ]
    },
    {
      "cell_type": "code",
      "metadata": {
        "id": "BMj4-jmVEkbL",
        "colab_type": "code",
        "outputId": "ca7db66c-ca46-46e5-f548-fe1db4ad93e4",
        "colab": {
          "base_uri": "https://localhost:8080/",
          "height": 204
        }
      },
      "source": [
        "scan_results.details"
      ],
      "execution_count": 56,
      "outputs": [
        {
          "output_type": "execute_result",
          "data": {
            "text/plain": [
              "experiment_name        Tuning LSTM Model\n",
              "random_method           uniform_mersenne\n",
              "reduction_method                    None\n",
              "reduction_interval                    50\n",
              "reduction_window                      20\n",
              "reduction_threshold                  0.2\n",
              "reduction_metric                 val_acc\n",
              "complete_time             06/12/20/02:46\n",
              "x_shape                      (12568, 12)\n",
              "y_shape                       (12568, 4)\n",
              "dtype: object"
            ]
          },
          "metadata": {
            "tags": []
          },
          "execution_count": 56
        }
      ]
    },
    {
      "cell_type": "code",
      "metadata": {
        "id": "ogFEBtfxF406",
        "colab_type": "code",
        "outputId": "b40cba03-bef0-4680-f8a7-01ecd12efe08",
        "colab": {
          "base_uri": "https://localhost:8080/",
          "height": 421
        }
      },
      "source": [
        "analyze_object = talos.Analyze(scan_results)\n",
        "analyze_object.data.sort_values(by=['val_accuracy'],ascending=False)"
      ],
      "execution_count": 57,
      "outputs": [
        {
          "output_type": "execute_result",
          "data": {
            "text/html": [
              "<div>\n",
              "<style scoped>\n",
              "    .dataframe tbody tr th:only-of-type {\n",
              "        vertical-align: middle;\n",
              "    }\n",
              "\n",
              "    .dataframe tbody tr th {\n",
              "        vertical-align: top;\n",
              "    }\n",
              "\n",
              "    .dataframe thead th {\n",
              "        text-align: right;\n",
              "    }\n",
              "</style>\n",
              "<table border=\"1\" class=\"dataframe\">\n",
              "  <thead>\n",
              "    <tr style=\"text-align: right;\">\n",
              "      <th></th>\n",
              "      <th>round_epochs</th>\n",
              "      <th>val_loss</th>\n",
              "      <th>val_accuracy</th>\n",
              "      <th>loss</th>\n",
              "      <th>accuracy</th>\n",
              "      <th>batch_size</th>\n",
              "      <th>dropout</th>\n",
              "      <th>epochs</th>\n",
              "      <th>lstm_neuron</th>\n",
              "      <th>optimizer</th>\n",
              "    </tr>\n",
              "  </thead>\n",
              "  <tbody>\n",
              "    <tr>\n",
              "      <th>2</th>\n",
              "      <td>5</td>\n",
              "      <td>0.041901</td>\n",
              "      <td>0.984968</td>\n",
              "      <td>0.013343</td>\n",
              "      <td>0.996499</td>\n",
              "      <td>32</td>\n",
              "      <td>0.3</td>\n",
              "      <td>5</td>\n",
              "      <td>100</td>\n",
              "      <td>adam</td>\n",
              "    </tr>\n",
              "    <tr>\n",
              "      <th>4</th>\n",
              "      <td>5</td>\n",
              "      <td>0.042933</td>\n",
              "      <td>0.984968</td>\n",
              "      <td>0.015675</td>\n",
              "      <td>0.996022</td>\n",
              "      <td>32</td>\n",
              "      <td>0.4</td>\n",
              "      <td>5</td>\n",
              "      <td>100</td>\n",
              "      <td>adam</td>\n",
              "    </tr>\n",
              "    <tr>\n",
              "      <th>5</th>\n",
              "      <td>5</td>\n",
              "      <td>0.049201</td>\n",
              "      <td>0.984252</td>\n",
              "      <td>0.014432</td>\n",
              "      <td>0.996260</td>\n",
              "      <td>32</td>\n",
              "      <td>0.4</td>\n",
              "      <td>5</td>\n",
              "      <td>200</td>\n",
              "      <td>adam</td>\n",
              "    </tr>\n",
              "    <tr>\n",
              "      <th>0</th>\n",
              "      <td>5</td>\n",
              "      <td>0.044605</td>\n",
              "      <td>0.983536</td>\n",
              "      <td>0.013079</td>\n",
              "      <td>0.996738</td>\n",
              "      <td>32</td>\n",
              "      <td>0.2</td>\n",
              "      <td>5</td>\n",
              "      <td>100</td>\n",
              "      <td>adam</td>\n",
              "    </tr>\n",
              "    <tr>\n",
              "      <th>1</th>\n",
              "      <td>5</td>\n",
              "      <td>0.052357</td>\n",
              "      <td>0.983536</td>\n",
              "      <td>0.011748</td>\n",
              "      <td>0.996897</td>\n",
              "      <td>32</td>\n",
              "      <td>0.2</td>\n",
              "      <td>5</td>\n",
              "      <td>200</td>\n",
              "      <td>adam</td>\n",
              "    </tr>\n",
              "    <tr>\n",
              "      <th>9</th>\n",
              "      <td>5</td>\n",
              "      <td>0.044575</td>\n",
              "      <td>0.983536</td>\n",
              "      <td>0.014818</td>\n",
              "      <td>0.996738</td>\n",
              "      <td>64</td>\n",
              "      <td>0.3</td>\n",
              "      <td>5</td>\n",
              "      <td>200</td>\n",
              "      <td>adam</td>\n",
              "    </tr>\n",
              "    <tr>\n",
              "      <th>10</th>\n",
              "      <td>5</td>\n",
              "      <td>0.045627</td>\n",
              "      <td>0.983536</td>\n",
              "      <td>0.019056</td>\n",
              "      <td>0.995385</td>\n",
              "      <td>64</td>\n",
              "      <td>0.4</td>\n",
              "      <td>5</td>\n",
              "      <td>100</td>\n",
              "      <td>adam</td>\n",
              "    </tr>\n",
              "    <tr>\n",
              "      <th>3</th>\n",
              "      <td>5</td>\n",
              "      <td>0.056500</td>\n",
              "      <td>0.982820</td>\n",
              "      <td>0.013616</td>\n",
              "      <td>0.996738</td>\n",
              "      <td>32</td>\n",
              "      <td>0.3</td>\n",
              "      <td>5</td>\n",
              "      <td>200</td>\n",
              "      <td>adam</td>\n",
              "    </tr>\n",
              "    <tr>\n",
              "      <th>6</th>\n",
              "      <td>5</td>\n",
              "      <td>0.043207</td>\n",
              "      <td>0.982820</td>\n",
              "      <td>0.013871</td>\n",
              "      <td>0.996658</td>\n",
              "      <td>64</td>\n",
              "      <td>0.2</td>\n",
              "      <td>5</td>\n",
              "      <td>100</td>\n",
              "      <td>adam</td>\n",
              "    </tr>\n",
              "    <tr>\n",
              "      <th>7</th>\n",
              "      <td>5</td>\n",
              "      <td>0.043184</td>\n",
              "      <td>0.982820</td>\n",
              "      <td>0.014257</td>\n",
              "      <td>0.996738</td>\n",
              "      <td>64</td>\n",
              "      <td>0.2</td>\n",
              "      <td>5</td>\n",
              "      <td>200</td>\n",
              "      <td>adam</td>\n",
              "    </tr>\n",
              "    <tr>\n",
              "      <th>8</th>\n",
              "      <td>5</td>\n",
              "      <td>0.043221</td>\n",
              "      <td>0.982820</td>\n",
              "      <td>0.015804</td>\n",
              "      <td>0.995942</td>\n",
              "      <td>64</td>\n",
              "      <td>0.3</td>\n",
              "      <td>5</td>\n",
              "      <td>100</td>\n",
              "      <td>adam</td>\n",
              "    </tr>\n",
              "    <tr>\n",
              "      <th>11</th>\n",
              "      <td>5</td>\n",
              "      <td>0.050187</td>\n",
              "      <td>0.982820</td>\n",
              "      <td>0.018266</td>\n",
              "      <td>0.995226</td>\n",
              "      <td>64</td>\n",
              "      <td>0.4</td>\n",
              "      <td>5</td>\n",
              "      <td>200</td>\n",
              "      <td>adam</td>\n",
              "    </tr>\n",
              "  </tbody>\n",
              "</table>\n",
              "</div>"
            ],
            "text/plain": [
              "    round_epochs  val_loss  val_accuracy  ...  epochs  lstm_neuron  optimizer\n",
              "2              5  0.041901      0.984968  ...       5          100       adam\n",
              "4              5  0.042933      0.984968  ...       5          100       adam\n",
              "5              5  0.049201      0.984252  ...       5          200       adam\n",
              "0              5  0.044605      0.983536  ...       5          100       adam\n",
              "1              5  0.052357      0.983536  ...       5          200       adam\n",
              "9              5  0.044575      0.983536  ...       5          200       adam\n",
              "10             5  0.045627      0.983536  ...       5          100       adam\n",
              "3              5  0.056500      0.982820  ...       5          200       adam\n",
              "6              5  0.043207      0.982820  ...       5          100       adam\n",
              "7              5  0.043184      0.982820  ...       5          200       adam\n",
              "8              5  0.043221      0.982820  ...       5          100       adam\n",
              "11             5  0.050187      0.982820  ...       5          200       adam\n",
              "\n",
              "[12 rows x 10 columns]"
            ]
          },
          "metadata": {
            "tags": []
          },
          "execution_count": 57
        }
      ]
    },
    {
      "cell_type": "code",
      "metadata": {
        "id": "4JUGLSxFPetR",
        "colab_type": "code",
        "outputId": "6c334f54-eee8-44a5-929b-cc957bbf8d03",
        "colab": {
          "base_uri": "https://localhost:8080/",
          "height": 573
        }
      },
      "source": [
        "analyze_object.plot_corr('val_accuracy', ['accuracy', 'loss', 'val_loss'])"
      ],
      "execution_count": 58,
      "outputs": [
        {
          "output_type": "stream",
          "text": [
            "findfont: Font family ['Verdana'] not found. Falling back to DejaVu Sans.\n"
          ],
          "name": "stderr"
        },
        {
          "output_type": "display_data",
          "data": {
            "image/png": "[encoded data removed]",
            "text/plain": [
              "<Figure size 576x576 with 2 Axes>"
            ]
          },
          "metadata": {
            "tags": []
          }
        }
      ]
    },
    {
      "cell_type": "code",
      "metadata": {
        "id": "6IXCN-FPHD2Q",
        "colab_type": "code",
        "outputId": "47316c61-3f66-4024-a854-44ee943f35f4",
        "colab": {
          "base_uri": "https://localhost:8080/",
          "height": 34
        }
      },
      "source": [
        "talos.Deploy(scan_object=scan_results, model_name='lstm_deploy_3', metric='val_accuracy')"
      ],
      "execution_count": 60,
      "outputs": [
        {
          "output_type": "stream",
          "text": [
            "Deploy package lstm_deploy_3 have been saved.\n"
          ],
          "name": "stdout"
        }
      ]
    },
    {
      "cell_type": "code",
      "metadata": {
        "id": "E6R8c2ZpVrwa",
        "colab_type": "code",
        "outputId": "73cb6850-11bc-46b2-bc7e-d836f7292858",
        "colab": {
          "base_uri": "https://localhost:8080/",
          "height": 153
        }
      },
      "source": [
        "!ls -al"
      ],
      "execution_count": 61,
      "outputs": [
        {
          "output_type": "stream",
          "text": [
            "total 1956\n",
            "drwxr-xr-x 1 root root    4096 Jun 12 03:00  .\n",
            "drwxr-xr-x 1 root root    4096 Jun 12 02:14  ..\n",
            "drwxr-xr-x 1 root root    4096 Jun 10 16:28  .config\n",
            "-rw-r--r-- 1 root root  537182 Jun 12 02:24  dw_customer_5000.csv\n",
            "-rw-r--r-- 1 root root 1438433 Jun 12 03:00  lstm_deploy_3.zip\n",
            "drwxr-xr-x 1 root root    4096 Jun 10 16:28  sample_data\n",
            "drwxr-xr-x 2 root root    4096 Jun 12 02:34 'Tuning LSTM Model'\n"
          ],
          "name": "stdout"
        }
      ]
    },
    {
      "cell_type": "code",
      "metadata": {
        "id": "FN1qzAfvWFdG",
        "colab_type": "code",
        "colab": {}
      },
      "source": [
        "lstm_model = talos.Restore('lstm_deploy_3.zip')"
      ],
      "execution_count": 0,
      "outputs": []
    },
    {
      "cell_type": "code",
      "metadata": {
        "id": "ZXY5fiGVWcXT",
        "colab_type": "code",
        "outputId": "ab628cfb-d9fc-4ef6-d13f-9ba3efa1d85a",
        "colab": {
          "base_uri": "https://localhost:8080/",
          "height": 102
        }
      },
      "source": [
        "lstm_model.params"
      ],
      "execution_count": 64,
      "outputs": [
        {
          "output_type": "execute_result",
          "data": {
            "text/plain": [
              "{'batch_size': [32, 64],\n",
              " 'dropout': [0.2, 0.3, 0.4],\n",
              " 'epochs': [5],\n",
              " 'lstm_neuron': [100, 200],\n",
              " 'optimizer': ['adam']}"
            ]
          },
          "metadata": {
            "tags": []
          },
          "execution_count": 64
        }
      ]
    },
    {
      "cell_type": "code",
      "metadata": {
        "id": "LX-9jGrwXS7K",
        "colab_type": "code",
        "outputId": "4e778006-08ac-4393-f190-2e44895b2154",
        "colab": {
          "base_uri": "https://localhost:8080/",
          "height": 119
        }
      },
      "source": [
        "predict_wordss = ['naufal ihsan pratama',\n",
        "                  'jl juraganan rt 01 no 25',\n",
        "                  'wanita',\n",
        "                  'bahy helmi',\n",
        "                  'vivin febriyanti',\n",
        "                  'pejaten timur pasar minggu']\n",
        "\n",
        "tokens = tokenizer.texts_to_sequences(predict_wordss)\n",
        "pad_seq = sequence.pad_sequences(tokens, maxlen=max_seq_word)\n",
        "result = lstm_model.model.predict(pad_seq)\n",
        "\n",
        "labels = ['alamat','gender','nama','ttl']\n",
        "\n",
        "for r in range(len(result)):\n",
        "  print(predict_wordss[r], labels[np.argmax(result[r])])"
      ],
      "execution_count": 65,
      "outputs": [
        {
          "output_type": "stream",
          "text": [
            "naufal ihsan pratama nama\n",
            "jl juraganan rt 01 no 25 alamat\n",
            "wanita gender\n",
            "bahy helmi nama\n",
            "vivin febriyanti nama\n",
            "pejaten timur pasar minggu alamat\n"
          ],
          "name": "stdout"
        }
      ]
    },
    {
      "cell_type": "code",
      "metadata": {
        "id": "cBtjg4RLebrf",
        "colab_type": "code",
        "colab": {}
      },
      "source": [
        "tokens = tokenizer.texts_to_sequences(X_test)\n",
        "pad_seq = sequence.pad_sequences(tokens, maxlen=max_seq_word)\n",
        "result = lstm_model.model.predict(pad_seq)\n",
        "\n",
        "labels = ['alamat','gender','nama','ttl']\n",
        "\n",
        "for r in range(len(result)):\n",
        "  print(X_test.values[r], labels[np.argmax(result[r])])"
      ],
      "execution_count": 0,
      "outputs": []
    },
    {
      "cell_type": "markdown",
      "metadata": {
        "id": "jmxSqTbRYwSP",
        "colab_type": "text"
      },
      "source": [
        "### Compare Between Models"
      ]
    },
    {
      "cell_type": "code",
      "metadata": {
        "id": "9sjSMgFWY0yT",
        "colab_type": "code",
        "colab": {}
      },
      "source": [
        "encoder = load('encoder.joblib')\n",
        "tokenizer = load('tokenizer.joblib')\n",
        "gbc_cv = load('gbc_cv.joblib')\n",
        "mnb_cv = load('mnb_cv.joblib')"
      ],
      "execution_count": 0,
      "outputs": []
    },
    {
      "cell_type": "code",
      "metadata": {
        "id": "05ipfuD9ZiKx",
        "colab_type": "code",
        "colab": {}
      },
      "source": [
        "mnb_scores = cross_val_score(mnb_cv, X_test, y_test, cv=3, n_jobs=-1)"
      ],
      "execution_count": 0,
      "outputs": []
    },
    {
      "cell_type": "code",
      "metadata": {
        "id": "PE-57IKKaeo-",
        "colab_type": "code",
        "colab": {
          "base_uri": "https://localhost:8080/",
          "height": 34
        },
        "outputId": "8f0933bf-b44f-4031-9352-b95509cf3ded"
      },
      "source": [
        "mnb_scores"
      ],
      "execution_count": 52,
      "outputs": [
        {
          "output_type": "execute_result",
          "data": {
            "text/plain": [
              "array([0.90225564, 0.91278195, 0.90877193])"
            ]
          },
          "metadata": {
            "tags": []
          },
          "execution_count": 52
        }
      ]
    },
    {
      "cell_type": "code",
      "metadata": {
        "id": "bo-xgaRWgMsR",
        "colab_type": "code",
        "colab": {}
      },
      "source": [
        "gbc_scores = cross_val_score(gbc_cv, X_test, y_test, cv=3, n_jobs=-1)"
      ],
      "execution_count": 0,
      "outputs": []
    },
    {
      "cell_type": "code",
      "metadata": {
        "id": "ixOYLLvVundP",
        "colab_type": "code",
        "colab": {
          "base_uri": "https://localhost:8080/",
          "height": 34
        },
        "outputId": "f756792c-fa2d-4e19-abc4-e64400882f82"
      },
      "source": [
        "gbc_scores"
      ],
      "execution_count": 54,
      "outputs": [
        {
          "output_type": "execute_result",
          "data": {
            "text/plain": [
              "array([0.96240602, 0.97393484, 0.96390977])"
            ]
          },
          "metadata": {
            "tags": []
          },
          "execution_count": 54
        }
      ]
    },
    {
      "cell_type": "code",
      "metadata": {
        "id": "vW0SWNMSge10",
        "colab_type": "code",
        "colab": {}
      },
      "source": [
        "lstm_cv = talos.Restore('lstm_deploy_3.zip')"
      ],
      "execution_count": 0,
      "outputs": []
    },
    {
      "cell_type": "code",
      "metadata": {
        "id": "A76XjnOY3Wyp",
        "colab_type": "code",
        "colab": {}
      },
      "source": [
        "lstm_test_seq = tokenizer.texts_to_sequences(X_test.values)"
      ],
      "execution_count": 0,
      "outputs": []
    },
    {
      "cell_type": "code",
      "metadata": {
        "id": "rLdMau4M3h8u",
        "colab_type": "code",
        "colab": {}
      },
      "source": [
        "lstm_test_padded = sequence.pad_sequences(lstm_test_seq, maxlen=12)"
      ],
      "execution_count": 0,
      "outputs": []
    },
    {
      "cell_type": "code",
      "metadata": {
        "id": "j4VsMp-S8tH4",
        "colab_type": "code",
        "colab": {}
      },
      "source": [
        "y_lstm_test = pd.get_dummies(y_test)"
      ],
      "execution_count": 0,
      "outputs": []
    },
    {
      "cell_type": "code",
      "metadata": {
        "id": "1T9iXIkhGgQ_",
        "colab_type": "code",
        "outputId": "b75dcd0d-23c8-453f-bb49-0f101c96d2d2",
        "colab": {
          "base_uri": "https://localhost:8080/",
          "height": 187
        }
      },
      "source": [
        "evaluate_object = talos.Evaluate(scan_results)\n",
        "evaluate_object.evaluate(lstm_test_padded, y_lstm_test, folds=10, metric='val_accuracy', task='multi_label')"
      ],
      "execution_count": 59,
      "outputs": [
        {
          "output_type": "execute_result",
          "data": {
            "text/plain": [
              "[0.999221641984365,\n",
              " 0.9967999918079791,\n",
              " 0.9951923076923077,\n",
              " 0.9984248804397436,\n",
              " 0.9968228031953522,\n",
              " 0.9975631107010197,\n",
              " 0.9944176356416603,\n",
              " 0.9975859262990661,\n",
              " 0.9969146350725298,\n",
              " 0.9966681450271648]"
            ]
          },
          "metadata": {
            "tags": []
          },
          "execution_count": 59
        }
      ]
    },
    {
      "cell_type": "code",
      "metadata": {
        "id": "QtzRPhyx2sxR",
        "colab_type": "code",
        "colab": {}
      },
      "source": [
        ""
      ],
      "execution_count": 0,
      "outputs": []
    }
  ]
}