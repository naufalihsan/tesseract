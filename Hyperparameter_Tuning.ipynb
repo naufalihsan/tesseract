{
  "nbformat": 4,
  "nbformat_minor": 0,
  "metadata": {
    "colab": {
      "name": "Predict Text DOKU",
      "provenance": [],
      "collapsed_sections": [],
      "authorship_tag": "ABX9TyOB+OUfsIIFz9S56+fNtbft",
      "include_colab_link": true
    },
    "kernelspec": {
      "name": "python3",
      "display_name": "Python 3"
    }
  },
  "cells": [
    {
      "cell_type": "markdown",
      "metadata": {
        "id": "view-in-github",
        "colab_type": "text"
      },
      "source": [
        "<a href=\"https://colab.research.google.com/github/naufalihsan/tesseract/blob/master/Hyperparameter_Tuning.ipynb\" target=\"_parent\"><img src=\"https://colab.research.google.com/assets/colab-badge.svg\" alt=\"Open In Colab\"/></a>"
      ]
    },
    {
      "cell_type": "code",
      "metadata": {
        "id": "gLHpxLzyh6S5",
        "colab_type": "code",
        "colab": {}
      },
      "source": [
        "import pandas as pd\n",
        "import numpy as np"
      ],
      "execution_count": 0,
      "outputs": []
    },
    {
      "cell_type": "code",
      "metadata": {
        "id": "SS_RuWeOiFhz",
        "colab_type": "code",
        "outputId": "0d3dd8e4-09b6-4826-f1a3-03e7ad156b44",
        "colab": {
          "resources": {
            "http://localhost:8080/nbextensions/google.colab/files.js": {
              "data": "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",
              "ok": true,
              "headers": [
                [
                  "content-type",
                  "application/javascript"
                ]
              ],
              "status": 200,
              "status_text": ""
            }
          },
          "base_uri": "https://localhost:8080/",
          "height": 74
        }
      },
      "source": [
        "from google.colab import files\n",
        "\n",
        "uploaded = files.upload()"
      ],
      "execution_count": 2,
      "outputs": [
        {
          "output_type": "display_data",
          "data": {
            "text/html": [
              "\n",
              "     <input type=\"file\" id=\"files-c949f057-4ab3-4c9d-bc95-bee06d366722\" name=\"files[]\" multiple disabled />\n",
              "     <output id=\"result-c949f057-4ab3-4c9d-bc95-bee06d366722\">\n",
              "      Upload widget is only available when the cell has been executed in the\n",
              "      current browser session. Please rerun this cell to enable.\n",
              "      </output>\n",
              "      <script src=\"/nbextensions/google.colab/files.js\"></script> "
            ],
            "text/plain": [
              "<IPython.core.display.HTML object>"
            ]
          },
          "metadata": {
            "tags": []
          }
        },
        {
          "output_type": "stream",
          "text": [
            "Saving dw_customer_5000.csv to dw_customer_5000.csv\n"
          ],
          "name": "stdout"
        }
      ]
    },
    {
      "cell_type": "code",
      "metadata": {
        "id": "7zrgL3DniTEC",
        "colab_type": "code",
        "colab": {}
      },
      "source": [
        "df = pd.read_csv('dw_customer_5000.csv', delimiter='|')"
      ],
      "execution_count": 0,
      "outputs": []
    },
    {
      "cell_type": "code",
      "metadata": {
        "id": "SJCVb0Flidpv",
        "colab_type": "code",
        "colab": {}
      },
      "source": [
        "df = df.dropna()\n",
        "df = df.drop(columns=['ic_number'])"
      ],
      "execution_count": 0,
      "outputs": []
    },
    {
      "cell_type": "code",
      "metadata": {
        "id": "fy5HFpGRiicz",
        "colab_type": "code",
        "outputId": "c41e2972-436c-405b-b3c9-99e01d7b5f3a",
        "colab": {
          "base_uri": "https://localhost:8080/",
          "height": 221
        }
      },
      "source": [
        "df.info()"
      ],
      "execution_count": 7,
      "outputs": [
        {
          "output_type": "stream",
          "text": [
            "<class 'pandas.core.frame.DataFrame'>\n",
            "Int64Index: 4987 entries, 0 to 4999\n",
            "Data columns (total 5 columns):\n",
            " #   Column          Non-Null Count  Dtype \n",
            "---  ------          --------------  ----- \n",
            " 0   customer_name   4987 non-null   object\n",
            " 1   address         4987 non-null   object\n",
            " 2   place_of_birth  4987 non-null   object\n",
            " 3   birth_date      4987 non-null   object\n",
            " 4   gender          4987 non-null   object\n",
            "dtypes: object(5)\n",
            "memory usage: 233.8+ KB\n"
          ],
          "name": "stdout"
        }
      ]
    },
    {
      "cell_type": "code",
      "metadata": {
        "id": "daAAKUVWizly",
        "colab_type": "code",
        "outputId": "89daa7c8-f4e9-4f44-d4ea-bbfe710d1614",
        "colab": {
          "base_uri": "https://localhost:8080/",
          "height": 204
        }
      },
      "source": [
        "df.head()"
      ],
      "execution_count": 8,
      "outputs": [
        {
          "output_type": "execute_result",
          "data": {
            "text/html": [
              "<div>\n",
              "<style scoped>\n",
              "    .dataframe tbody tr th:only-of-type {\n",
              "        vertical-align: middle;\n",
              "    }\n",
              "\n",
              "    .dataframe tbody tr th {\n",
              "        vertical-align: top;\n",
              "    }\n",
              "\n",
              "    .dataframe thead th {\n",
              "        text-align: right;\n",
              "    }\n",
              "</style>\n",
              "<table border=\"1\" class=\"dataframe\">\n",
              "  <thead>\n",
              "    <tr style=\"text-align: right;\">\n",
              "      <th></th>\n",
              "      <th>customer_name</th>\n",
              "      <th>address</th>\n",
              "      <th>place_of_birth</th>\n",
              "      <th>birth_date</th>\n",
              "      <th>gender</th>\n",
              "    </tr>\n",
              "  </thead>\n",
              "  <tbody>\n",
              "    <tr>\n",
              "      <th>0</th>\n",
              "      <td>Nur Sholihin</td>\n",
              "      <td>Desa Mencon Rt 05 Rw 02 kecamatan Pucakwangi k...</td>\n",
              "      <td>pati</td>\n",
              "      <td>2001-06-20 00:00:00</td>\n",
              "      <td>M</td>\n",
              "    </tr>\n",
              "    <tr>\n",
              "      <th>1</th>\n",
              "      <td>operius waruwu</td>\n",
              "      <td>JL.JATI GG KELUARGA KOMPLEK ZIPUR</td>\n",
              "      <td>SIHAREO III</td>\n",
              "      <td>1991-08-02 00:00:00</td>\n",
              "      <td>M</td>\n",
              "    </tr>\n",
              "    <tr>\n",
              "      <th>2</th>\n",
              "      <td>Fika Ahsan Nugroho</td>\n",
              "      <td>Dsn.Blaring , 004/002 , Ds.Panggungsari , Dure...</td>\n",
              "      <td>Tulungagung</td>\n",
              "      <td>1997-10-29 00:00:00</td>\n",
              "      <td>M</td>\n",
              "    </tr>\n",
              "    <tr>\n",
              "      <th>3</th>\n",
              "      <td>ikhsan fuzan nasrullah</td>\n",
              "      <td>Jln Moch Ramdhan no 28 kec Ciparay</td>\n",
              "      <td>Bandung</td>\n",
              "      <td>1994-07-25 00:00:00</td>\n",
              "      <td>M</td>\n",
              "    </tr>\n",
              "    <tr>\n",
              "      <th>4</th>\n",
              "      <td>sarbini</td>\n",
              "      <td>desa pulau ku,u</td>\n",
              "      <td>tabalong</td>\n",
              "      <td>1992-12-30 00:00:00</td>\n",
              "      <td>M</td>\n",
              "    </tr>\n",
              "  </tbody>\n",
              "</table>\n",
              "</div>"
            ],
            "text/plain": [
              "            customer_name  ... gender\n",
              "0            Nur Sholihin  ...      M\n",
              "1          operius waruwu  ...      M\n",
              "2      Fika Ahsan Nugroho  ...      M\n",
              "3  ikhsan fuzan nasrullah  ...      M\n",
              "4                 sarbini  ...      M\n",
              "\n",
              "[5 rows x 5 columns]"
            ]
          },
          "metadata": {
            "tags": []
          },
          "execution_count": 8
        }
      ]
    },
    {
      "cell_type": "code",
      "metadata": {
        "id": "AZcIuI8RjBUn",
        "colab_type": "code",
        "colab": {}
      },
      "source": [
        "name = df.customer_name"
      ],
      "execution_count": 0,
      "outputs": []
    },
    {
      "cell_type": "code",
      "metadata": {
        "id": "nralUf1hjRdI",
        "colab_type": "code",
        "colab": {}
      },
      "source": [
        "def clean_name(name):\n",
        "  return name.lower()"
      ],
      "execution_count": 0,
      "outputs": []
    },
    {
      "cell_type": "code",
      "metadata": {
        "id": "cL0FpqrIjomv",
        "colab_type": "code",
        "colab": {}
      },
      "source": [
        "name = name.apply(clean_name)"
      ],
      "execution_count": 0,
      "outputs": []
    },
    {
      "cell_type": "code",
      "metadata": {
        "id": "mI0wDYaEjs2j",
        "colab_type": "code",
        "colab": {}
      },
      "source": [
        "nf = { 'entity': name, 'category': 'nama' } \n",
        "df1 = pd.DataFrame(nf) "
      ],
      "execution_count": 0,
      "outputs": []
    },
    {
      "cell_type": "code",
      "metadata": {
        "id": "p9bj4s42AN3t",
        "colab_type": "code",
        "colab": {}
      },
      "source": [
        "rnf = pd.DataFrame({ 'entity': ['annisa febriyanti','vivin putri'], 'category': ['nama','nama'] } ) \n",
        "df1 = df1.append(rnf,ignore_index=True)"
      ],
      "execution_count": 0,
      "outputs": []
    },
    {
      "cell_type": "code",
      "metadata": {
        "id": "BV10QJbuj9uy",
        "colab_type": "code",
        "colab": {}
      },
      "source": [
        "address = df.address"
      ],
      "execution_count": 0,
      "outputs": []
    },
    {
      "cell_type": "code",
      "metadata": {
        "id": "pnXS7qUfkHQb",
        "colab_type": "code",
        "colab": {}
      },
      "source": [
        "import re\n",
        "\n",
        "def clean_address(addr):\n",
        "  return re.sub('[^A-Za-z]+', ' ', addr).lower()"
      ],
      "execution_count": 0,
      "outputs": []
    },
    {
      "cell_type": "code",
      "metadata": {
        "id": "tH_wYn8Nkplt",
        "colab_type": "code",
        "colab": {}
      },
      "source": [
        "address = address.apply(clean_address)"
      ],
      "execution_count": 0,
      "outputs": []
    },
    {
      "cell_type": "code",
      "metadata": {
        "id": "hehKQICOlCDC",
        "colab_type": "code",
        "colab": {}
      },
      "source": [
        "af = { 'entity': address, 'category': 'alamat' } \n",
        "df2 = pd.DataFrame(af) "
      ],
      "execution_count": 0,
      "outputs": []
    },
    {
      "cell_type": "code",
      "metadata": {
        "id": "m8zshkr2lLHB",
        "colab_type": "code",
        "colab": {}
      },
      "source": [
        "birthday = df.place_of_birth + ' ' + df.birth_date"
      ],
      "execution_count": 0,
      "outputs": []
    },
    {
      "cell_type": "code",
      "metadata": {
        "id": "zrC_Toutlqxi",
        "colab_type": "code",
        "colab": {}
      },
      "source": [
        "def clean_birthday(birth):\n",
        "  ttl = birth.strip().split(\" \")\n",
        "  ttl[0] = ttl[0].lower()\n",
        "  ttl[-2] = rearrange_birthday(ttl[-2])\n",
        "  return ' '.join(ttl[:-1])\n",
        "\n",
        "def rearrange_birthday(date):\n",
        "  dates = date.split(\"-\")\n",
        "  return f'{dates[2]} {dates[1]} {dates[0]}'"
      ],
      "execution_count": 0,
      "outputs": []
    },
    {
      "cell_type": "code",
      "metadata": {
        "id": "kC53ahYAlrxa",
        "colab_type": "code",
        "colab": {}
      },
      "source": [
        "birthday = birthday.apply(clean_birthday)"
      ],
      "execution_count": 0,
      "outputs": []
    },
    {
      "cell_type": "code",
      "metadata": {
        "id": "1fN7VS7jnZ1T",
        "colab_type": "code",
        "colab": {}
      },
      "source": [
        "bf = { 'entity': birthday, 'category': 'ttl' } \n",
        "df3 = pd.DataFrame(bf) "
      ],
      "execution_count": 0,
      "outputs": []
    },
    {
      "cell_type": "code",
      "metadata": {
        "id": "2NMZF1GVnf7V",
        "colab_type": "code",
        "colab": {}
      },
      "source": [
        "# icf = { 'entity': df.ic_number, 'category': 'nik' }\n",
        "# df4 = pd.DataFrame(icf)"
      ],
      "execution_count": 0,
      "outputs": []
    },
    {
      "cell_type": "code",
      "metadata": {
        "id": "4Wm5rxGtoEuO",
        "colab_type": "code",
        "colab": {}
      },
      "source": [
        "gender = df.gender"
      ],
      "execution_count": 0,
      "outputs": []
    },
    {
      "cell_type": "code",
      "metadata": {
        "id": "EFTiwEinoQxM",
        "colab_type": "code",
        "colab": {}
      },
      "source": [
        "import random\n",
        "\n",
        "def clean_gender(gender):\n",
        "  m_list = ['pria','laki laki']\n",
        "  f_list = ['wanita','perempuan']\n",
        "  if gender == 'M':\n",
        "    return random.choice(m_list)\n",
        "  return random.choice(f_list)"
      ],
      "execution_count": 0,
      "outputs": []
    },
    {
      "cell_type": "code",
      "metadata": {
        "id": "G5upuwjUoz4_",
        "colab_type": "code",
        "colab": {}
      },
      "source": [
        "gender = gender.apply(clean_gender)"
      ],
      "execution_count": 0,
      "outputs": []
    },
    {
      "cell_type": "code",
      "metadata": {
        "id": "ESM-5ECAo5xQ",
        "colab_type": "code",
        "colab": {}
      },
      "source": [
        "gf = { 'entity': gender, 'category': 'gender' } \n",
        "df5 = pd.DataFrame(gf)"
      ],
      "execution_count": 0,
      "outputs": []
    },
    {
      "cell_type": "code",
      "metadata": {
        "id": "8kUDuzc9pBY7",
        "colab_type": "code",
        "outputId": "094c1088-926c-487b-c151-5c657930fab3",
        "colab": {
          "base_uri": "https://localhost:8080/",
          "height": 765
        }
      },
      "source": [
        "display(df1.tail())\n",
        "display(df2.head())\n",
        "display(df3.head())\n",
        "# display(df4.head())\n",
        "display(df5.head())"
      ],
      "execution_count": 27,
      "outputs": [
        {
          "output_type": "display_data",
          "data": {
            "text/html": [
              "<div>\n",
              "<style scoped>\n",
              "    .dataframe tbody tr th:only-of-type {\n",
              "        vertical-align: middle;\n",
              "    }\n",
              "\n",
              "    .dataframe tbody tr th {\n",
              "        vertical-align: top;\n",
              "    }\n",
              "\n",
              "    .dataframe thead th {\n",
              "        text-align: right;\n",
              "    }\n",
              "</style>\n",
              "<table border=\"1\" class=\"dataframe\">\n",
              "  <thead>\n",
              "    <tr style=\"text-align: right;\">\n",
              "      <th></th>\n",
              "      <th>entity</th>\n",
              "      <th>category</th>\n",
              "    </tr>\n",
              "  </thead>\n",
              "  <tbody>\n",
              "    <tr>\n",
              "      <th>4984</th>\n",
              "      <td>agus susanto</td>\n",
              "      <td>nama</td>\n",
              "    </tr>\n",
              "    <tr>\n",
              "      <th>4985</th>\n",
              "      <td>rb bambang bandoro</td>\n",
              "      <td>nama</td>\n",
              "    </tr>\n",
              "    <tr>\n",
              "      <th>4986</th>\n",
              "      <td>i ketut seridata</td>\n",
              "      <td>nama</td>\n",
              "    </tr>\n",
              "    <tr>\n",
              "      <th>4987</th>\n",
              "      <td>annisa febriyanti</td>\n",
              "      <td>nama</td>\n",
              "    </tr>\n",
              "    <tr>\n",
              "      <th>4988</th>\n",
              "      <td>vivin putri</td>\n",
              "      <td>nama</td>\n",
              "    </tr>\n",
              "  </tbody>\n",
              "</table>\n",
              "</div>"
            ],
            "text/plain": [
              "                  entity category\n",
              "4984        agus susanto     nama\n",
              "4985  rb bambang bandoro     nama\n",
              "4986    i ketut seridata     nama\n",
              "4987   annisa febriyanti     nama\n",
              "4988         vivin putri     nama"
            ]
          },
          "metadata": {
            "tags": []
          }
        },
        {
          "output_type": "display_data",
          "data": {
            "text/html": [
              "<div>\n",
              "<style scoped>\n",
              "    .dataframe tbody tr th:only-of-type {\n",
              "        vertical-align: middle;\n",
              "    }\n",
              "\n",
              "    .dataframe tbody tr th {\n",
              "        vertical-align: top;\n",
              "    }\n",
              "\n",
              "    .dataframe thead th {\n",
              "        text-align: right;\n",
              "    }\n",
              "</style>\n",
              "<table border=\"1\" class=\"dataframe\">\n",
              "  <thead>\n",
              "    <tr style=\"text-align: right;\">\n",
              "      <th></th>\n",
              "      <th>entity</th>\n",
              "      <th>category</th>\n",
              "    </tr>\n",
              "  </thead>\n",
              "  <tbody>\n",
              "    <tr>\n",
              "      <th>0</th>\n",
              "      <td>desa mencon rt rw kecamatan pucakwangi kabupat...</td>\n",
              "      <td>alamat</td>\n",
              "    </tr>\n",
              "    <tr>\n",
              "      <th>1</th>\n",
              "      <td>jl jati gg keluarga komplek zipur</td>\n",
              "      <td>alamat</td>\n",
              "    </tr>\n",
              "    <tr>\n",
              "      <th>2</th>\n",
              "      <td>dsn blaring ds panggungsari durenan trenggalek</td>\n",
              "      <td>alamat</td>\n",
              "    </tr>\n",
              "    <tr>\n",
              "      <th>3</th>\n",
              "      <td>jln moch ramdhan no kec ciparay</td>\n",
              "      <td>alamat</td>\n",
              "    </tr>\n",
              "    <tr>\n",
              "      <th>4</th>\n",
              "      <td>desa pulau ku u</td>\n",
              "      <td>alamat</td>\n",
              "    </tr>\n",
              "  </tbody>\n",
              "</table>\n",
              "</div>"
            ],
            "text/plain": [
              "                                              entity category\n",
              "0  desa mencon rt rw kecamatan pucakwangi kabupat...   alamat\n",
              "1                  jl jati gg keluarga komplek zipur   alamat\n",
              "2     dsn blaring ds panggungsari durenan trenggalek   alamat\n",
              "3                    jln moch ramdhan no kec ciparay   alamat\n",
              "4                                    desa pulau ku u   alamat"
            ]
          },
          "metadata": {
            "tags": []
          }
        },
        {
          "output_type": "display_data",
          "data": {
            "text/html": [
              "<div>\n",
              "<style scoped>\n",
              "    .dataframe tbody tr th:only-of-type {\n",
              "        vertical-align: middle;\n",
              "    }\n",
              "\n",
              "    .dataframe tbody tr th {\n",
              "        vertical-align: top;\n",
              "    }\n",
              "\n",
              "    .dataframe thead th {\n",
              "        text-align: right;\n",
              "    }\n",
              "</style>\n",
              "<table border=\"1\" class=\"dataframe\">\n",
              "  <thead>\n",
              "    <tr style=\"text-align: right;\">\n",
              "      <th></th>\n",
              "      <th>entity</th>\n",
              "      <th>category</th>\n",
              "    </tr>\n",
              "  </thead>\n",
              "  <tbody>\n",
              "    <tr>\n",
              "      <th>0</th>\n",
              "      <td>pati 20 06 2001</td>\n",
              "      <td>ttl</td>\n",
              "    </tr>\n",
              "    <tr>\n",
              "      <th>1</th>\n",
              "      <td>sihareo III 02 08 1991</td>\n",
              "      <td>ttl</td>\n",
              "    </tr>\n",
              "    <tr>\n",
              "      <th>2</th>\n",
              "      <td>tulungagung 29 10 1997</td>\n",
              "      <td>ttl</td>\n",
              "    </tr>\n",
              "    <tr>\n",
              "      <th>3</th>\n",
              "      <td>bandung 25 07 1994</td>\n",
              "      <td>ttl</td>\n",
              "    </tr>\n",
              "    <tr>\n",
              "      <th>4</th>\n",
              "      <td>tabalong 30 12 1992</td>\n",
              "      <td>ttl</td>\n",
              "    </tr>\n",
              "  </tbody>\n",
              "</table>\n",
              "</div>"
            ],
            "text/plain": [
              "                   entity category\n",
              "0         pati 20 06 2001      ttl\n",
              "1  sihareo III 02 08 1991      ttl\n",
              "2  tulungagung 29 10 1997      ttl\n",
              "3      bandung 25 07 1994      ttl\n",
              "4     tabalong 30 12 1992      ttl"
            ]
          },
          "metadata": {
            "tags": []
          }
        },
        {
          "output_type": "display_data",
          "data": {
            "text/html": [
              "<div>\n",
              "<style scoped>\n",
              "    .dataframe tbody tr th:only-of-type {\n",
              "        vertical-align: middle;\n",
              "    }\n",
              "\n",
              "    .dataframe tbody tr th {\n",
              "        vertical-align: top;\n",
              "    }\n",
              "\n",
              "    .dataframe thead th {\n",
              "        text-align: right;\n",
              "    }\n",
              "</style>\n",
              "<table border=\"1\" class=\"dataframe\">\n",
              "  <thead>\n",
              "    <tr style=\"text-align: right;\">\n",
              "      <th></th>\n",
              "      <th>entity</th>\n",
              "      <th>category</th>\n",
              "    </tr>\n",
              "  </thead>\n",
              "  <tbody>\n",
              "    <tr>\n",
              "      <th>0</th>\n",
              "      <td>laki laki</td>\n",
              "      <td>gender</td>\n",
              "    </tr>\n",
              "    <tr>\n",
              "      <th>1</th>\n",
              "      <td>laki laki</td>\n",
              "      <td>gender</td>\n",
              "    </tr>\n",
              "    <tr>\n",
              "      <th>2</th>\n",
              "      <td>laki laki</td>\n",
              "      <td>gender</td>\n",
              "    </tr>\n",
              "    <tr>\n",
              "      <th>3</th>\n",
              "      <td>pria</td>\n",
              "      <td>gender</td>\n",
              "    </tr>\n",
              "    <tr>\n",
              "      <th>4</th>\n",
              "      <td>laki laki</td>\n",
              "      <td>gender</td>\n",
              "    </tr>\n",
              "  </tbody>\n",
              "</table>\n",
              "</div>"
            ],
            "text/plain": [
              "      entity category\n",
              "0  laki laki   gender\n",
              "1  laki laki   gender\n",
              "2  laki laki   gender\n",
              "3       pria   gender\n",
              "4  laki laki   gender"
            ]
          },
          "metadata": {
            "tags": []
          }
        }
      ]
    },
    {
      "cell_type": "code",
      "metadata": {
        "id": "CLKAlUIWpGiW",
        "colab_type": "code",
        "colab": {}
      },
      "source": [
        "# .append(df4, ignore_index=True)\n",
        "df1 = df1.append(df2, ignore_index=True).append(df3, ignore_index=True).append(df5, ignore_index=True)"
      ],
      "execution_count": 0,
      "outputs": []
    },
    {
      "cell_type": "markdown",
      "metadata": {
        "id": "cEDloX8mqQc3",
        "colab_type": "text"
      },
      "source": [
        "DOWNLOAD CLEAN DATA"
      ]
    },
    {
      "cell_type": "code",
      "metadata": {
        "id": "c-GG15PfeCqQ",
        "colab_type": "code",
        "colab": {
          "base_uri": "https://localhost:8080/",
          "height": 419
        },
        "outputId": "7668bf61-62a3-470e-a730-f3b3489b2b3b"
      },
      "source": [
        "a = df1.query(\"category=='alamat'\").category.str.extract('(\\d+)')\n",
        "a.isnull()"
      ],
      "execution_count": 106,
      "outputs": [
        {
          "output_type": "execute_result",
          "data": {
            "text/html": [
              "<div>\n",
              "<style scoped>\n",
              "    .dataframe tbody tr th:only-of-type {\n",
              "        vertical-align: middle;\n",
              "    }\n",
              "\n",
              "    .dataframe tbody tr th {\n",
              "        vertical-align: top;\n",
              "    }\n",
              "\n",
              "    .dataframe thead th {\n",
              "        text-align: right;\n",
              "    }\n",
              "</style>\n",
              "<table border=\"1\" class=\"dataframe\">\n",
              "  <thead>\n",
              "    <tr style=\"text-align: right;\">\n",
              "      <th></th>\n",
              "      <th>0</th>\n",
              "    </tr>\n",
              "  </thead>\n",
              "  <tbody>\n",
              "    <tr>\n",
              "      <th>4989</th>\n",
              "      <td>True</td>\n",
              "    </tr>\n",
              "    <tr>\n",
              "      <th>4990</th>\n",
              "      <td>True</td>\n",
              "    </tr>\n",
              "    <tr>\n",
              "      <th>4991</th>\n",
              "      <td>True</td>\n",
              "    </tr>\n",
              "    <tr>\n",
              "      <th>4992</th>\n",
              "      <td>True</td>\n",
              "    </tr>\n",
              "    <tr>\n",
              "      <th>4993</th>\n",
              "      <td>True</td>\n",
              "    </tr>\n",
              "    <tr>\n",
              "      <th>...</th>\n",
              "      <td>...</td>\n",
              "    </tr>\n",
              "    <tr>\n",
              "      <th>9971</th>\n",
              "      <td>True</td>\n",
              "    </tr>\n",
              "    <tr>\n",
              "      <th>9972</th>\n",
              "      <td>True</td>\n",
              "    </tr>\n",
              "    <tr>\n",
              "      <th>9973</th>\n",
              "      <td>True</td>\n",
              "    </tr>\n",
              "    <tr>\n",
              "      <th>9974</th>\n",
              "      <td>True</td>\n",
              "    </tr>\n",
              "    <tr>\n",
              "      <th>9975</th>\n",
              "      <td>True</td>\n",
              "    </tr>\n",
              "  </tbody>\n",
              "</table>\n",
              "<p>4987 rows × 1 columns</p>\n",
              "</div>"
            ],
            "text/plain": [
              "         0\n",
              "4989  True\n",
              "4990  True\n",
              "4991  True\n",
              "4992  True\n",
              "4993  True\n",
              "...    ...\n",
              "9971  True\n",
              "9972  True\n",
              "9973  True\n",
              "9974  True\n",
              "9975  True\n",
              "\n",
              "[4987 rows x 1 columns]"
            ]
          },
          "metadata": {
            "tags": []
          },
          "execution_count": 106
        }
      ]
    },
    {
      "cell_type": "code",
      "metadata": {
        "id": "5ruSGT1Apvsl",
        "colab_type": "code",
        "colab": {}
      },
      "source": [
        "# df1.to_csv('train_doku2.csv')\n",
        "# files.download('train_doku2.csv')"
      ],
      "execution_count": 0,
      "outputs": []
    },
    {
      "cell_type": "code",
      "metadata": {
        "id": "4NVum0BY-Y6d",
        "colab_type": "code",
        "outputId": "7cff39f4-9f7d-42a5-93d7-26facafbae87",
        "colab": {
          "base_uri": "https://localhost:8080/",
          "height": 170
        }
      },
      "source": [
        "df1.info()"
      ],
      "execution_count": 28,
      "outputs": [
        {
          "output_type": "stream",
          "text": [
            "<class 'pandas.core.frame.DataFrame'>\n",
            "RangeIndex: 19950 entries, 0 to 19949\n",
            "Data columns (total 2 columns):\n",
            " #   Column    Non-Null Count  Dtype \n",
            "---  ------    --------------  ----- \n",
            " 0   entity    19950 non-null  object\n",
            " 1   category  19950 non-null  object\n",
            "dtypes: object(2)\n",
            "memory usage: 311.8+ KB\n"
          ],
          "name": "stdout"
        }
      ]
    },
    {
      "cell_type": "code",
      "metadata": {
        "id": "OcoGi5yess13",
        "colab_type": "code",
        "colab": {}
      },
      "source": [
        "from sklearn.preprocessing import LabelEncoder\n",
        "\n",
        "encoder = LabelEncoder()\n",
        "target = encoder.fit_transform(df1.category)"
      ],
      "execution_count": 0,
      "outputs": []
    },
    {
      "cell_type": "code",
      "metadata": {
        "id": "fVPYEOuqr97V",
        "colab_type": "code",
        "colab": {}
      },
      "source": [
        "X = df1.entity\n",
        "y = target"
      ],
      "execution_count": 0,
      "outputs": []
    },
    {
      "cell_type": "code",
      "metadata": {
        "id": "0bvsDNTIrkP0",
        "colab_type": "code",
        "colab": {}
      },
      "source": [
        "from sklearn.model_selection import train_test_split\n",
        "\n",
        "X_train, X_test, y_train, y_test = train_test_split(X, y, test_size = 0.3, random_state = 21)"
      ],
      "execution_count": 0,
      "outputs": []
    },
    {
      "cell_type": "code",
      "metadata": {
        "id": "OwfDnME0qCNl",
        "colab_type": "code",
        "outputId": "352e7468-c107-468e-cacd-41cb59dee647",
        "colab": {
          "base_uri": "https://localhost:8080/",
          "height": 51
        }
      },
      "source": [
        "from sklearn.feature_extraction.text import CountVectorizer\n",
        "\n",
        "count_vect = CountVectorizer()\n",
        "X_train_dtm = count_vect.fit_transform(X_train)\n",
        "X_train_dtm"
      ],
      "execution_count": 0,
      "outputs": [
        {
          "output_type": "execute_result",
          "data": {
            "text/plain": [
              "<13965x9278 sparse matrix of type '<class 'numpy.int64'>'\n",
              "\twith 46934 stored elements in Compressed Sparse Row format>"
            ]
          },
          "metadata": {
            "tags": []
          },
          "execution_count": 70
        }
      ]
    },
    {
      "cell_type": "code",
      "metadata": {
        "id": "HMisQcS8sbGJ",
        "colab_type": "code",
        "colab": {}
      },
      "source": [
        "X_test_dtm = count_vect.transform(X_test)"
      ],
      "execution_count": 0,
      "outputs": []
    },
    {
      "cell_type": "code",
      "metadata": {
        "id": "F2K2RFktHyQU",
        "colab_type": "code",
        "outputId": "0d5a4aee-e52f-4042-a026-c3c1f5e15124",
        "colab": {
          "base_uri": "https://localhost:8080/",
          "height": 51
        }
      },
      "source": [
        "X_test_dtm"
      ],
      "execution_count": 0,
      "outputs": [
        {
          "output_type": "execute_result",
          "data": {
            "text/plain": [
              "<5985x9278 sparse matrix of type '<class 'numpy.int64'>'\n",
              "\twith 17483 stored elements in Compressed Sparse Row format>"
            ]
          },
          "metadata": {
            "tags": []
          },
          "execution_count": 72
        }
      ]
    },
    {
      "cell_type": "code",
      "metadata": {
        "id": "6WNp6lQ7rqKr",
        "colab_type": "code",
        "outputId": "01de773e-f492-4c25-ec64-0abb10e60361",
        "colab": {
          "base_uri": "https://localhost:8080/",
          "height": 34
        }
      },
      "source": [
        "code = dict(zip(encoder.transform(encoder.classes_), encoder.classes_))\n",
        "code"
      ],
      "execution_count": 0,
      "outputs": [
        {
          "output_type": "execute_result",
          "data": {
            "text/plain": [
              "{0: 'alamat', 1: 'gender', 2: 'nama', 3: 'ttl'}"
            ]
          },
          "metadata": {
            "tags": []
          },
          "execution_count": 73
        }
      ]
    },
    {
      "cell_type": "code",
      "metadata": {
        "id": "7mo4lCJIskkp",
        "colab_type": "code",
        "colab": {}
      },
      "source": [
        "def evaluation_test(predicts):\n",
        "  for types, category in zip(predict_words, predicts):\n",
        "    print(f'{types} => {code[category]}')"
      ],
      "execution_count": 0,
      "outputs": []
    },
    {
      "cell_type": "code",
      "metadata": {
        "id": "D_ymKFPOtsPW",
        "colab_type": "code",
        "colab": {}
      },
      "source": [
        "predict_words = ['naufal ihsan pratama','jl juraganan rt 01 no 25','laki laki','vivin febriyanti strk']\n",
        "# preds = count_vect.transform(predict_words)"
      ],
      "execution_count": 0,
      "outputs": []
    },
    {
      "cell_type": "code",
      "metadata": {
        "id": "m0PkenxRr7MB",
        "colab_type": "code",
        "outputId": "a5740985-b00c-411f-a2c1-30c3b5a6ac72",
        "colab": {
          "base_uri": "https://localhost:8080/",
          "height": 34
        }
      },
      "source": [
        "from sklearn.naive_bayes import MultinomialNB\n",
        "\n",
        "mnb = MultinomialNB()\n",
        "mnb.fit(X_train_dtm, y_train)"
      ],
      "execution_count": 0,
      "outputs": [
        {
          "output_type": "execute_result",
          "data": {
            "text/plain": [
              "MultinomialNB(alpha=1.0, class_prior=None, fit_prior=True)"
            ]
          },
          "metadata": {
            "tags": []
          },
          "execution_count": 76
        }
      ]
    },
    {
      "cell_type": "code",
      "metadata": {
        "id": "COOddxTfsvUM",
        "colab_type": "code",
        "outputId": "37cc1fe1-9d59-4db6-e944-04c7dc2270f8",
        "colab": {
          "base_uri": "https://localhost:8080/",
          "height": 85
        }
      },
      "source": [
        "mnb_preds = mnb.predict(preds)\n",
        "evaluation_test(mnb_preds)"
      ],
      "execution_count": 0,
      "outputs": [
        {
          "output_type": "stream",
          "text": [
            "naufal ihsan pratama => nama\n",
            "jl juraganan rt 01 no 25 => alamat\n",
            "laki laki => gender\n",
            "vivin febriyanti strk => nama\n"
          ],
          "name": "stdout"
        }
      ]
    },
    {
      "cell_type": "code",
      "metadata": {
        "id": "zgQt0CCXwHtL",
        "colab_type": "code",
        "outputId": "a7e86d50-0358-499b-f4e0-ee1f8f18510e",
        "colab": {
          "base_uri": "https://localhost:8080/",
          "height": 34
        }
      },
      "source": [
        "print(f'MultinomialNB Score => {mnb.score(X_test_dtm, y_test)}')"
      ],
      "execution_count": 0,
      "outputs": [
        {
          "output_type": "stream",
          "text": [
            "MultinomialNB Score => 0.9333333333333333\n"
          ],
          "name": "stdout"
        }
      ]
    },
    {
      "cell_type": "code",
      "metadata": {
        "id": "1xdnJHQKt4Ak",
        "colab_type": "code",
        "outputId": "a35ecd94-8e0c-4854-dae3-b26e45331ae3",
        "colab": {
          "base_uri": "https://localhost:8080/",
          "height": 489
        }
      },
      "source": [
        "from sklearn.metrics import plot_confusion_matrix\n",
        "import matplotlib as plt\n",
        "\n",
        "mnb_disp = plot_confusion_matrix(mnb, X_test_dtm, y_test,\n",
        "                                 display_labels= encoder.classes_,\n",
        "                                 cmap=plt.cm.viridis,normalize='pred')\n",
        "mnb_disp.figure_.set_size_inches(8,8)\n",
        "mnb_disp.ax_.set_title('Confusion Matrix MultinomialNB')"
      ],
      "execution_count": 0,
      "outputs": [
        {
          "output_type": "execute_result",
          "data": {
            "text/plain": [
              "Text(0.5, 1.0, 'Confusion Matrix MultinomialNB')"
            ]
          },
          "metadata": {
            "tags": []
          },
          "execution_count": 79
        },
        {
          "output_type": "display_data",
          "data": {
            "image/png": "[encoded data removed]",
            "text/plain": [
              "<Figure size 576x576 with 2 Axes>"
            ]
          },
          "metadata": {
            "tags": [],
            "needs_background": "light"
          }
        }
      ]
    },
    {
      "cell_type": "code",
      "metadata": {
        "id": "xn7sDvMG4336",
        "colab_type": "code",
        "outputId": "b3e9f6cb-7459-4809-d55f-dd1755fd7192",
        "colab": {
          "base_uri": "https://localhost:8080/",
          "height": 204
        }
      },
      "source": [
        "from sklearn.metrics import accuracy_score, classification_report\n",
        "\n",
        "y_pred_class = mnb.predict(X_test_dtm)\n",
        "# print(f'accuracy => {accuracy_score(y_test, y_pred_class)}')\n",
        "\n",
        "target_names = ['alamat','gender', 'nama','ttl']\n",
        "print(classification_report(y_test, y_pred_class, target_names=target_names))"
      ],
      "execution_count": 0,
      "outputs": [
        {
          "output_type": "stream",
          "text": [
            "              precision    recall  f1-score   support\n",
            "\n",
            "      alamat       0.99      0.95      0.97      1520\n",
            "      gender       0.98      1.00      0.99      1486\n",
            "        nama       1.00      0.79      0.88      1497\n",
            "         ttl       0.81      1.00      0.89      1482\n",
            "\n",
            "    accuracy                           0.93      5985\n",
            "   macro avg       0.94      0.93      0.93      5985\n",
            "weighted avg       0.94      0.93      0.93      5985\n",
            "\n"
          ],
          "name": "stdout"
        }
      ]
    },
    {
      "cell_type": "code",
      "metadata": {
        "id": "OelVa1oz43z9",
        "colab_type": "code",
        "outputId": "69769186-ec07-45c8-ece6-0bfba1586889",
        "colab": {
          "base_uri": "https://localhost:8080/",
          "height": 221
        }
      },
      "source": [
        "X_test[y_pred_class > y_test]"
      ],
      "execution_count": 0,
      "outputs": [
        {
          "output_type": "execute_result",
          "data": {
            "text/plain": [
              "8557            menganti rawalo banyumas\n",
              "1904                              ridani\n",
              "1402                             subandi\n",
              "4067                    jovitha andarini\n",
              "1434                        aang sobirin\n",
              "                      ...               \n",
              "1589                        stevani nory\n",
              "4210    rachel ravensca marisca loupatty\n",
              "2483                     salman alfarisi\n",
              "9211                           simokerto\n",
              "4159                            matganti\n",
              "Name: entity, Length: 367, dtype: object"
            ]
          },
          "metadata": {
            "tags": []
          },
          "execution_count": 81
        }
      ]
    },
    {
      "cell_type": "code",
      "metadata": {
        "id": "mQQr1aQZ43xJ",
        "colab_type": "code",
        "outputId": "39022074-8ac6-417b-d0b5-d0656a60d5db",
        "colab": {
          "base_uri": "https://localhost:8080/",
          "height": 578
        }
      },
      "source": [
        "X_test[y_pred_class < y_test]"
      ],
      "execution_count": 0,
      "outputs": [
        {
          "output_type": "execute_result",
          "data": {
            "text/plain": [
              "2630                   hasanudin\n",
              "1690               mayang savira\n",
              "3441              indah dekawati\n",
              "3258        indah lestariningsih\n",
              "3087                  abdi karya\n",
              "3203        yunita indah pramasa\n",
              "4746                  ing dihana\n",
              "234              i gede widiarta\n",
              "3872              vina budiyanti\n",
              "230           affan deska sayuti\n",
              "335        opsidian izzuda buana\n",
              "2037                peggy melati\n",
              "797                  oki nuryana\n",
              "2649                 mayang sari\n",
              "609                    ulin nuha\n",
              "938                 ulfa jayanti\n",
              "670       sintong taripar sihite\n",
              "2624          dessy pramita sari\n",
              "586            rosky kumala sari\n",
              "2323    jieliwosy silas salawati\n",
              "2746             siprianus jumat\n",
              "4494                 saka apreja\n",
              "1722               oki lazzwardi\n",
              "3195               indah lestari\n",
              "3162                tamara digma\n",
              "2170              rahmianti sari\n",
              "4564             sindu mutusolah\n",
              "4943      teddi kaharuddin saleh\n",
              "111              hediati mustika\n",
              "4144              musthofa kamal\n",
              "2530       paskalis jonson manik\n",
              "3038                      sayuti\n",
              "Name: entity, dtype: object"
            ]
          },
          "metadata": {
            "tags": []
          },
          "execution_count": 82
        }
      ]
    },
    {
      "cell_type": "code",
      "metadata": {
        "id": "HZNnVxRk43u3",
        "colab_type": "code",
        "outputId": "2696729f-2613-4c3c-c1c1-86a07ae73c2e",
        "colab": {
          "base_uri": "https://localhost:8080/",
          "height": 51
        }
      },
      "source": [
        "#calculate predicted probabilities for X_test_dtm (poorly calibrated)\n",
        "y_pred_prob = mnb.predict_proba(X_test_dtm)[:, 1]\n",
        "y_pred_prob"
      ],
      "execution_count": 0,
      "outputs": [
        {
          "output_type": "execute_result",
          "data": {
            "text/plain": [
              "array([2.85540877e-02, 6.44234889e-13, 1.23512521e-06, ...,\n",
              "       2.86127534e-14, 9.99999848e-01, 2.01293154e-02])"
            ]
          },
          "metadata": {
            "tags": []
          },
          "execution_count": 83
        }
      ]
    },
    {
      "cell_type": "code",
      "metadata": {
        "id": "N6DJX5le4uUX",
        "colab_type": "code",
        "outputId": "bc0b1aef-934e-470b-9cf8-22ceb8f6b094",
        "colab": {
          "base_uri": "https://localhost:8080/",
          "height": 340
        }
      },
      "source": [
        "sorted_prob = mnb.feature_log_prob_[1, :].argsort()\n",
        "feature_list = count_vect.get_feature_names()\n",
        "\n",
        "for index in sorted_prob[-20:-1]:\n",
        "  print(feature_list[index])"
      ],
      "execution_count": 0,
      "outputs": [
        {
          "output_type": "stream",
          "text": [
            "husein\n",
            "husada\n",
            "ht\n",
            "hubertus\n",
            "huda\n",
            "hudaya\n",
            "hudayana\n",
            "hukama\n",
            "husain\n",
            "zulmi\n",
            "hulu\n",
            "humaedi\n",
            "huntoro\n",
            "huntulohulawa\n",
            "hurip\n",
            "hulo\n",
            "wanita\n",
            "perempuan\n",
            "pria\n"
          ],
          "name": "stdout"
        }
      ]
    },
    {
      "cell_type": "code",
      "metadata": {
        "id": "oUEEV9mhLj9P",
        "colab_type": "code",
        "colab": {}
      },
      "source": [
        "import joblib\n",
        "\n",
        "# joblib.dump(count_vect,'count_vect.joblib')\n",
        "# joblib.dump(mnb,'mnb.joblib')\n",
        "joblib.dump(encoder,'encoder.joblib')\n",
        "\n",
        "\n",
        "# files.download('count_vect.joblib')\n",
        "# files.download('mnb.joblib')\n",
        "files.download('encoder.joblib')"
      ],
      "execution_count": 0,
      "outputs": []
    },
    {
      "cell_type": "code",
      "metadata": {
        "id": "D929OcEN7NTd",
        "colab_type": "code",
        "colab": {}
      },
      "source": [
        "from sklearn.pipeline import Pipeline\n",
        "from sklearn.feature_extraction.text import TfidfTransformer\n",
        "from sklearn.model_selection import GridSearchCV\n",
        "\n",
        "\n",
        "text_clf = Pipeline([('vect', CountVectorizer()),\n",
        "                     ('tfidf', TfidfTransformer()),\n",
        "                     ('clf', MultinomialNB())])\n",
        "\n",
        "tuned_parameters = {\n",
        "    'vect__ngram_range': [(1, 1), (1, 2), (2, 2)],\n",
        "    'tfidf__use_idf': (True, False),\n",
        "    'clf__alpha': [1e-5, 1e-4, 1e-2, 1e-1, 1]\n",
        "}\n",
        "\n",
        "score = 'f1_micro'"
      ],
      "execution_count": 0,
      "outputs": []
    },
    {
      "cell_type": "code",
      "metadata": {
        "id": "RigFgo8s7NRV",
        "colab_type": "code",
        "outputId": "35dfe25d-6822-49d0-a565-83aec1c7211e",
        "colab": {
          "base_uri": "https://localhost:8080/",
          "height": 544
        }
      },
      "source": [
        "mnb_cv = GridSearchCV(text_clf, tuned_parameters, cv=5, scoring=score, n_jobs=-1)\n",
        "mnb_cv.fit(X_train, y_train)"
      ],
      "execution_count": 0,
      "outputs": [
        {
          "output_type": "execute_result",
          "data": {
            "text/plain": [
              "GridSearchCV(cv=5, error_score=nan,\n",
              "             estimator=Pipeline(memory=None,\n",
              "                                steps=[('vect',\n",
              "                                        CountVectorizer(analyzer='word',\n",
              "                                                        binary=False,\n",
              "                                                        decode_error='strict',\n",
              "                                                        dtype=<class 'numpy.int64'>,\n",
              "                                                        encoding='utf-8',\n",
              "                                                        input='content',\n",
              "                                                        lowercase=True,\n",
              "                                                        max_df=1.0,\n",
              "                                                        max_features=None,\n",
              "                                                        min_df=1,\n",
              "                                                        ngram_range=(1, 1),\n",
              "                                                        preprocessor=None,\n",
              "                                                        stop_words=None,\n",
              "                                                        strip_accents=None,\n",
              "                                                        token_pattern='(?u)...\n",
              "                                                         sublinear_tf=False,\n",
              "                                                         use_idf=True)),\n",
              "                                       ('clf',\n",
              "                                        MultinomialNB(alpha=1.0,\n",
              "                                                      class_prior=None,\n",
              "                                                      fit_prior=True))],\n",
              "                                verbose=False),\n",
              "             iid='deprecated', n_jobs=-1,\n",
              "             param_grid={'clf__alpha': [1e-05, 0.0001, 0.01, 0.1, 1],\n",
              "                         'tfidf__use_idf': (True, False),\n",
              "                         'vect__ngram_range': [(1, 1), (1, 2), (2, 2)]},\n",
              "             pre_dispatch='2*n_jobs', refit=True, return_train_score=False,\n",
              "             scoring='f1_micro', verbose=0)"
            ]
          },
          "metadata": {
            "tags": []
          },
          "execution_count": 86
        }
      ]
    },
    {
      "cell_type": "code",
      "metadata": {
        "id": "r_BbUQ2VERB4",
        "colab_type": "code",
        "outputId": "64842709-b422-4f8c-eadf-5a2f1a27cd1e",
        "colab": {
          "base_uri": "https://localhost:8080/",
          "height": 979
        }
      },
      "source": [
        "params = mnb_cv.cv_results_['params']\n",
        "split_cv_0 = mnb_cv.cv_results_['split0_test_score']\n",
        "split_cv_1 = mnb_cv.cv_results_['split1_test_score']\n",
        "split_cv_2 = mnb_cv.cv_results_['split2_test_score']\n",
        "split_cv_3 = mnb_cv.cv_results_['split3_test_score']\n",
        "split_cv_4 = mnb_cv.cv_results_['split4_test_score']\n",
        "mean_score = mnb_cv.cv_results_['mean_test_score']\n",
        "rank = mnb_cv.cv_results_['rank_test_score']\n",
        "\n",
        "clf__alpha = list()\n",
        "tfidf__use_idf = list()\n",
        "vect__ngram_range = list()\n",
        "\n",
        "for i in range(len(params)):\n",
        "  clf__alpha.append(params[i]['clf__alpha'])\n",
        "  tfidf__use_idf.append(params[i]['tfidf__use_idf'])\n",
        "  vect__ngram_range.append(params[i]['vect__ngram_range'])\n",
        "\n",
        "mnb_result = pd.DataFrame({\n",
        "              'rank': rank,\n",
        "              'clf__alpha':clf__alpha,\n",
        "              'tfidf__use_idf':tfidf__use_idf,\n",
        "              'vect__ngram_range':vect__ngram_range,\n",
        "              'split_cv_0': split_cv_0,\n",
        "              'split_cv_1': split_cv_1,\n",
        "              'split_cv_2': split_cv_2,\n",
        "              'split_cv_3': split_cv_3,\n",
        "              'split_cv_4': split_cv_4,\n",
        "              'mean_score': mean_score })\n",
        "\n",
        "mnb_result.sort_values(by=['rank'])"
      ],
      "execution_count": 0,
      "outputs": [
        {
          "output_type": "execute_result",
          "data": {
            "text/html": [
              "<div>\n",
              "<style scoped>\n",
              "    .dataframe tbody tr th:only-of-type {\n",
              "        vertical-align: middle;\n",
              "    }\n",
              "\n",
              "    .dataframe tbody tr th {\n",
              "        vertical-align: top;\n",
              "    }\n",
              "\n",
              "    .dataframe thead th {\n",
              "        text-align: right;\n",
              "    }\n",
              "</style>\n",
              "<table border=\"1\" class=\"dataframe\">\n",
              "  <thead>\n",
              "    <tr style=\"text-align: right;\">\n",
              "      <th></th>\n",
              "      <th>rank</th>\n",
              "      <th>clf__alpha</th>\n",
              "      <th>tfidf__use_idf</th>\n",
              "      <th>vect__ngram_range</th>\n",
              "      <th>split_cv_0</th>\n",
              "      <th>split_cv_1</th>\n",
              "      <th>split_cv_2</th>\n",
              "      <th>split_cv_3</th>\n",
              "      <th>split_cv_4</th>\n",
              "      <th>mean_score</th>\n",
              "    </tr>\n",
              "  </thead>\n",
              "  <tbody>\n",
              "    <tr>\n",
              "      <th>22</th>\n",
              "      <td>1</td>\n",
              "      <td>0.10000</td>\n",
              "      <td>False</td>\n",
              "      <td>(1, 2)</td>\n",
              "      <td>0.924454</td>\n",
              "      <td>0.915145</td>\n",
              "      <td>0.925886</td>\n",
              "      <td>0.926960</td>\n",
              "      <td>0.920874</td>\n",
              "      <td>0.922664</td>\n",
              "    </tr>\n",
              "    <tr>\n",
              "      <th>21</th>\n",
              "      <td>2</td>\n",
              "      <td>0.10000</td>\n",
              "      <td>False</td>\n",
              "      <td>(1, 1)</td>\n",
              "      <td>0.924096</td>\n",
              "      <td>0.914429</td>\n",
              "      <td>0.925170</td>\n",
              "      <td>0.925528</td>\n",
              "      <td>0.921232</td>\n",
              "      <td>0.922091</td>\n",
              "    </tr>\n",
              "    <tr>\n",
              "      <th>25</th>\n",
              "      <td>3</td>\n",
              "      <td>1.00000</td>\n",
              "      <td>True</td>\n",
              "      <td>(1, 2)</td>\n",
              "      <td>0.923738</td>\n",
              "      <td>0.913713</td>\n",
              "      <td>0.924096</td>\n",
              "      <td>0.923738</td>\n",
              "      <td>0.920516</td>\n",
              "      <td>0.921160</td>\n",
              "    </tr>\n",
              "    <tr>\n",
              "      <th>28</th>\n",
              "      <td>3</td>\n",
              "      <td>1.00000</td>\n",
              "      <td>False</td>\n",
              "      <td>(1, 2)</td>\n",
              "      <td>0.924096</td>\n",
              "      <td>0.914071</td>\n",
              "      <td>0.924454</td>\n",
              "      <td>0.922664</td>\n",
              "      <td>0.920516</td>\n",
              "      <td>0.921160</td>\n",
              "    </tr>\n",
              "    <tr>\n",
              "      <th>16</th>\n",
              "      <td>5</td>\n",
              "      <td>0.01000</td>\n",
              "      <td>False</td>\n",
              "      <td>(1, 2)</td>\n",
              "      <td>0.923738</td>\n",
              "      <td>0.912281</td>\n",
              "      <td>0.924096</td>\n",
              "      <td>0.926244</td>\n",
              "      <td>0.919441</td>\n",
              "      <td>0.921160</td>\n",
              "    </tr>\n",
              "    <tr>\n",
              "      <th>27</th>\n",
              "      <td>6</td>\n",
              "      <td>1.00000</td>\n",
              "      <td>False</td>\n",
              "      <td>(1, 1)</td>\n",
              "      <td>0.921590</td>\n",
              "      <td>0.914071</td>\n",
              "      <td>0.924096</td>\n",
              "      <td>0.923738</td>\n",
              "      <td>0.919799</td>\n",
              "      <td>0.920659</td>\n",
              "    </tr>\n",
              "    <tr>\n",
              "      <th>24</th>\n",
              "      <td>7</td>\n",
              "      <td>1.00000</td>\n",
              "      <td>True</td>\n",
              "      <td>(1, 1)</td>\n",
              "      <td>0.922664</td>\n",
              "      <td>0.912639</td>\n",
              "      <td>0.924096</td>\n",
              "      <td>0.923738</td>\n",
              "      <td>0.919799</td>\n",
              "      <td>0.920587</td>\n",
              "    </tr>\n",
              "    <tr>\n",
              "      <th>15</th>\n",
              "      <td>7</td>\n",
              "      <td>0.01000</td>\n",
              "      <td>False</td>\n",
              "      <td>(1, 1)</td>\n",
              "      <td>0.923380</td>\n",
              "      <td>0.911923</td>\n",
              "      <td>0.924096</td>\n",
              "      <td>0.924454</td>\n",
              "      <td>0.919083</td>\n",
              "      <td>0.920587</td>\n",
              "    </tr>\n",
              "    <tr>\n",
              "      <th>19</th>\n",
              "      <td>9</td>\n",
              "      <td>0.10000</td>\n",
              "      <td>True</td>\n",
              "      <td>(1, 2)</td>\n",
              "      <td>0.923022</td>\n",
              "      <td>0.912281</td>\n",
              "      <td>0.923022</td>\n",
              "      <td>0.924812</td>\n",
              "      <td>0.919441</td>\n",
              "      <td>0.920516</td>\n",
              "    </tr>\n",
              "    <tr>\n",
              "      <th>10</th>\n",
              "      <td>10</td>\n",
              "      <td>0.00010</td>\n",
              "      <td>False</td>\n",
              "      <td>(1, 2)</td>\n",
              "      <td>0.922664</td>\n",
              "      <td>0.911207</td>\n",
              "      <td>0.923380</td>\n",
              "      <td>0.925528</td>\n",
              "      <td>0.919441</td>\n",
              "      <td>0.920444</td>\n",
              "    </tr>\n",
              "    <tr>\n",
              "      <th>4</th>\n",
              "      <td>11</td>\n",
              "      <td>0.00001</td>\n",
              "      <td>False</td>\n",
              "      <td>(1, 2)</td>\n",
              "      <td>0.922306</td>\n",
              "      <td>0.911207</td>\n",
              "      <td>0.923380</td>\n",
              "      <td>0.925528</td>\n",
              "      <td>0.919441</td>\n",
              "      <td>0.920372</td>\n",
              "    </tr>\n",
              "    <tr>\n",
              "      <th>18</th>\n",
              "      <td>12</td>\n",
              "      <td>0.10000</td>\n",
              "      <td>True</td>\n",
              "      <td>(1, 1)</td>\n",
              "      <td>0.923022</td>\n",
              "      <td>0.912639</td>\n",
              "      <td>0.923738</td>\n",
              "      <td>0.923380</td>\n",
              "      <td>0.918725</td>\n",
              "      <td>0.920301</td>\n",
              "    </tr>\n",
              "    <tr>\n",
              "      <th>9</th>\n",
              "      <td>13</td>\n",
              "      <td>0.00010</td>\n",
              "      <td>False</td>\n",
              "      <td>(1, 1)</td>\n",
              "      <td>0.922664</td>\n",
              "      <td>0.910491</td>\n",
              "      <td>0.924096</td>\n",
              "      <td>0.924096</td>\n",
              "      <td>0.918725</td>\n",
              "      <td>0.920014</td>\n",
              "    </tr>\n",
              "    <tr>\n",
              "      <th>3</th>\n",
              "      <td>14</td>\n",
              "      <td>0.00001</td>\n",
              "      <td>False</td>\n",
              "      <td>(1, 1)</td>\n",
              "      <td>0.922306</td>\n",
              "      <td>0.910491</td>\n",
              "      <td>0.924096</td>\n",
              "      <td>0.924096</td>\n",
              "      <td>0.918725</td>\n",
              "      <td>0.919943</td>\n",
              "    </tr>\n",
              "    <tr>\n",
              "      <th>13</th>\n",
              "      <td>15</td>\n",
              "      <td>0.01000</td>\n",
              "      <td>True</td>\n",
              "      <td>(1, 2)</td>\n",
              "      <td>0.921948</td>\n",
              "      <td>0.910491</td>\n",
              "      <td>0.922306</td>\n",
              "      <td>0.924096</td>\n",
              "      <td>0.917651</td>\n",
              "      <td>0.919298</td>\n",
              "    </tr>\n",
              "    <tr>\n",
              "      <th>12</th>\n",
              "      <td>16</td>\n",
              "      <td>0.01000</td>\n",
              "      <td>True</td>\n",
              "      <td>(1, 1)</td>\n",
              "      <td>0.921590</td>\n",
              "      <td>0.909774</td>\n",
              "      <td>0.923022</td>\n",
              "      <td>0.922664</td>\n",
              "      <td>0.917651</td>\n",
              "      <td>0.918940</td>\n",
              "    </tr>\n",
              "    <tr>\n",
              "      <th>7</th>\n",
              "      <td>17</td>\n",
              "      <td>0.00010</td>\n",
              "      <td>True</td>\n",
              "      <td>(1, 2)</td>\n",
              "      <td>0.920874</td>\n",
              "      <td>0.909416</td>\n",
              "      <td>0.922306</td>\n",
              "      <td>0.924096</td>\n",
              "      <td>0.916935</td>\n",
              "      <td>0.918725</td>\n",
              "    </tr>\n",
              "    <tr>\n",
              "      <th>6</th>\n",
              "      <td>18</td>\n",
              "      <td>0.00010</td>\n",
              "      <td>True</td>\n",
              "      <td>(1, 1)</td>\n",
              "      <td>0.920158</td>\n",
              "      <td>0.909416</td>\n",
              "      <td>0.923022</td>\n",
              "      <td>0.922664</td>\n",
              "      <td>0.917293</td>\n",
              "      <td>0.918511</td>\n",
              "    </tr>\n",
              "    <tr>\n",
              "      <th>1</th>\n",
              "      <td>19</td>\n",
              "      <td>0.00001</td>\n",
              "      <td>True</td>\n",
              "      <td>(1, 2)</td>\n",
              "      <td>0.920874</td>\n",
              "      <td>0.908342</td>\n",
              "      <td>0.921948</td>\n",
              "      <td>0.923738</td>\n",
              "      <td>0.916577</td>\n",
              "      <td>0.918296</td>\n",
              "    </tr>\n",
              "    <tr>\n",
              "      <th>0</th>\n",
              "      <td>20</td>\n",
              "      <td>0.00001</td>\n",
              "      <td>True</td>\n",
              "      <td>(1, 1)</td>\n",
              "      <td>0.920158</td>\n",
              "      <td>0.908700</td>\n",
              "      <td>0.923022</td>\n",
              "      <td>0.921948</td>\n",
              "      <td>0.916935</td>\n",
              "      <td>0.918153</td>\n",
              "    </tr>\n",
              "    <tr>\n",
              "      <th>23</th>\n",
              "      <td>21</td>\n",
              "      <td>0.10000</td>\n",
              "      <td>False</td>\n",
              "      <td>(2, 2)</td>\n",
              "      <td>0.549588</td>\n",
              "      <td>0.536699</td>\n",
              "      <td>0.540637</td>\n",
              "      <td>0.545650</td>\n",
              "      <td>0.545650</td>\n",
              "      <td>0.543645</td>\n",
              "    </tr>\n",
              "    <tr>\n",
              "      <th>11</th>\n",
              "      <td>22</td>\n",
              "      <td>0.00010</td>\n",
              "      <td>False</td>\n",
              "      <td>(2, 2)</td>\n",
              "      <td>0.549230</td>\n",
              "      <td>0.536699</td>\n",
              "      <td>0.540637</td>\n",
              "      <td>0.545650</td>\n",
              "      <td>0.544934</td>\n",
              "      <td>0.543430</td>\n",
              "    </tr>\n",
              "    <tr>\n",
              "      <th>17</th>\n",
              "      <td>22</td>\n",
              "      <td>0.01000</td>\n",
              "      <td>False</td>\n",
              "      <td>(2, 2)</td>\n",
              "      <td>0.549230</td>\n",
              "      <td>0.536699</td>\n",
              "      <td>0.540637</td>\n",
              "      <td>0.545650</td>\n",
              "      <td>0.544934</td>\n",
              "      <td>0.543430</td>\n",
              "    </tr>\n",
              "    <tr>\n",
              "      <th>5</th>\n",
              "      <td>22</td>\n",
              "      <td>0.00001</td>\n",
              "      <td>False</td>\n",
              "      <td>(2, 2)</td>\n",
              "      <td>0.549230</td>\n",
              "      <td>0.536699</td>\n",
              "      <td>0.540637</td>\n",
              "      <td>0.545650</td>\n",
              "      <td>0.544934</td>\n",
              "      <td>0.543430</td>\n",
              "    </tr>\n",
              "    <tr>\n",
              "      <th>20</th>\n",
              "      <td>25</td>\n",
              "      <td>0.10000</td>\n",
              "      <td>True</td>\n",
              "      <td>(2, 2)</td>\n",
              "      <td>0.548872</td>\n",
              "      <td>0.536699</td>\n",
              "      <td>0.540637</td>\n",
              "      <td>0.546008</td>\n",
              "      <td>0.544576</td>\n",
              "      <td>0.543358</td>\n",
              "    </tr>\n",
              "    <tr>\n",
              "      <th>14</th>\n",
              "      <td>26</td>\n",
              "      <td>0.01000</td>\n",
              "      <td>True</td>\n",
              "      <td>(2, 2)</td>\n",
              "      <td>0.548514</td>\n",
              "      <td>0.535983</td>\n",
              "      <td>0.540637</td>\n",
              "      <td>0.545650</td>\n",
              "      <td>0.544576</td>\n",
              "      <td>0.543072</td>\n",
              "    </tr>\n",
              "    <tr>\n",
              "      <th>26</th>\n",
              "      <td>27</td>\n",
              "      <td>1.00000</td>\n",
              "      <td>True</td>\n",
              "      <td>(2, 2)</td>\n",
              "      <td>0.549230</td>\n",
              "      <td>0.535267</td>\n",
              "      <td>0.539563</td>\n",
              "      <td>0.545650</td>\n",
              "      <td>0.543860</td>\n",
              "      <td>0.542714</td>\n",
              "    </tr>\n",
              "    <tr>\n",
              "      <th>2</th>\n",
              "      <td>28</td>\n",
              "      <td>0.00001</td>\n",
              "      <td>True</td>\n",
              "      <td>(2, 2)</td>\n",
              "      <td>0.548156</td>\n",
              "      <td>0.535983</td>\n",
              "      <td>0.539921</td>\n",
              "      <td>0.545292</td>\n",
              "      <td>0.543860</td>\n",
              "      <td>0.542642</td>\n",
              "    </tr>\n",
              "    <tr>\n",
              "      <th>8</th>\n",
              "      <td>28</td>\n",
              "      <td>0.00010</td>\n",
              "      <td>True</td>\n",
              "      <td>(2, 2)</td>\n",
              "      <td>0.548156</td>\n",
              "      <td>0.535983</td>\n",
              "      <td>0.539921</td>\n",
              "      <td>0.545292</td>\n",
              "      <td>0.543860</td>\n",
              "      <td>0.542642</td>\n",
              "    </tr>\n",
              "    <tr>\n",
              "      <th>29</th>\n",
              "      <td>30</td>\n",
              "      <td>1.00000</td>\n",
              "      <td>False</td>\n",
              "      <td>(2, 2)</td>\n",
              "      <td>0.549230</td>\n",
              "      <td>0.535267</td>\n",
              "      <td>0.538847</td>\n",
              "      <td>0.543860</td>\n",
              "      <td>0.544218</td>\n",
              "      <td>0.542284</td>\n",
              "    </tr>\n",
              "  </tbody>\n",
              "</table>\n",
              "</div>"
            ],
            "text/plain": [
              "    rank  clf__alpha  tfidf__use_idf  ... split_cv_3  split_cv_4  mean_score\n",
              "22     1     0.10000           False  ...   0.926960    0.920874    0.922664\n",
              "21     2     0.10000           False  ...   0.925528    0.921232    0.922091\n",
              "25     3     1.00000            True  ...   0.923738    0.920516    0.921160\n",
              "28     3     1.00000           False  ...   0.922664    0.920516    0.921160\n",
              "16     5     0.01000           False  ...   0.926244    0.919441    0.921160\n",
              "27     6     1.00000           False  ...   0.923738    0.919799    0.920659\n",
              "24     7     1.00000            True  ...   0.923738    0.919799    0.920587\n",
              "15     7     0.01000           False  ...   0.924454    0.919083    0.920587\n",
              "19     9     0.10000            True  ...   0.924812    0.919441    0.920516\n",
              "10    10     0.00010           False  ...   0.925528    0.919441    0.920444\n",
              "4     11     0.00001           False  ...   0.925528    0.919441    0.920372\n",
              "18    12     0.10000            True  ...   0.923380    0.918725    0.920301\n",
              "9     13     0.00010           False  ...   0.924096    0.918725    0.920014\n",
              "3     14     0.00001           False  ...   0.924096    0.918725    0.919943\n",
              "13    15     0.01000            True  ...   0.924096    0.917651    0.919298\n",
              "12    16     0.01000            True  ...   0.922664    0.917651    0.918940\n",
              "7     17     0.00010            True  ...   0.924096    0.916935    0.918725\n",
              "6     18     0.00010            True  ...   0.922664    0.917293    0.918511\n",
              "1     19     0.00001            True  ...   0.923738    0.916577    0.918296\n",
              "0     20     0.00001            True  ...   0.921948    0.916935    0.918153\n",
              "23    21     0.10000           False  ...   0.545650    0.545650    0.543645\n",
              "11    22     0.00010           False  ...   0.545650    0.544934    0.543430\n",
              "17    22     0.01000           False  ...   0.545650    0.544934    0.543430\n",
              "5     22     0.00001           False  ...   0.545650    0.544934    0.543430\n",
              "20    25     0.10000            True  ...   0.546008    0.544576    0.543358\n",
              "14    26     0.01000            True  ...   0.545650    0.544576    0.543072\n",
              "26    27     1.00000            True  ...   0.545650    0.543860    0.542714\n",
              "2     28     0.00001            True  ...   0.545292    0.543860    0.542642\n",
              "8     28     0.00010            True  ...   0.545292    0.543860    0.542642\n",
              "29    30     1.00000           False  ...   0.543860    0.544218    0.542284\n",
              "\n",
              "[30 rows x 10 columns]"
            ]
          },
          "metadata": {
            "tags": []
          },
          "execution_count": 89
        }
      ]
    },
    {
      "cell_type": "code",
      "metadata": {
        "id": "6OHWHOKd7NOV",
        "colab_type": "code",
        "outputId": "103dcd6c-ac60-4216-8d12-c50d55792af3",
        "colab": {
          "base_uri": "https://localhost:8080/",
          "height": 306
        }
      },
      "source": [
        "from sklearn.metrics import classification_report\n",
        "\n",
        "print(\"Detailed classification report:\")\n",
        "print()\n",
        "print(\"The model is trained on the full development set.\")\n",
        "print(\"The scores are computed on the full evaluation set.\")\n",
        "print()\n",
        "y_true, y_pred = y_test, mnb_cv.predict(X_test)\n",
        "print(classification_report(y_true, y_pred))\n",
        "print()"
      ],
      "execution_count": 0,
      "outputs": [
        {
          "output_type": "stream",
          "text": [
            "Detailed classification report:\n",
            "\n",
            "The model is trained on the full development set.\n",
            "The scores are computed on the full evaluation set.\n",
            "\n",
            "              precision    recall  f1-score   support\n",
            "\n",
            "           0       0.98      0.95      0.97      1520\n",
            "           1       1.00      1.00      1.00      1486\n",
            "           2       1.00      0.79      0.88      1497\n",
            "           3       0.81      1.00      0.89      1482\n",
            "\n",
            "    accuracy                           0.94      5985\n",
            "   macro avg       0.95      0.94      0.94      5985\n",
            "weighted avg       0.95      0.94      0.94      5985\n",
            "\n",
            "\n"
          ],
          "name": "stdout"
        }
      ]
    },
    {
      "cell_type": "code",
      "metadata": {
        "id": "h4T1cKZJKlV6",
        "colab_type": "code",
        "outputId": "34486352-ec44-4c4f-c21a-41dd66c917c6",
        "colab": {
          "base_uri": "https://localhost:8080/",
          "height": 442
        }
      },
      "source": [
        "print(\"Best Estimator: \\n{}\\n\".format(mnb_cv.best_estimator_))\n",
        "print(\"Best Parameters: \\n{}\\n\".format(mnb_cv.best_params_))\n",
        "print(\"Best Test Score: \\n{}\\n\".format(mnb_cv.best_score_))"
      ],
      "execution_count": 0,
      "outputs": [
        {
          "output_type": "stream",
          "text": [
            "Best Estimator: \n",
            "Pipeline(memory=None,\n",
            "         steps=[('vect',\n",
            "                 CountVectorizer(analyzer='word', binary=False,\n",
            "                                 decode_error='strict',\n",
            "                                 dtype=<class 'numpy.int64'>, encoding='utf-8',\n",
            "                                 input='content', lowercase=True, max_df=1.0,\n",
            "                                 max_features=None, min_df=1,\n",
            "                                 ngram_range=(1, 2), preprocessor=None,\n",
            "                                 stop_words=None, strip_accents=None,\n",
            "                                 token_pattern='(?u)\\\\b\\\\w\\\\w+\\\\b',\n",
            "                                 tokenizer=None, vocabulary=None)),\n",
            "                ('tfidf',\n",
            "                 TfidfTransformer(norm='l2', smooth_idf=True,\n",
            "                                  sublinear_tf=False, use_idf=False)),\n",
            "                ('clf',\n",
            "                 MultinomialNB(alpha=0.1, class_prior=None, fit_prior=True))],\n",
            "         verbose=False)\n",
            "\n",
            "Best Parameters: \n",
            "{'clf__alpha': 0.1, 'tfidf__use_idf': False, 'vect__ngram_range': (1, 2)}\n",
            "\n",
            "Best Test Score: \n",
            "0.9226638023630505\n",
            "\n"
          ],
          "name": "stdout"
        }
      ]
    },
    {
      "cell_type": "code",
      "metadata": {
        "id": "vrcE3Y2AXdVq",
        "colab_type": "code",
        "outputId": "2b029bca-a144-4eed-bd04-64f5c2079d82",
        "colab": {
          "base_uri": "https://localhost:8080/",
          "height": 85
        }
      },
      "source": [
        "mnb_cv_preds = mnb_cv.predict(pd.Series(np.array(predict_words)))\n",
        "evaluation_test(mnb_cv_preds)"
      ],
      "execution_count": 0,
      "outputs": [
        {
          "output_type": "stream",
          "text": [
            "naufal ihsan pratama => nama\n",
            "jl juraganan rt 01 no 25 => alamat\n",
            "laki laki => gender\n",
            "vivin febriyanti strk => nama\n"
          ],
          "name": "stdout"
        }
      ]
    },
    {
      "cell_type": "code",
      "metadata": {
        "id": "MOgV8uN2vAdZ",
        "colab_type": "code",
        "outputId": "f47d5f98-e65d-4b2c-b506-6a7b024d6212",
        "colab": {
          "base_uri": "https://localhost:8080/",
          "height": 187
        }
      },
      "source": [
        "from sklearn.ensemble import GradientBoostingClassifier\n",
        "\n",
        "gbc = GradientBoostingClassifier()\n",
        "gbc.fit(X_train_dtm,y_train)"
      ],
      "execution_count": 0,
      "outputs": [
        {
          "output_type": "execute_result",
          "data": {
            "text/plain": [
              "GradientBoostingClassifier(ccp_alpha=0.0, criterion='friedman_mse', init=None,\n",
              "                           learning_rate=0.1, loss='deviance', max_depth=3,\n",
              "                           max_features=None, max_leaf_nodes=None,\n",
              "                           min_impurity_decrease=0.0, min_impurity_split=None,\n",
              "                           min_samples_leaf=1, min_samples_split=2,\n",
              "                           min_weight_fraction_leaf=0.0, n_estimators=100,\n",
              "                           n_iter_no_change=None, presort='deprecated',\n",
              "                           random_state=None, subsample=1.0, tol=0.0001,\n",
              "                           validation_fraction=0.1, verbose=0,\n",
              "                           warm_start=False)"
            ]
          },
          "metadata": {
            "tags": []
          },
          "execution_count": 93
        }
      ]
    },
    {
      "cell_type": "code",
      "metadata": {
        "id": "-rH_rtNcv9fA",
        "colab_type": "code",
        "outputId": "572652c6-637a-421a-ab0b-2f6d06939ea2",
        "colab": {
          "base_uri": "https://localhost:8080/",
          "height": 85
        }
      },
      "source": [
        "gbc_preds = gbc.predict(preds)\n",
        "evaluation_test(gbc_preds)"
      ],
      "execution_count": 0,
      "outputs": [
        {
          "output_type": "stream",
          "text": [
            "naufal ihsan pratama => nama\n",
            "jl juraganan rt 01 no 25 => alamat\n",
            "laki laki => gender\n",
            "vivin febriyanti strk => nama\n"
          ],
          "name": "stdout"
        }
      ]
    },
    {
      "cell_type": "code",
      "metadata": {
        "id": "9Sj9wUiywjWb",
        "colab_type": "code",
        "outputId": "7530047b-f92c-4dca-98bd-3e2c9dd11f0c",
        "colab": {
          "base_uri": "https://localhost:8080/",
          "height": 34
        }
      },
      "source": [
        "print(f'Gradient Boost Score => {gbc.score(X_test_dtm, y_test)}')"
      ],
      "execution_count": 0,
      "outputs": [
        {
          "output_type": "stream",
          "text": [
            "Gradient Boost Score => 0.9590643274853801\n"
          ],
          "name": "stdout"
        }
      ]
    },
    {
      "cell_type": "code",
      "metadata": {
        "id": "WS5x6zlRYVsz",
        "colab_type": "code",
        "colab": {}
      },
      "source": [
        "text_clf_2 = Pipeline([('vect', CountVectorizer()),\n",
        "                     ('tfidf', TfidfTransformer()),\n",
        "                     ('clf', GradientBoostingClassifier())])\n",
        "\n",
        "tuned_parameters_2 = {\n",
        "    'tfidf__use_idf': (True, False),\n",
        "    'clf__n_estimators': [5, 50, 250],\n",
        "    'clf__max_depth': [1, 3, 5, 7],\n",
        "    'clf__learning_rate': [0.01, 0.1, 1, 10, 100]\n",
        "}\n",
        "\n",
        "score_2 = 'f1_micro'"
      ],
      "execution_count": 0,
      "outputs": []
    },
    {
      "cell_type": "code",
      "metadata": {
        "id": "oCR8_CC-a0Hk",
        "colab_type": "code",
        "outputId": "56d5f5d3-3f31-4078-981e-0ee63c16dbec",
        "colab": {
          "base_uri": "https://localhost:8080/",
          "height": 544
        }
      },
      "source": [
        "gbc_cv = GridSearchCV(text_clf_2, tuned_parameters_2, cv=5, scoring=score_2, n_jobs=-1)\n",
        "gbc_cv.fit(X_train, y_train)"
      ],
      "execution_count": 0,
      "outputs": [
        {
          "output_type": "execute_result",
          "data": {
            "text/plain": [
              "GridSearchCV(cv=5, error_score=nan,\n",
              "             estimator=Pipeline(memory=None,\n",
              "                                steps=[('vect',\n",
              "                                        CountVectorizer(analyzer='word',\n",
              "                                                        binary=False,\n",
              "                                                        decode_error='strict',\n",
              "                                                        dtype=<class 'numpy.int64'>,\n",
              "                                                        encoding='utf-8',\n",
              "                                                        input='content',\n",
              "                                                        lowercase=True,\n",
              "                                                        max_df=1.0,\n",
              "                                                        max_features=None,\n",
              "                                                        min_df=1,\n",
              "                                                        ngram_range=(1, 1),\n",
              "                                                        preprocessor=None,\n",
              "                                                        stop_words=None,\n",
              "                                                        strip_accents=None,\n",
              "                                                        token_pattern='(?u)...\n",
              "                                                                   subsample=1.0,\n",
              "                                                                   tol=0.0001,\n",
              "                                                                   validation_fraction=0.1,\n",
              "                                                                   verbose=0,\n",
              "                                                                   warm_start=False))],\n",
              "                                verbose=False),\n",
              "             iid='deprecated', n_jobs=-1,\n",
              "             param_grid={'clf__learning_rate': [0.01, 0.1, 1, 10, 100],\n",
              "                         'clf__max_depth': [1, 3, 5, 7],\n",
              "                         'clf__n_estimators': [5, 50, 250],\n",
              "                         'tfidf__use_idf': (True, False)},\n",
              "             pre_dispatch='2*n_jobs', refit=True, return_train_score=False,\n",
              "             scoring='f1_micro', verbose=0)"
            ]
          },
          "metadata": {
            "tags": []
          },
          "execution_count": 97
        }
      ]
    },
    {
      "cell_type": "code",
      "metadata": {
        "id": "khpKHXE13nRx",
        "colab_type": "code",
        "outputId": "7c414bfb-0a2d-49c5-b4b7-109af55299c3",
        "colab": {
          "base_uri": "https://localhost:8080/",
          "height": 85
        }
      },
      "source": [
        "gbc_cv_preds = gbc_cv.predict(pd.Series(np.array(predict_words)))\n",
        "evaluation_test(gbc_cv_preds)"
      ],
      "execution_count": 0,
      "outputs": [
        {
          "output_type": "stream",
          "text": [
            "naufal ihsan pratama => nama\n",
            "jl juraganan rt 01 no 25 => alamat\n",
            "laki laki => gender\n",
            "vivin febriyanti strk => nama\n"
          ],
          "name": "stdout"
        }
      ]
    },
    {
      "cell_type": "code",
      "metadata": {
        "id": "pTGNofyh37hl",
        "colab_type": "code",
        "outputId": "6da43cad-dff0-4781-fc23-6f867ff5c50a",
        "colab": {
          "base_uri": "https://localhost:8080/",
          "height": 419
        }
      },
      "source": [
        "gbc_params = gbc_cv.cv_results_['params']\n",
        "gbc_split_cv_0 = gbc_cv.cv_results_['split0_test_score']\n",
        "gbc_split_cv_1 = gbc_cv.cv_results_['split1_test_score']\n",
        "gbc_split_cv_2 = gbc_cv.cv_results_['split2_test_score']\n",
        "gbc_split_cv_3 = gbc_cv.cv_results_['split3_test_score']\n",
        "gbc_split_cv_4 = gbc_cv.cv_results_['split4_test_score']\n",
        "gbc_mean_score = gbc_cv.cv_results_['mean_test_score']\n",
        "gbc_rank = gbc_cv.cv_results_['rank_test_score']\n",
        "\n",
        "clf__learning_rate = list()\n",
        "clf__max_depth = list()\n",
        "clf__n_estimators = list()\n",
        "tfidf__use_idf = list()\n",
        "\n",
        "for i in range(len(gbc_params)):\n",
        "  clf__learning_rate.append(gbc_params[i]['clf__learning_rate'])\n",
        "  clf__max_depth.append(gbc_params[i]['clf__max_depth'])\n",
        "  clf__n_estimators.append(gbc_params[i]['clf__n_estimators'])\n",
        "  tfidf__use_idf.append(gbc_params[i]['tfidf__use_idf'])\n",
        "\n",
        "gbc_result = pd.DataFrame({\n",
        "              'rank': gbc_rank,\n",
        "              'clf__learning_rate':clf__learning_rate,\n",
        "              'clf__max_depth':clf__max_depth,\n",
        "              'clf__n_estimators':clf__n_estimators,\n",
        "              'tfidf__use_idf':tfidf__use_idf,\n",
        "              'split_cv_0': gbc_split_cv_0,\n",
        "              'split_cv_1': gbc_split_cv_1,\n",
        "              'split_cv_2': gbc_split_cv_2,\n",
        "              'split_cv_3': gbc_split_cv_3,\n",
        "              'split_cv_4': gbc_split_cv_4,\n",
        "              'mean_score': gbc_mean_score })\n",
        "\n",
        "gbc_result.sort_values(by=['rank'])"
      ],
      "execution_count": 0,
      "outputs": [
        {
          "output_type": "execute_result",
          "data": {
            "text/html": [
              "<div>\n",
              "<style scoped>\n",
              "    .dataframe tbody tr th:only-of-type {\n",
              "        vertical-align: middle;\n",
              "    }\n",
              "\n",
              "    .dataframe tbody tr th {\n",
              "        vertical-align: top;\n",
              "    }\n",
              "\n",
              "    .dataframe thead th {\n",
              "        text-align: right;\n",
              "    }\n",
              "</style>\n",
              "<table border=\"1\" class=\"dataframe\">\n",
              "  <thead>\n",
              "    <tr style=\"text-align: right;\">\n",
              "      <th></th>\n",
              "      <th>rank</th>\n",
              "      <th>clf__learning_rate</th>\n",
              "      <th>clf__max_depth</th>\n",
              "      <th>clf__n_estimators</th>\n",
              "      <th>tfidf__use_idf</th>\n",
              "      <th>split_cv_0</th>\n",
              "      <th>split_cv_1</th>\n",
              "      <th>split_cv_2</th>\n",
              "      <th>split_cv_3</th>\n",
              "      <th>split_cv_4</th>\n",
              "      <th>mean_score</th>\n",
              "    </tr>\n",
              "  </thead>\n",
              "  <tbody>\n",
              "    <tr>\n",
              "      <th>59</th>\n",
              "      <td>1</td>\n",
              "      <td>1.0</td>\n",
              "      <td>3</td>\n",
              "      <td>250</td>\n",
              "      <td>False</td>\n",
              "      <td>0.973863</td>\n",
              "      <td>0.968851</td>\n",
              "      <td>0.974221</td>\n",
              "      <td>0.973505</td>\n",
              "      <td>0.973505</td>\n",
              "      <td>0.972789</td>\n",
              "    </tr>\n",
              "    <tr>\n",
              "      <th>63</th>\n",
              "      <td>2</td>\n",
              "      <td>1.0</td>\n",
              "      <td>5</td>\n",
              "      <td>50</td>\n",
              "      <td>False</td>\n",
              "      <td>0.975653</td>\n",
              "      <td>0.968135</td>\n",
              "      <td>0.970999</td>\n",
              "      <td>0.973505</td>\n",
              "      <td>0.973505</td>\n",
              "      <td>0.972359</td>\n",
              "    </tr>\n",
              "    <tr>\n",
              "      <th>71</th>\n",
              "      <td>3</td>\n",
              "      <td>1.0</td>\n",
              "      <td>7</td>\n",
              "      <td>250</td>\n",
              "      <td>False</td>\n",
              "      <td>0.974579</td>\n",
              "      <td>0.968135</td>\n",
              "      <td>0.973147</td>\n",
              "      <td>0.970999</td>\n",
              "      <td>0.973505</td>\n",
              "      <td>0.972073</td>\n",
              "    </tr>\n",
              "    <tr>\n",
              "      <th>65</th>\n",
              "      <td>4</td>\n",
              "      <td>1.0</td>\n",
              "      <td>5</td>\n",
              "      <td>250</td>\n",
              "      <td>False</td>\n",
              "      <td>0.974221</td>\n",
              "      <td>0.968493</td>\n",
              "      <td>0.972431</td>\n",
              "      <td>0.972789</td>\n",
              "      <td>0.972073</td>\n",
              "      <td>0.972001</td>\n",
              "    </tr>\n",
              "    <tr>\n",
              "      <th>69</th>\n",
              "      <td>5</td>\n",
              "      <td>1.0</td>\n",
              "      <td>7</td>\n",
              "      <td>50</td>\n",
              "      <td>False</td>\n",
              "      <td>0.974937</td>\n",
              "      <td>0.968493</td>\n",
              "      <td>0.970999</td>\n",
              "      <td>0.971357</td>\n",
              "      <td>0.972789</td>\n",
              "      <td>0.971715</td>\n",
              "    </tr>\n",
              "    <tr>\n",
              "      <th>...</th>\n",
              "      <td>...</td>\n",
              "      <td>...</td>\n",
              "      <td>...</td>\n",
              "      <td>...</td>\n",
              "      <td>...</td>\n",
              "      <td>...</td>\n",
              "      <td>...</td>\n",
              "      <td>...</td>\n",
              "      <td>...</td>\n",
              "      <td>...</td>\n",
              "      <td>...</td>\n",
              "    </tr>\n",
              "    <tr>\n",
              "      <th>98</th>\n",
              "      <td>115</td>\n",
              "      <td>100.0</td>\n",
              "      <td>1</td>\n",
              "      <td>50</td>\n",
              "      <td>True</td>\n",
              "      <td>0.146796</td>\n",
              "      <td>0.153240</td>\n",
              "      <td>0.181525</td>\n",
              "      <td>0.145363</td>\n",
              "      <td>0.143215</td>\n",
              "      <td>0.154028</td>\n",
              "    </tr>\n",
              "    <tr>\n",
              "      <th>96</th>\n",
              "      <td>115</td>\n",
              "      <td>100.0</td>\n",
              "      <td>1</td>\n",
              "      <td>5</td>\n",
              "      <td>True</td>\n",
              "      <td>0.146796</td>\n",
              "      <td>0.153240</td>\n",
              "      <td>0.181525</td>\n",
              "      <td>0.145363</td>\n",
              "      <td>0.143215</td>\n",
              "      <td>0.154028</td>\n",
              "    </tr>\n",
              "    <tr>\n",
              "      <th>91</th>\n",
              "      <td>118</td>\n",
              "      <td>10.0</td>\n",
              "      <td>7</td>\n",
              "      <td>5</td>\n",
              "      <td>False</td>\n",
              "      <td>0.269961</td>\n",
              "      <td>0.136412</td>\n",
              "      <td>0.095596</td>\n",
              "      <td>0.105263</td>\n",
              "      <td>0.142499</td>\n",
              "      <td>0.149946</td>\n",
              "    </tr>\n",
              "    <tr>\n",
              "      <th>95</th>\n",
              "      <td>118</td>\n",
              "      <td>10.0</td>\n",
              "      <td>7</td>\n",
              "      <td>250</td>\n",
              "      <td>False</td>\n",
              "      <td>0.269961</td>\n",
              "      <td>0.136412</td>\n",
              "      <td>0.095596</td>\n",
              "      <td>0.105263</td>\n",
              "      <td>0.142499</td>\n",
              "      <td>0.149946</td>\n",
              "    </tr>\n",
              "    <tr>\n",
              "      <th>93</th>\n",
              "      <td>120</td>\n",
              "      <td>10.0</td>\n",
              "      <td>7</td>\n",
              "      <td>50</td>\n",
              "      <td>False</td>\n",
              "      <td>0.269961</td>\n",
              "      <td>0.136412</td>\n",
              "      <td>0.095596</td>\n",
              "      <td>0.105263</td>\n",
              "      <td>0.134980</td>\n",
              "      <td>0.148443</td>\n",
              "    </tr>\n",
              "  </tbody>\n",
              "</table>\n",
              "<p>120 rows × 11 columns</p>\n",
              "</div>"
            ],
            "text/plain": [
              "    rank  clf__learning_rate  ...  split_cv_4  mean_score\n",
              "59     1                 1.0  ...    0.973505    0.972789\n",
              "63     2                 1.0  ...    0.973505    0.972359\n",
              "71     3                 1.0  ...    0.973505    0.972073\n",
              "65     4                 1.0  ...    0.972073    0.972001\n",
              "69     5                 1.0  ...    0.972789    0.971715\n",
              "..   ...                 ...  ...         ...         ...\n",
              "98   115               100.0  ...    0.143215    0.154028\n",
              "96   115               100.0  ...    0.143215    0.154028\n",
              "91   118                10.0  ...    0.142499    0.149946\n",
              "95   118                10.0  ...    0.142499    0.149946\n",
              "93   120                10.0  ...    0.134980    0.148443\n",
              "\n",
              "[120 rows x 11 columns]"
            ]
          },
          "metadata": {
            "tags": []
          },
          "execution_count": 107
        }
      ]
    },
    {
      "cell_type": "code",
      "metadata": {
        "id": "NbM5PvMT31q2",
        "colab_type": "code",
        "outputId": "995f2961-b656-4d81-d6e1-cb931fc32e5b",
        "colab": {
          "base_uri": "https://localhost:8080/",
          "height": 306
        }
      },
      "source": [
        "print(\"Detailed classification report:\")\n",
        "print()\n",
        "print(\"The model is trained on the full train set.\")\n",
        "print(\"The scores are computed on the full test set.\")\n",
        "print()\n",
        "y_true, y_pred = y_test, gbc_cv.predict(X_test)\n",
        "print(classification_report(y_true, y_pred))\n",
        "print()"
      ],
      "execution_count": 0,
      "outputs": [
        {
          "output_type": "stream",
          "text": [
            "Detailed classification report:\n",
            "\n",
            "The model is trained on the full train set.\n",
            "The scores are computed on the full test set.\n",
            "\n",
            "              precision    recall  f1-score   support\n",
            "\n",
            "           0       0.99      0.90      0.95      1520\n",
            "           1       1.00      1.00      1.00      1486\n",
            "           2       0.91      1.00      0.95      1497\n",
            "           3       1.00      1.00      1.00      1482\n",
            "\n",
            "    accuracy                           0.97      5985\n",
            "   macro avg       0.98      0.97      0.97      5985\n",
            "weighted avg       0.98      0.97      0.97      5985\n",
            "\n",
            "\n"
          ],
          "name": "stdout"
        }
      ]
    },
    {
      "cell_type": "code",
      "metadata": {
        "id": "whqdvq6YqulH",
        "colab_type": "code",
        "colab": {}
      },
      "source": [
        "X = df1.entity\n",
        "y = pd.get_dummies(df1.category).values"
      ],
      "execution_count": 0,
      "outputs": []
    },
    {
      "cell_type": "code",
      "metadata": {
        "id": "9ynI9W5_jCHT",
        "colab_type": "code",
        "colab": {}
      },
      "source": [
        "X_train, X_test, y_train, y_test = train_test_split(X, y, test_size = 0.3, random_state = 21)"
      ],
      "execution_count": 0,
      "outputs": []
    },
    {
      "cell_type": "code",
      "metadata": {
        "id": "7Qgi79Mh_7G0",
        "colab_type": "code",
        "colab": {}
      },
      "source": [
        "from string import punctuation\n",
        "from keras.preprocessing.text import Tokenizer\n",
        "from keras.preprocessing import sequence"
      ],
      "execution_count": 0,
      "outputs": []
    },
    {
      "cell_type": "code",
      "metadata": {
        "id": "OAOAIWx4EALO",
        "colab_type": "code",
        "colab": {}
      },
      "source": [
        "vocab_size = 5000\n",
        "max_seq_word = 12\n",
        "embedding_size = 64"
      ],
      "execution_count": 0,
      "outputs": []
    },
    {
      "cell_type": "code",
      "metadata": {
        "id": "OmQ1LtITfnRp",
        "colab_type": "code",
        "colab": {}
      },
      "source": [
        "X_lstm_train, X_lstm_val, y_lstm_train, y_lstm_val = train_test_split(X_train, y_train, train_size = 0.9, random_state = 21)"
      ],
      "execution_count": 0,
      "outputs": []
    },
    {
      "cell_type": "code",
      "metadata": {
        "id": "ZXT085km9RIB",
        "colab_type": "code",
        "colab": {}
      },
      "source": [
        "tokenizer = Tokenizer(num_words = vocab_size, filters = punctuation, lower= True)\n",
        "tokenizer.fit_on_texts(X_lstm_train.values)"
      ],
      "execution_count": 0,
      "outputs": []
    },
    {
      "cell_type": "code",
      "metadata": {
        "id": "awH_GzBr9RFS",
        "colab_type": "code",
        "outputId": "ca78b2e4-2508-4724-da9a-14a4dcf6acdd",
        "colab": {
          "base_uri": "https://localhost:8080/",
          "height": 34
        }
      },
      "source": [
        "word_index = tokenizer.word_index\n",
        "print('Found %s unique tokens.' % len(word_index))"
      ],
      "execution_count": 66,
      "outputs": [
        {
          "output_type": "stream",
          "text": [
            "Found 8657 unique tokens.\n"
          ],
          "name": "stdout"
        }
      ]
    },
    {
      "cell_type": "code",
      "metadata": {
        "id": "ggifzgpcd5SR",
        "colab_type": "code",
        "colab": {
          "base_uri": "https://localhost:8080/",
          "height": 34
        },
        "outputId": "d869d431-5ca1-49d3-b53a-3d2ea011357a"
      },
      "source": [
        "dict(list(word_index.items())[0:5])"
      ],
      "execution_count": 67,
      "outputs": [
        {
          "output_type": "execute_result",
          "data": {
            "text/plain": [
              "{'laki': 1, 'no': 4, 'pria': 3, 'rt': 2, 'rw': 5}"
            ]
          },
          "metadata": {
            "tags": []
          },
          "execution_count": 67
        }
      ]
    },
    {
      "cell_type": "code",
      "metadata": {
        "id": "rUTCfKW69RCi",
        "colab_type": "code",
        "colab": {}
      },
      "source": [
        "lstm_train_seq = tokenizer.texts_to_sequences(X_lstm_train.values)\n",
        "lstm_val_seq = tokenizer.texts_to_sequences(X_lstm_val.values)"
      ],
      "execution_count": 0,
      "outputs": []
    },
    {
      "cell_type": "code",
      "metadata": {
        "id": "l9v72mct9Q_z",
        "colab_type": "code",
        "colab": {}
      },
      "source": [
        "lstm_train_padded = sequence.pad_sequences(lstm_train_seq, maxlen= max_seq_word)\n",
        "lstm_val_padded = sequence.pad_sequences(lstm_val_seq, maxlen= max_seq_word)"
      ],
      "execution_count": 0,
      "outputs": []
    },
    {
      "cell_type": "code",
      "metadata": {
        "id": "ry7NPu0yhDUL",
        "colab_type": "code",
        "colab": {
          "base_uri": "https://localhost:8080/",
          "height": 34
        },
        "outputId": "7d032d10-4d5a-4c35-e243-f9d69e419e05"
      },
      "source": [
        "lstm_train_seq[0]"
      ],
      "execution_count": 70,
      "outputs": [
        {
          "output_type": "execute_result",
          "data": {
            "text/plain": [
              "[185, 2632]"
            ]
          },
          "metadata": {
            "tags": []
          },
          "execution_count": 70
        }
      ]
    },
    {
      "cell_type": "code",
      "metadata": {
        "id": "VbWhGsjlhLKK",
        "colab_type": "code",
        "colab": {
          "base_uri": "https://localhost:8080/",
          "height": 51
        },
        "outputId": "855b2fd7-8052-4589-8495-dd3271de731d"
      },
      "source": [
        "lstm_train_padded[0]"
      ],
      "execution_count": 71,
      "outputs": [
        {
          "output_type": "execute_result",
          "data": {
            "text/plain": [
              "array([   0,    0,    0,    0,    0,    0,    0,    0,    0,    0,  185,\n",
              "       2632], dtype=int32)"
            ]
          },
          "metadata": {
            "tags": []
          },
          "execution_count": 71
        }
      ]
    },
    {
      "cell_type": "code",
      "metadata": {
        "id": "-UCKcsoeh3mL",
        "colab_type": "code",
        "colab": {}
      },
      "source": [
        "# label_tokenizer = Tokenizer()\n",
        "# label_tokenizer.fit_on_texts(['alamat','gender','nama','ttl'])\n",
        "\n",
        "# train_label_seq = np.array(label_tokenizer.texts_to_sequences(y_lstm_train))\n",
        "# val_label_seq = np.array(label_tokenizer.texts_to_sequences(y_lstm_val))"
      ],
      "execution_count": 0,
      "outputs": []
    },
    {
      "cell_type": "code",
      "metadata": {
        "id": "mQVffhKul5pN",
        "colab_type": "code",
        "colab": {}
      },
      "source": [
        "# val_label_seq.shape"
      ],
      "execution_count": 0,
      "outputs": []
    },
    {
      "cell_type": "code",
      "metadata": {
        "id": "998DIufybigu",
        "colab_type": "code",
        "colab": {
          "base_uri": "https://localhost:8080/",
          "height": 68
        },
        "outputId": "acea1817-d0fc-4cd4-ea6c-257b64ce4bb6"
      },
      "source": [
        "reverse_word_index = dict([(value, key) for (key, value) in word_index.items()])\n",
        "def decode_entity(text):\n",
        "    return ' '.join([reverse_word_index.get(i, '?') for i in text])\n",
        "\n",
        "print(decode_entity(lstm_train_padded[2]))\n",
        "print('==== DECODE ====')\n",
        "print(X_lstm_train.values[2])"
      ],
      "execution_count": 75,
      "outputs": [
        {
          "output_type": "stream",
          "text": [
            "? ? ? ? ? ? ? ? jakarta 12 05 1988\n",
            "==== DECODE ====\n",
            "jakarta 12 05 1988\n"
          ],
          "name": "stdout"
        }
      ]
    },
    {
      "cell_type": "code",
      "metadata": {
        "id": "08JcKXF6Awvp",
        "colab_type": "code",
        "colab": {}
      },
      "source": [
        "from keras.models import Sequential\n",
        "from keras.layers import Flatten\n",
        "from keras.layers import Embedding, LSTM, Dense, Dropout, Conv1D, MaxPool1D, SpatialDropout1D\n",
        "from keras.preprocessing import sequence\n",
        "from keras.callbacks import ReduceLROnPlateau, EarlyStopping\n",
        "from keras.constraints import max_norm"
      ],
      "execution_count": 0,
      "outputs": []
    },
    {
      "cell_type": "code",
      "metadata": {
        "id": "IqujA8OhBAxv",
        "colab_type": "code",
        "colab": {}
      },
      "source": [
        "!pip install talos"
      ],
      "execution_count": 0,
      "outputs": []
    },
    {
      "cell_type": "code",
      "metadata": {
        "id": "6CFTt0_u9Q4T",
        "colab_type": "code",
        "colab": {}
      },
      "source": [
        "import talos"
      ],
      "execution_count": 0,
      "outputs": []
    },
    {
      "cell_type": "code",
      "metadata": {
        "id": "T4LsVg9NB27c",
        "colab_type": "code",
        "outputId": "4bfb37b4-25f7-4350-b2d0-e25ae4f118e0",
        "colab": {
          "base_uri": "https://localhost:8080/",
          "height": 428
        }
      },
      "source": [
        "def tuning_lstm(x_train, y_train, x_val, y_val, params):\n",
        "    \n",
        "    dropout = float(params['dropout'])\n",
        "    lstm_neuron = int(params['lstm_neuron'])\n",
        "    \n",
        "    model = Sequential()\n",
        "    model.add(Embedding(vocab_size, embedding_size))\n",
        "    model.add(SpatialDropout1D(dropout))\n",
        "    model.add(\n",
        "          LSTM (\n",
        "            lstm_neuron,\n",
        "            activation='tanh',\n",
        "            recurrent_activation='hard_sigmoid',\n",
        "            dropout=dropout\n",
        "      )\n",
        "    )\n",
        "    model.add(Dense(4, activation='softmax'))\n",
        "    \n",
        "    model.compile(\n",
        "        optimizer=params['optimizer'],\n",
        "        loss='categorical_crossentropy',\n",
        "        metrics=['accuracy']\n",
        "    )\n",
        "\n",
        "    out = model.fit(\n",
        "        x_train, y_train, epochs=params['epochs'], batch_size=params['batch_size'], \n",
        "        verbose=1,\n",
        "        validation_data=[x_val, y_val]\n",
        "    )\n",
        "    \n",
        "    return out, model\n",
        "\n",
        "tuned_parameters_3 = {\n",
        "    'epochs': [5],\n",
        "    'batch_size': [64],\n",
        "    'lstm_neuron': [100],\n",
        "    'optimizer': ['adam'],\n",
        "    'dropout': [0.2]\n",
        "}\n",
        "\n",
        "scan_results = talos.Scan(lstm_train_padded, y_lstm_train,\n",
        "                          x_val=lstm_val_padded, y_val=y_lstm_val,\n",
        "                          params=tuned_parameters_3,\n",
        "                          model=tuning_lstm,\n",
        "                          experiment_name='Tuning LSTM Model')"
      ],
      "execution_count": 80,
      "outputs": [
        {
          "output_type": "stream",
          "text": [
            "\n",
            "\n",
            "\n",
            "  0%|          | 0/1 [00:00<?, ?it/s]\u001b[A\u001b[A\u001b[A"
          ],
          "name": "stderr"
        },
        {
          "output_type": "stream",
          "text": [
            "WARNING:tensorflow:From /usr/local/lib/python3.6/dist-packages/tensorflow/python/ops/math_grad.py:1250: add_dispatch_support.<locals>.wrapper (from tensorflow.python.ops.array_ops) is deprecated and will be removed in a future version.\n",
            "Instructions for updating:\n",
            "Use tf.where in 2.0, which has the same broadcast rule as np.where\n",
            "WARNING:tensorflow:From /usr/local/lib/python3.6/dist-packages/keras/backend/tensorflow_backend.py:422: The name tf.global_variables is deprecated. Please use tf.compat.v1.global_variables instead.\n",
            "\n",
            "Train on 12568 samples, validate on 1397 samples\n",
            "Epoch 1/5\n",
            "12568/12568 [==============================] - 7s 593us/step - loss: 0.4554 - accuracy: 0.8488 - val_loss: 0.0865 - val_accuracy: 0.9685\n",
            "Epoch 2/5\n",
            "12568/12568 [==============================] - 7s 545us/step - loss: 0.0682 - accuracy: 0.9786 - val_loss: 0.0519 - val_accuracy: 0.9792\n",
            "Epoch 3/5\n",
            "12568/12568 [==============================] - 7s 544us/step - loss: 0.0292 - accuracy: 0.9915 - val_loss: 0.0458 - val_accuracy: 0.9821\n",
            "Epoch 4/5\n",
            "12568/12568 [==============================] - 7s 542us/step - loss: 0.0194 - accuracy: 0.9951 - val_loss: 0.0445 - val_accuracy: 0.9821\n",
            "Epoch 5/5\n",
            "12568/12568 [==============================] - 7s 541us/step - loss: 0.0135 - accuracy: 0.9963 - val_loss: 0.0458 - val_accuracy: 0.9843\n"
          ],
          "name": "stdout"
        },
        {
          "output_type": "stream",
          "text": [
            "\n",
            "\n",
            "\n",
            "100%|██████████| 1/1 [00:36<00:00, 36.71s/it]\n"
          ],
          "name": "stderr"
        }
      ]
    },
    {
      "cell_type": "code",
      "metadata": {
        "id": "BMj4-jmVEkbL",
        "colab_type": "code",
        "outputId": "462bc47e-1d6b-4e58-a44e-f6e7ef98d5c3",
        "colab": {
          "base_uri": "https://localhost:8080/",
          "height": 204
        }
      },
      "source": [
        "scan_results.details"
      ],
      "execution_count": 87,
      "outputs": [
        {
          "output_type": "execute_result",
          "data": {
            "text/plain": [
              "experiment_name        Tuning LSTM Model\n",
              "random_method           uniform_mersenne\n",
              "reduction_method                    None\n",
              "reduction_interval                    50\n",
              "reduction_window                      20\n",
              "reduction_threshold                  0.2\n",
              "reduction_metric                 val_acc\n",
              "complete_time             06/11/20/04:41\n",
              "x_shape                      (12568, 12)\n",
              "y_shape                       (12568, 4)\n",
              "dtype: object"
            ]
          },
          "metadata": {
            "tags": []
          },
          "execution_count": 87
        }
      ]
    },
    {
      "cell_type": "code",
      "metadata": {
        "id": "ogFEBtfxF406",
        "colab_type": "code",
        "outputId": "07dfb1b4-8d19-498a-9dc1-1b766ccd9647",
        "colab": {
          "base_uri": "https://localhost:8080/",
          "height": 1000
        }
      },
      "source": [
        "analyze_object = talos.Analyze(scan_results)\n",
        "analyze_object.data.sort_values(by=['val_accuracy'],ascending=False)"
      ],
      "execution_count": 60,
      "outputs": [
        {
          "output_type": "execute_result",
          "data": {
            "text/html": [
              "<div>\n",
              "<style scoped>\n",
              "    .dataframe tbody tr th:only-of-type {\n",
              "        vertical-align: middle;\n",
              "    }\n",
              "\n",
              "    .dataframe tbody tr th {\n",
              "        vertical-align: top;\n",
              "    }\n",
              "\n",
              "    .dataframe thead th {\n",
              "        text-align: right;\n",
              "    }\n",
              "</style>\n",
              "<table border=\"1\" class=\"dataframe\">\n",
              "  <thead>\n",
              "    <tr style=\"text-align: right;\">\n",
              "      <th></th>\n",
              "      <th>round_epochs</th>\n",
              "      <th>val_loss</th>\n",
              "      <th>val_accuracy</th>\n",
              "      <th>loss</th>\n",
              "      <th>accuracy</th>\n",
              "      <th>batch_size</th>\n",
              "      <th>dropout</th>\n",
              "      <th>epochs</th>\n",
              "      <th>lstm_neuron</th>\n",
              "      <th>optimizer</th>\n",
              "      <th>NaN</th>\n",
              "    </tr>\n",
              "  </thead>\n",
              "  <tbody>\n",
              "    <tr>\n",
              "      <th>34</th>\n",
              "      <td>5</td>\n",
              "      <td>0.023545</td>\n",
              "      <td>0.992484</td>\n",
              "      <td>0.001017</td>\n",
              "      <td>0.999940</td>\n",
              "      <td>64</td>\n",
              "      <td>0.4</td>\n",
              "      <td>5</td>\n",
              "      <td>300</td>\n",
              "      <td>adam</td>\n",
              "      <td>34</td>\n",
              "    </tr>\n",
              "    <tr>\n",
              "      <th>12</th>\n",
              "      <td>5</td>\n",
              "      <td>0.022243</td>\n",
              "      <td>0.992305</td>\n",
              "      <td>0.000510</td>\n",
              "      <td>0.999980</td>\n",
              "      <td>32</td>\n",
              "      <td>0.4</td>\n",
              "      <td>5</td>\n",
              "      <td>100</td>\n",
              "      <td>adam</td>\n",
              "      <td>12</td>\n",
              "    </tr>\n",
              "    <tr>\n",
              "      <th>26</th>\n",
              "      <td>5</td>\n",
              "      <td>0.021251</td>\n",
              "      <td>0.992305</td>\n",
              "      <td>0.000992</td>\n",
              "      <td>0.999980</td>\n",
              "      <td>64</td>\n",
              "      <td>0.3</td>\n",
              "      <td>5</td>\n",
              "      <td>200</td>\n",
              "      <td>adam</td>\n",
              "      <td>26</td>\n",
              "    </tr>\n",
              "    <tr>\n",
              "      <th>0</th>\n",
              "      <td>5</td>\n",
              "      <td>0.021540</td>\n",
              "      <td>0.992126</td>\n",
              "      <td>0.000477</td>\n",
              "      <td>0.999980</td>\n",
              "      <td>32</td>\n",
              "      <td>0.2</td>\n",
              "      <td>5</td>\n",
              "      <td>100</td>\n",
              "      <td>adam</td>\n",
              "      <td>0</td>\n",
              "    </tr>\n",
              "    <tr>\n",
              "      <th>6</th>\n",
              "      <td>5</td>\n",
              "      <td>0.022963</td>\n",
              "      <td>0.992126</td>\n",
              "      <td>0.000473</td>\n",
              "      <td>0.999980</td>\n",
              "      <td>32</td>\n",
              "      <td>0.3</td>\n",
              "      <td>5</td>\n",
              "      <td>100</td>\n",
              "      <td>adam</td>\n",
              "      <td>6</td>\n",
              "    </tr>\n",
              "    <tr>\n",
              "      <th>28</th>\n",
              "      <td>5</td>\n",
              "      <td>0.026252</td>\n",
              "      <td>0.991947</td>\n",
              "      <td>0.000873</td>\n",
              "      <td>0.999960</td>\n",
              "      <td>64</td>\n",
              "      <td>0.3</td>\n",
              "      <td>5</td>\n",
              "      <td>300</td>\n",
              "      <td>adam</td>\n",
              "      <td>28</td>\n",
              "    </tr>\n",
              "    <tr>\n",
              "      <th>30</th>\n",
              "      <td>5</td>\n",
              "      <td>0.025720</td>\n",
              "      <td>0.991768</td>\n",
              "      <td>0.002132</td>\n",
              "      <td>0.999861</td>\n",
              "      <td>64</td>\n",
              "      <td>0.4</td>\n",
              "      <td>5</td>\n",
              "      <td>100</td>\n",
              "      <td>adam</td>\n",
              "      <td>30</td>\n",
              "    </tr>\n",
              "    <tr>\n",
              "      <th>32</th>\n",
              "      <td>5</td>\n",
              "      <td>0.022883</td>\n",
              "      <td>0.991410</td>\n",
              "      <td>0.001024</td>\n",
              "      <td>0.999980</td>\n",
              "      <td>64</td>\n",
              "      <td>0.4</td>\n",
              "      <td>5</td>\n",
              "      <td>200</td>\n",
              "      <td>adam</td>\n",
              "      <td>32</td>\n",
              "    </tr>\n",
              "    <tr>\n",
              "      <th>24</th>\n",
              "      <td>5</td>\n",
              "      <td>0.023966</td>\n",
              "      <td>0.991231</td>\n",
              "      <td>0.001422</td>\n",
              "      <td>0.999940</td>\n",
              "      <td>64</td>\n",
              "      <td>0.3</td>\n",
              "      <td>5</td>\n",
              "      <td>100</td>\n",
              "      <td>adam</td>\n",
              "      <td>24</td>\n",
              "    </tr>\n",
              "    <tr>\n",
              "      <th>10</th>\n",
              "      <td>5</td>\n",
              "      <td>0.025552</td>\n",
              "      <td>0.991231</td>\n",
              "      <td>0.000234</td>\n",
              "      <td>0.999980</td>\n",
              "      <td>32</td>\n",
              "      <td>0.3</td>\n",
              "      <td>5</td>\n",
              "      <td>300</td>\n",
              "      <td>adam</td>\n",
              "      <td>10</td>\n",
              "    </tr>\n",
              "    <tr>\n",
              "      <th>14</th>\n",
              "      <td>5</td>\n",
              "      <td>0.027128</td>\n",
              "      <td>0.991231</td>\n",
              "      <td>0.000340</td>\n",
              "      <td>1.000000</td>\n",
              "      <td>32</td>\n",
              "      <td>0.4</td>\n",
              "      <td>5</td>\n",
              "      <td>200</td>\n",
              "      <td>adam</td>\n",
              "      <td>14</td>\n",
              "    </tr>\n",
              "    <tr>\n",
              "      <th>16</th>\n",
              "      <td>5</td>\n",
              "      <td>0.027375</td>\n",
              "      <td>0.990157</td>\n",
              "      <td>0.000246</td>\n",
              "      <td>1.000000</td>\n",
              "      <td>32</td>\n",
              "      <td>0.4</td>\n",
              "      <td>5</td>\n",
              "      <td>300</td>\n",
              "      <td>adam</td>\n",
              "      <td>16</td>\n",
              "    </tr>\n",
              "    <tr>\n",
              "      <th>18</th>\n",
              "      <td>5</td>\n",
              "      <td>0.026999</td>\n",
              "      <td>0.989442</td>\n",
              "      <td>0.001426</td>\n",
              "      <td>0.999960</td>\n",
              "      <td>64</td>\n",
              "      <td>0.2</td>\n",
              "      <td>5</td>\n",
              "      <td>100</td>\n",
              "      <td>adam</td>\n",
              "      <td>18</td>\n",
              "    </tr>\n",
              "    <tr>\n",
              "      <th>8</th>\n",
              "      <td>5</td>\n",
              "      <td>0.028756</td>\n",
              "      <td>0.989442</td>\n",
              "      <td>0.000361</td>\n",
              "      <td>1.000000</td>\n",
              "      <td>32</td>\n",
              "      <td>0.3</td>\n",
              "      <td>5</td>\n",
              "      <td>200</td>\n",
              "      <td>adam</td>\n",
              "      <td>8</td>\n",
              "    </tr>\n",
              "    <tr>\n",
              "      <th>4</th>\n",
              "      <td>5</td>\n",
              "      <td>0.033300</td>\n",
              "      <td>0.984789</td>\n",
              "      <td>0.000174</td>\n",
              "      <td>1.000000</td>\n",
              "      <td>32</td>\n",
              "      <td>0.2</td>\n",
              "      <td>5</td>\n",
              "      <td>300</td>\n",
              "      <td>adam</td>\n",
              "      <td>4</td>\n",
              "    </tr>\n",
              "    <tr>\n",
              "      <th>20</th>\n",
              "      <td>5</td>\n",
              "      <td>0.033638</td>\n",
              "      <td>0.982999</td>\n",
              "      <td>0.001058</td>\n",
              "      <td>0.999960</td>\n",
              "      <td>64</td>\n",
              "      <td>0.2</td>\n",
              "      <td>5</td>\n",
              "      <td>200</td>\n",
              "      <td>adam</td>\n",
              "      <td>20</td>\n",
              "    </tr>\n",
              "    <tr>\n",
              "      <th>22</th>\n",
              "      <td>5</td>\n",
              "      <td>0.033569</td>\n",
              "      <td>0.982999</td>\n",
              "      <td>0.000832</td>\n",
              "      <td>0.999940</td>\n",
              "      <td>64</td>\n",
              "      <td>0.2</td>\n",
              "      <td>5</td>\n",
              "      <td>300</td>\n",
              "      <td>adam</td>\n",
              "      <td>22</td>\n",
              "    </tr>\n",
              "    <tr>\n",
              "      <th>2</th>\n",
              "      <td>5</td>\n",
              "      <td>0.032737</td>\n",
              "      <td>0.982104</td>\n",
              "      <td>0.000247</td>\n",
              "      <td>0.999980</td>\n",
              "      <td>32</td>\n",
              "      <td>0.2</td>\n",
              "      <td>5</td>\n",
              "      <td>200</td>\n",
              "      <td>adam</td>\n",
              "      <td>2</td>\n",
              "    </tr>\n",
              "    <tr>\n",
              "      <th>7</th>\n",
              "      <td>5</td>\n",
              "      <td>0.545785</td>\n",
              "      <td>0.750000</td>\n",
              "      <td>0.549050</td>\n",
              "      <td>0.750000</td>\n",
              "      <td>32</td>\n",
              "      <td>0.3</td>\n",
              "      <td>5</td>\n",
              "      <td>100</td>\n",
              "      <td>sgd</td>\n",
              "      <td>7</td>\n",
              "    </tr>\n",
              "    <tr>\n",
              "      <th>33</th>\n",
              "      <td>5</td>\n",
              "      <td>0.561164</td>\n",
              "      <td>0.750000</td>\n",
              "      <td>0.563536</td>\n",
              "      <td>0.750000</td>\n",
              "      <td>64</td>\n",
              "      <td>0.4</td>\n",
              "      <td>5</td>\n",
              "      <td>200</td>\n",
              "      <td>sgd</td>\n",
              "      <td>33</td>\n",
              "    </tr>\n",
              "    <tr>\n",
              "      <th>3</th>\n",
              "      <td>5</td>\n",
              "      <td>0.547725</td>\n",
              "      <td>0.750000</td>\n",
              "      <td>0.550655</td>\n",
              "      <td>0.750000</td>\n",
              "      <td>32</td>\n",
              "      <td>0.2</td>\n",
              "      <td>5</td>\n",
              "      <td>200</td>\n",
              "      <td>sgd</td>\n",
              "      <td>3</td>\n",
              "    </tr>\n",
              "    <tr>\n",
              "      <th>31</th>\n",
              "      <td>5</td>\n",
              "      <td>0.556303</td>\n",
              "      <td>0.750000</td>\n",
              "      <td>0.558607</td>\n",
              "      <td>0.750000</td>\n",
              "      <td>64</td>\n",
              "      <td>0.4</td>\n",
              "      <td>5</td>\n",
              "      <td>100</td>\n",
              "      <td>sgd</td>\n",
              "      <td>31</td>\n",
              "    </tr>\n",
              "    <tr>\n",
              "      <th>29</th>\n",
              "      <td>5</td>\n",
              "      <td>0.560349</td>\n",
              "      <td>0.750000</td>\n",
              "      <td>0.562188</td>\n",
              "      <td>0.750000</td>\n",
              "      <td>64</td>\n",
              "      <td>0.3</td>\n",
              "      <td>5</td>\n",
              "      <td>300</td>\n",
              "      <td>sgd</td>\n",
              "      <td>29</td>\n",
              "    </tr>\n",
              "    <tr>\n",
              "      <th>5</th>\n",
              "      <td>5</td>\n",
              "      <td>0.553854</td>\n",
              "      <td>0.750000</td>\n",
              "      <td>0.555595</td>\n",
              "      <td>0.750000</td>\n",
              "      <td>32</td>\n",
              "      <td>0.2</td>\n",
              "      <td>5</td>\n",
              "      <td>300</td>\n",
              "      <td>sgd</td>\n",
              "      <td>5</td>\n",
              "    </tr>\n",
              "    <tr>\n",
              "      <th>27</th>\n",
              "      <td>5</td>\n",
              "      <td>0.561419</td>\n",
              "      <td>0.750000</td>\n",
              "      <td>0.563849</td>\n",
              "      <td>0.750000</td>\n",
              "      <td>64</td>\n",
              "      <td>0.3</td>\n",
              "      <td>5</td>\n",
              "      <td>200</td>\n",
              "      <td>sgd</td>\n",
              "      <td>27</td>\n",
              "    </tr>\n",
              "    <tr>\n",
              "      <th>13</th>\n",
              "      <td>5</td>\n",
              "      <td>0.550191</td>\n",
              "      <td>0.750000</td>\n",
              "      <td>0.552751</td>\n",
              "      <td>0.750000</td>\n",
              "      <td>32</td>\n",
              "      <td>0.4</td>\n",
              "      <td>5</td>\n",
              "      <td>100</td>\n",
              "      <td>sgd</td>\n",
              "      <td>13</td>\n",
              "    </tr>\n",
              "    <tr>\n",
              "      <th>25</th>\n",
              "      <td>5</td>\n",
              "      <td>0.559071</td>\n",
              "      <td>0.750000</td>\n",
              "      <td>0.562284</td>\n",
              "      <td>0.750000</td>\n",
              "      <td>64</td>\n",
              "      <td>0.3</td>\n",
              "      <td>5</td>\n",
              "      <td>100</td>\n",
              "      <td>sgd</td>\n",
              "      <td>25</td>\n",
              "    </tr>\n",
              "    <tr>\n",
              "      <th>11</th>\n",
              "      <td>5</td>\n",
              "      <td>0.554480</td>\n",
              "      <td>0.750000</td>\n",
              "      <td>0.556031</td>\n",
              "      <td>0.750000</td>\n",
              "      <td>32</td>\n",
              "      <td>0.3</td>\n",
              "      <td>5</td>\n",
              "      <td>300</td>\n",
              "      <td>sgd</td>\n",
              "      <td>11</td>\n",
              "    </tr>\n",
              "    <tr>\n",
              "      <th>23</th>\n",
              "      <td>5</td>\n",
              "      <td>0.560245</td>\n",
              "      <td>0.750000</td>\n",
              "      <td>0.562223</td>\n",
              "      <td>0.750000</td>\n",
              "      <td>64</td>\n",
              "      <td>0.2</td>\n",
              "      <td>5</td>\n",
              "      <td>300</td>\n",
              "      <td>sgd</td>\n",
              "      <td>23</td>\n",
              "    </tr>\n",
              "    <tr>\n",
              "      <th>21</th>\n",
              "      <td>5</td>\n",
              "      <td>0.560405</td>\n",
              "      <td>0.750000</td>\n",
              "      <td>0.562670</td>\n",
              "      <td>0.750000</td>\n",
              "      <td>64</td>\n",
              "      <td>0.2</td>\n",
              "      <td>5</td>\n",
              "      <td>200</td>\n",
              "      <td>sgd</td>\n",
              "      <td>21</td>\n",
              "    </tr>\n",
              "    <tr>\n",
              "      <th>19</th>\n",
              "      <td>5</td>\n",
              "      <td>0.556076</td>\n",
              "      <td>0.750000</td>\n",
              "      <td>0.557518</td>\n",
              "      <td>0.750000</td>\n",
              "      <td>64</td>\n",
              "      <td>0.2</td>\n",
              "      <td>5</td>\n",
              "      <td>100</td>\n",
              "      <td>sgd</td>\n",
              "      <td>19</td>\n",
              "    </tr>\n",
              "    <tr>\n",
              "      <th>1</th>\n",
              "      <td>5</td>\n",
              "      <td>0.545419</td>\n",
              "      <td>0.750000</td>\n",
              "      <td>0.548674</td>\n",
              "      <td>0.750000</td>\n",
              "      <td>32</td>\n",
              "      <td>0.2</td>\n",
              "      <td>5</td>\n",
              "      <td>100</td>\n",
              "      <td>sgd</td>\n",
              "      <td>1</td>\n",
              "    </tr>\n",
              "    <tr>\n",
              "      <th>17</th>\n",
              "      <td>5</td>\n",
              "      <td>0.551436</td>\n",
              "      <td>0.750000</td>\n",
              "      <td>0.553722</td>\n",
              "      <td>0.750000</td>\n",
              "      <td>32</td>\n",
              "      <td>0.4</td>\n",
              "      <td>5</td>\n",
              "      <td>300</td>\n",
              "      <td>sgd</td>\n",
              "      <td>17</td>\n",
              "    </tr>\n",
              "    <tr>\n",
              "      <th>9</th>\n",
              "      <td>5</td>\n",
              "      <td>0.549519</td>\n",
              "      <td>0.750000</td>\n",
              "      <td>0.551992</td>\n",
              "      <td>0.750000</td>\n",
              "      <td>32</td>\n",
              "      <td>0.3</td>\n",
              "      <td>5</td>\n",
              "      <td>200</td>\n",
              "      <td>sgd</td>\n",
              "      <td>9</td>\n",
              "    </tr>\n",
              "    <tr>\n",
              "      <th>15</th>\n",
              "      <td>5</td>\n",
              "      <td>0.551329</td>\n",
              "      <td>0.750000</td>\n",
              "      <td>0.553453</td>\n",
              "      <td>0.750000</td>\n",
              "      <td>32</td>\n",
              "      <td>0.4</td>\n",
              "      <td>5</td>\n",
              "      <td>200</td>\n",
              "      <td>sgd</td>\n",
              "      <td>15</td>\n",
              "    </tr>\n",
              "    <tr>\n",
              "      <th>35</th>\n",
              "      <td>5</td>\n",
              "      <td>0.559695</td>\n",
              "      <td>0.750000</td>\n",
              "      <td>0.561821</td>\n",
              "      <td>0.750000</td>\n",
              "      <td>64</td>\n",
              "      <td>0.4</td>\n",
              "      <td>5</td>\n",
              "      <td>300</td>\n",
              "      <td>sgd</td>\n",
              "      <td>35</td>\n",
              "    </tr>\n",
              "  </tbody>\n",
              "</table>\n",
              "</div>"
            ],
            "text/plain": [
              "    round_epochs  val_loss  val_accuracy  ...  lstm_neuron  optimizer  NaN\n",
              "34             5  0.023545      0.992484  ...          300       adam   34\n",
              "12             5  0.022243      0.992305  ...          100       adam   12\n",
              "26             5  0.021251      0.992305  ...          200       adam   26\n",
              "0              5  0.021540      0.992126  ...          100       adam    0\n",
              "6              5  0.022963      0.992126  ...          100       adam    6\n",
              "28             5  0.026252      0.991947  ...          300       adam   28\n",
              "30             5  0.025720      0.991768  ...          100       adam   30\n",
              "32             5  0.022883      0.991410  ...          200       adam   32\n",
              "24             5  0.023966      0.991231  ...          100       adam   24\n",
              "10             5  0.025552      0.991231  ...          300       adam   10\n",
              "14             5  0.027128      0.991231  ...          200       adam   14\n",
              "16             5  0.027375      0.990157  ...          300       adam   16\n",
              "18             5  0.026999      0.989442  ...          100       adam   18\n",
              "8              5  0.028756      0.989442  ...          200       adam    8\n",
              "4              5  0.033300      0.984789  ...          300       adam    4\n",
              "20             5  0.033638      0.982999  ...          200       adam   20\n",
              "22             5  0.033569      0.982999  ...          300       adam   22\n",
              "2              5  0.032737      0.982104  ...          200       adam    2\n",
              "7              5  0.545785      0.750000  ...          100        sgd    7\n",
              "33             5  0.561164      0.750000  ...          200        sgd   33\n",
              "3              5  0.547725      0.750000  ...          200        sgd    3\n",
              "31             5  0.556303      0.750000  ...          100        sgd   31\n",
              "29             5  0.560349      0.750000  ...          300        sgd   29\n",
              "5              5  0.553854      0.750000  ...          300        sgd    5\n",
              "27             5  0.561419      0.750000  ...          200        sgd   27\n",
              "13             5  0.550191      0.750000  ...          100        sgd   13\n",
              "25             5  0.559071      0.750000  ...          100        sgd   25\n",
              "11             5  0.554480      0.750000  ...          300        sgd   11\n",
              "23             5  0.560245      0.750000  ...          300        sgd   23\n",
              "21             5  0.560405      0.750000  ...          200        sgd   21\n",
              "19             5  0.556076      0.750000  ...          100        sgd   19\n",
              "1              5  0.545419      0.750000  ...          100        sgd    1\n",
              "17             5  0.551436      0.750000  ...          300        sgd   17\n",
              "9              5  0.549519      0.750000  ...          200        sgd    9\n",
              "15             5  0.551329      0.750000  ...          200        sgd   15\n",
              "35             5  0.559695      0.750000  ...          300        sgd   35\n",
              "\n",
              "[36 rows x 11 columns]"
            ]
          },
          "metadata": {
            "tags": []
          },
          "execution_count": 60
        }
      ]
    },
    {
      "cell_type": "code",
      "metadata": {
        "id": "4JUGLSxFPetR",
        "colab_type": "code",
        "colab": {
          "base_uri": "https://localhost:8080/",
          "height": 584
        },
        "outputId": "a402d1b8-89a5-4163-fa62-23be1ca8ca7a"
      },
      "source": [
        "analyze_object.plot_corr('val_accuracy', ['accuracy', 'loss', 'val_loss'])"
      ],
      "execution_count": 56,
      "outputs": [
        {
          "output_type": "display_data",
          "data": {
            "image/png": "[encoded data removed]",
            "text/plain": [
              "<Figure size 612x612 with 2 Axes>"
            ]
          },
          "metadata": {
            "tags": []
          }
        }
      ]
    },
    {
      "cell_type": "code",
      "metadata": {
        "id": "1T9iXIkhGgQ_",
        "colab_type": "code",
        "outputId": "578f99de-f849-4850-beb7-9e9b1ca8e218",
        "colab": {
          "base_uri": "https://localhost:8080/",
          "height": 187
        }
      },
      "source": [
        "evaluate_object = talos.Evaluate(scan_results)\n",
        "evaluate_object.evaluate(lstm_train_padded, y_lstm_train, folds=10, metric='val_accuracy', task='multi_label')"
      ],
      "execution_count": 88,
      "outputs": [
        {
          "output_type": "execute_result",
          "data": {
            "text/plain": [
              "[0.995109803754991,\n",
              " 0.9984493104841037,\n",
              " 0.9959322060803928,\n",
              " 0.9976339222403846,\n",
              " 0.9961017480199066,\n",
              " 0.9960196423373369,\n",
              " 0.9967350400169608,\n",
              " 0.9992263887396583,\n",
              " 0.9976701277088383,\n",
              " 0.9957772315159525]"
            ]
          },
          "metadata": {
            "tags": []
          },
          "execution_count": 88
        }
      ]
    },
    {
      "cell_type": "code",
      "metadata": {
        "id": "6IXCN-FPHD2Q",
        "colab_type": "code",
        "outputId": "56867bad-aa3b-4c83-e976-2012c673e002",
        "colab": {
          "base_uri": "https://localhost:8080/",
          "height": 34
        }
      },
      "source": [
        "talos.Deploy(scan_object=scan_results, model_name='lstm_deploy_2', metric='val_accuracy');"
      ],
      "execution_count": 89,
      "outputs": [
        {
          "output_type": "stream",
          "text": [
            "Deploy package lstm_deploy_2 have been saved.\n"
          ],
          "name": "stdout"
        }
      ]
    },
    {
      "cell_type": "code",
      "metadata": {
        "id": "E6R8c2ZpVrwa",
        "colab_type": "code",
        "colab": {
          "base_uri": "https://localhost:8080/",
          "height": 187
        },
        "outputId": "9c1b8bd6-986d-4516-a12f-d7facfb9f13b"
      },
      "source": [
        "!ls -al"
      ],
      "execution_count": 90,
      "outputs": [
        {
          "output_type": "stream",
          "text": [
            "total 21664\n",
            "drwxr-xr-x 1 root root     4096 Jun 11 05:27  .\n",
            "drwxr-xr-x 1 root root     4096 Jun 11 00:44  ..\n",
            "drwxr-xr-x 1 root root     4096 Jun  8 16:15  .config\n",
            "-rw-r--r-- 1 root root   537182 Jun 11 00:47  dw_customer_5000.csv\n",
            "drwxr-xr-x 2 root root     4096 Jun 11 03:07  lstm_deploy\n",
            "-rw-r--r-- 1 root root  1437849 Jun 11 05:27  lstm_deploy_2.zip\n",
            "-rw-r--r-- 1 root root 20176860 Jun 11 03:04  lstm_deploy.zip\n",
            "drwxr-xr-x 1 root root     4096 May 29 18:19  sample_data\n",
            "drwxr-xr-x 2 root root     4096 Jun 11 04:40 'Tuning LSTM Model'\n"
          ],
          "name": "stdout"
        }
      ]
    },
    {
      "cell_type": "code",
      "metadata": {
        "id": "FN1qzAfvWFdG",
        "colab_type": "code",
        "colab": {}
      },
      "source": [
        "lstm_model = talos.Restore('lstm_deploy_2.zip')"
      ],
      "execution_count": 0,
      "outputs": []
    },
    {
      "cell_type": "code",
      "metadata": {
        "id": "LsUL9-hNWJpy",
        "colab_type": "code",
        "colab": {
          "base_uri": "https://localhost:8080/",
          "height": 34
        },
        "outputId": "487c329b-c383-4540-e245-ee22e8728d9f"
      },
      "source": [
        "lstm_predict = lstm_model.model.predict(lstm_test)"
      ],
      "execution_count": 77,
      "outputs": [
        {
          "output_type": "execute_result",
          "data": {
            "text/plain": [
              "keras.engine.sequential.Sequential"
            ]
          },
          "metadata": {
            "tags": []
          },
          "execution_count": 77
        }
      ]
    },
    {
      "cell_type": "code",
      "metadata": {
        "id": "ZXY5fiGVWcXT",
        "colab_type": "code",
        "colab": {
          "base_uri": "https://localhost:8080/",
          "height": 102
        },
        "outputId": "e9d46861-88d3-4745-bf2c-150d91e33937"
      },
      "source": [
        "lstm_model.params"
      ],
      "execution_count": 70,
      "outputs": [
        {
          "output_type": "execute_result",
          "data": {
            "text/plain": [
              "{'batch_size': [32, 64],\n",
              " 'dropout': [0.2, 0.3, 0.4],\n",
              " 'epochs': [5],\n",
              " 'lstm_neuron': [100, 200, 300],\n",
              " 'optimizer': ['adam', 'sgd']}"
            ]
          },
          "metadata": {
            "tags": []
          },
          "execution_count": 70
        }
      ]
    },
    {
      "cell_type": "code",
      "metadata": {
        "id": "LX-9jGrwXS7K",
        "colab_type": "code",
        "colab": {
          "base_uri": "https://localhost:8080/",
          "height": 119
        },
        "outputId": "339d1d19-c294-404b-c977-2bbcb721960f"
      },
      "source": [
        "predict_wordss = ['naufal ihsan pratama','jl juraganan rt 01 no 25','wanita','bahy helmi','vivin febriyanti','pejaten timur pasar minggu']\n",
        "\n",
        "tokens = tokenizer.texts_to_sequences(predict_wordss)\n",
        "pad_seq = sequence.pad_sequences(tokens, maxlen=max_seq_word)\n",
        "result = lstm_model.model.predict(pad_seq)\n",
        "\n",
        "labels = ['alamat','gender','nama','ttl']\n",
        "\n",
        "for r in range(len(result)):\n",
        "  print(predict_wordss[r], labels[np.argmax(result[r])])"
      ],
      "execution_count": 106,
      "outputs": [
        {
          "output_type": "stream",
          "text": [
            "naufal ihsan pratama nama\n",
            "jl juraganan rt 01 no 25 alamat\n",
            "wanita gender\n",
            "bahy helmi nama\n",
            "vivin febriyanti nama\n",
            "pejaten timur pasar minggu alamat\n"
          ],
          "name": "stdout"
        }
      ]
    },
    {
      "cell_type": "code",
      "metadata": {
        "id": "CQjqD0LwZpMx",
        "colab_type": "code",
        "colab": {
          "base_uri": "https://localhost:8080/",
          "height": 102
        },
        "outputId": "514ba4b5-7ad6-49eb-9f3f-4410c6ae2890"
      },
      "source": [
        "result"
      ],
      "execution_count": 81,
      "outputs": [
        {
          "output_type": "execute_result",
          "data": {
            "text/plain": [
              "array([[2.8729439e-05, 4.9471855e-06, 9.9997002e-01, 2.7930737e-04],\n",
              "       [9.9998635e-01, 2.5629997e-06, 1.7881393e-07, 3.8430095e-04],\n",
              "       [7.7188015e-05, 9.9998665e-01, 7.8916550e-05, 3.0398369e-06],\n",
              "       [7.7593625e-03, 1.7642975e-03, 9.6139884e-01, 4.2617321e-05]],\n",
              "      dtype=float32)"
            ]
          },
          "metadata": {
            "tags": []
          },
          "execution_count": 81
        }
      ]
    },
    {
      "cell_type": "markdown",
      "metadata": {
        "id": "Jt3r-Bdfwvrl",
        "colab_type": "text"
      },
      "source": [
        "Download Models"
      ]
    },
    {
      "cell_type": "code",
      "metadata": {
        "id": "bOUFhyXWwylG",
        "colab_type": "code",
        "colab": {
          "base_uri": "https://localhost:8080/",
          "height": 198
        },
        "outputId": "fbb1420d-af6a-4c3a-923f-bfe3521c008b"
      },
      "source": [
        "from joblib import dump\n",
        "\n",
        "downloads = [(count_vect,'count_vect.joblib'), (encoder,'encoder.joblib'), (mnb,'mnb.joblib')]"
      ],
      "execution_count": 102,
      "outputs": [
        {
          "output_type": "error",
          "ename": "NameError",
          "evalue": "ignored",
          "traceback": [
            "\u001b[0;31m---------------------------------------------------------------------------\u001b[0m",
            "\u001b[0;31mNameError\u001b[0m                                 Traceback (most recent call last)",
            "\u001b[0;32m<ipython-input-102-ae17b6d098c8>\u001b[0m in \u001b[0;36m<module>\u001b[0;34m()\u001b[0m\n\u001b[1;32m      1\u001b[0m \u001b[0;32mfrom\u001b[0m \u001b[0mjoblib\u001b[0m \u001b[0;32mimport\u001b[0m \u001b[0mdump\u001b[0m\u001b[0;34m\u001b[0m\u001b[0;34m\u001b[0m\u001b[0m\n\u001b[1;32m      2\u001b[0m \u001b[0;34m\u001b[0m\u001b[0m\n\u001b[0;32m----> 3\u001b[0;31m \u001b[0mdownloads\u001b[0m \u001b[0;34m=\u001b[0m \u001b[0;34m[\u001b[0m\u001b[0;34m(\u001b[0m\u001b[0mcount_vect\u001b[0m\u001b[0;34m,\u001b[0m\u001b[0;34m'count_vect.joblib'\u001b[0m\u001b[0;34m)\u001b[0m\u001b[0;34m,\u001b[0m \u001b[0;34m(\u001b[0m\u001b[0mencoder\u001b[0m\u001b[0;34m,\u001b[0m\u001b[0;34m'encoder.joblib'\u001b[0m\u001b[0;34m)\u001b[0m\u001b[0;34m,\u001b[0m \u001b[0;34m(\u001b[0m\u001b[0mmnb\u001b[0m\u001b[0;34m,\u001b[0m\u001b[0;34m'mnb.joblib'\u001b[0m\u001b[0;34m)\u001b[0m\u001b[0;34m]\u001b[0m\u001b[0;34m\u001b[0m\u001b[0;34m\u001b[0m\u001b[0m\n\u001b[0m",
            "\u001b[0;31mNameError\u001b[0m: name 'count_vect' is not defined"
          ]
        }
      ]
    },
    {
      "cell_type": "code",
      "metadata": {
        "id": "LDxE__nWxMxF",
        "colab_type": "code",
        "colab": {}
      },
      "source": [
        "for obj,file_name in downloads:\n",
        "  dump(obj, file_name)\n",
        "  files.download(file_name)"
      ],
      "execution_count": 0,
      "outputs": []
    },
    {
      "cell_type": "code",
      "metadata": {
        "id": "HSsCxcHlr5op",
        "colab_type": "code",
        "colab": {}
      },
      "source": [
        "from google.colab import files\n",
        "\n",
        "files.download('lstm_deploy_2.zip')"
      ],
      "execution_count": 0,
      "outputs": []
    },
    {
      "cell_type": "code",
      "metadata": {
        "id": "it_CgiMBr8HK",
        "colab_type": "code",
        "colab": {
          "base_uri": "https://localhost:8080/",
          "height": 34
        },
        "outputId": "6ca7fe9a-72e7-4086-f6a6-22a7890617c4"
      },
      "source": [
        "dump(tokenizer,'tokenizer.joblib')"
      ],
      "execution_count": 103,
      "outputs": [
        {
          "output_type": "execute_result",
          "data": {
            "text/plain": [
              "['tokenizer.joblib']"
            ]
          },
          "metadata": {
            "tags": []
          },
          "execution_count": 103
        }
      ]
    },
    {
      "cell_type": "code",
      "metadata": {
        "id": "eWEyeSZwAU-y",
        "colab_type": "code",
        "colab": {}
      },
      "source": [
        "files.download('tokenizer.joblib')"
      ],
      "execution_count": 0,
      "outputs": []
    },
    {
      "cell_type": "code",
      "metadata": {
        "id": "T6n9ci_HAaHy",
        "colab_type": "code",
        "colab": {}
      },
      "source": [
        ""
      ],
      "execution_count": 0,
      "outputs": []
    }
  ]
}